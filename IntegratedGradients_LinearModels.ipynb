{
 "cells": [
  {
   "cell_type": "code",
   "execution_count": 1,
   "id": "sound-colleague",
   "metadata": {},
   "outputs": [],
   "source": [
    "# (Average absolute) integrated gradients, designed specifically for the linear setting"
   ]
  },
  {
   "cell_type": "code",
   "execution_count": 8,
   "id": "sitting-contractor",
   "metadata": {},
   "outputs": [],
   "source": [
    "import numpy as np\n",
    "import torch\n",
    "from bootstrapCoefficients import bootstrapCis\n",
    "from analyticLinearRegressionCIs import analyticLinearCis\n",
    "from DataGeneration import default_data, linearRegression_normal\n",
    "from sklearn.linear_model import LinearRegression\n",
    "from torch_linear import TorchLinear\n",
    "from IG_linearModels import integratedGradients_Linear, bootstrapIntegratedGradients_Linear, integratedGradients_LinearAnalytical"
   ]
  },
  {
   "cell_type": "code",
   "execution_count": 2,
   "id": "specified-frederick",
   "metadata": {},
   "outputs": [],
   "source": [
    "X, y = default_data()"
   ]
  },
  {
   "cell_type": "code",
   "execution_count": 4,
   "id": "occasional-thread",
   "metadata": {},
   "outputs": [
    {
     "name": "stdout",
     "output_type": "stream",
     "text": [
      "Coefficients: [0.87926184 1.03054813]\n",
      "Integrated gradients: [0.71652237 0.80864391]\n",
      "Bootstrapping\n",
      "Lower bounds: [0.59238665 0.69338713] \n",
      "Upper bounds: [0.83496051 0.92562656]\n",
      "Analytical\n",
      "Lower bounds: [0.59570032 0.68685013] \n",
      "Upper bounds: [0.83734441 0.93043768]\n"
     ]
    }
   ],
   "source": [
    "LR = LinearRegression()\n",
    "LR.fit(X, y)\n",
    "print(\"Coefficients:\", LR.coef_)\n",
    "print(\"Integrated gradients:\", integratedGradients_Linear(LR.coef_, X))\n",
    "\n",
    "print(\"Bootstrapping\")\n",
    "lcb_LR, ucb_LR = bootstrapIntegratedGradients_Linear(LinearRegression, X, y, alpha=0.05, replicates=1000)\n",
    "print(\"Lower bounds:\", lcb_LR, \"\\nUpper bounds:\", ucb_LR)\n",
    "\n",
    "print(\"Analytical\")\n",
    "lcb_LR_a, ucb_LR_a = integratedGradients_LinearAnalytical(LR, X, y, alpha=0.05)\n",
    "print(\"Lower bounds:\", lcb_LR_a, \"\\nUpper bounds:\", ucb_LR_a)"
   ]
  },
  {
   "cell_type": "code",
   "execution_count": 6,
   "id": "appropriate-access",
   "metadata": {},
   "outputs": [
    {
     "name": "stdout",
     "output_type": "stream",
     "text": [
      "Coefficients: [0.8757712 1.0340301]\n",
      "Integrated gradients: [0.71367781 0.8113761 ]\n",
      "Bootstrapping\n",
      "Lower bounds: [0.59363838 0.68793554] \n",
      "Upper bounds: [0.85119174 0.91294926]\n",
      "Analytical\n",
      "Lower bounds: [0.59285476 0.6895813 ] \n",
      "Upper bounds: [0.83450087 0.9331709 ]\n"
     ]
    }
   ],
   "source": [
    "TL = TorchLinear(lr=0.003)\n",
    "TL.fit(X,y)\n",
    "\n",
    "print(\"Coefficients:\", TL.coef_)\n",
    "print(\"Integrated gradients:\", integratedGradients_Linear(TL.coef_, X))\n",
    "\n",
    "# Takes ~4min\n",
    "print(\"Bootstrapping\")\n",
    "lcb_TL, ucb_TL = bootstrapIntegratedGradients_Linear(lambda:TorchLinear(lr=0.003), X=X, y=y, alpha=0.05, replicates=1000)\n",
    "print(\"Lower bounds:\", lcb_TL, \"\\nUpper bounds:\", ucb_TL)\n",
    "\n",
    "print(\"Analytical\")\n",
    "lcb_TL_a, ucb_TL_a = integratedGradients_LinearAnalytical(TL, X, y, alpha=0.05)\n",
    "print(\"Lower bounds:\", lcb_TL_a, \"\\nUpper bounds:\", ucb_TL_a)"
   ]
  },
  {
   "cell_type": "code",
   "execution_count": 9,
   "id": "lasting-minnesota",
   "metadata": {},
   "outputs": [],
   "source": [
    "# Do an example where the coefficient CI's cross zero:\n",
    "X, y = linearRegression_normal(beta=np.array([0, 1]).T,\n",
    "                               cov=np.array([[1, 0.5],[0.5, 1]]),\n",
    "                               sigma=1,\n",
    "                               n=200)"
   ]
  },
  {
   "cell_type": "code",
   "execution_count": 10,
   "id": "innovative-mississippi",
   "metadata": {},
   "outputs": [
    {
     "name": "stdout",
     "output_type": "stream",
     "text": [
      "Coefficients: [0.03721556 0.93328869]\n",
      "Coefficient CI's (analytical) \n",
      "Lower bounds: [-0.15629649  0.75380299] \n",
      "Upper bounds: [0.23222759 1.13138176]\n",
      "Integrated gradients: [0.02866183 0.71458718]\n",
      "Bootstrapping\n",
      "Lower bounds: [0.00287807 0.57841962] \n",
      "Upper bounds: [0.18832319 0.85080809]\n",
      "Analytical\n",
      "Lower bounds: [0.         0.57354737] \n",
      "Upper bounds: [0.16505718 0.855627  ]\n"
     ]
    }
   ],
   "source": [
    "LR = LinearRegression()\n",
    "LR.fit(X, y)\n",
    "print(\"Coefficients:\", LR.coef_)\n",
    "lcb_LR_coef, ucb_LR_coef = bootstrapCis(LinearRegression, X, y, alpha=0.05, replicates=1000)\n",
    "print(\"Coefficient CI's (analytical)\", \"\\nLower bounds:\", lcb_LR_coef, \"\\nUpper bounds:\", ucb_LR_coef)\n",
    "\n",
    "print(\"Integrated gradients:\", integratedGradients_Linear(LR.coef_, X))\n",
    "\n",
    "print(\"Bootstrapping\")\n",
    "lcb_LR, ucb_LR = bootstrapIntegratedGradients_Linear(LinearRegression, X, y, alpha=0.05, replicates=1000)\n",
    "print(\"Lower bounds:\", lcb_LR, \"\\nUpper bounds:\", ucb_LR)\n",
    "\n",
    "print(\"Analytical\")\n",
    "lcb_LR_a, ucb_LR_a = integratedGradients_LinearAnalytical(LR, X, y, alpha=0.05)\n",
    "print(\"Lower bounds:\", lcb_LR_a, \"\\nUpper bounds:\", ucb_LR_a)"
   ]
  },
  {
   "cell_type": "code",
   "execution_count": 11,
   "id": "broken-henry",
   "metadata": {},
   "outputs": [],
   "source": [
    "# And an example where the coefficient CI's are negative:\n",
    "X, y = linearRegression_normal(beta=np.array([-1, 1]).T,\n",
    "                               cov=np.array([[1, 0.5],[0.5, 1]]),\n",
    "                               sigma=1,\n",
    "                               n=200)"
   ]
  },
  {
   "cell_type": "code",
   "execution_count": 12,
   "id": "sufficient-scholar",
   "metadata": {},
   "outputs": [
    {
     "name": "stdout",
     "output_type": "stream",
     "text": [
      "Coefficients: [-1.02193332  1.07670808]\n",
      "Coefficient CI's (analytical) \n",
      "Lower bounds: [-1.15766747  0.91507679] \n",
      "Upper bounds: [-0.87259576  1.23656285]\n",
      "Integrated gradients: [0.81625997 0.8723167 ]\n",
      "Bootstrapping\n",
      "Lower bounds: [0.69702688 0.74292993] \n",
      "Upper bounds: [0.93372586 1.00023325]\n",
      "Analytical\n",
      "Lower bounds: [0.6903398  0.74723863] \n",
      "Upper bounds: [0.94218014 0.99739477]\n"
     ]
    }
   ],
   "source": [
    "LR = LinearRegression()\n",
    "LR.fit(X, y)\n",
    "print(\"Coefficients:\", LR.coef_)\n",
    "lcb_LR_coef, ucb_LR_coef = bootstrapCis(LinearRegression, X, y, alpha=0.05, replicates=1000)\n",
    "print(\"Coefficient CI's (analytical)\", \"\\nLower bounds:\", lcb_LR_coef, \"\\nUpper bounds:\", ucb_LR_coef)\n",
    "\n",
    "print(\"Integrated gradients:\", integratedGradients_Linear(LR.coef_, X))\n",
    "\n",
    "print(\"Bootstrapping\")\n",
    "lcb_LR, ucb_LR = bootstrapIntegratedGradients_Linear(LinearRegression, X, y, alpha=0.05, replicates=1000)\n",
    "print(\"Lower bounds:\", lcb_LR, \"\\nUpper bounds:\", ucb_LR)\n",
    "\n",
    "print(\"Analytical\")\n",
    "lcb_LR_a, ucb_LR_a = integratedGradients_LinearAnalytical(LR, X, y, alpha=0.05)\n",
    "print(\"Lower bounds:\", lcb_LR_a, \"\\nUpper bounds:\", ucb_LR_a)"
   ]
  },
  {
   "cell_type": "code",
   "execution_count": null,
   "id": "personalized-commissioner",
   "metadata": {},
   "outputs": [],
   "source": []
  }
 ],
 "metadata": {
  "kernelspec": {
   "display_name": "Python 3",
   "language": "python",
   "name": "python3"
  },
  "language_info": {
   "codemirror_mode": {
    "name": "ipython",
    "version": 3
   },
   "file_extension": ".py",
   "mimetype": "text/x-python",
   "name": "python",
   "nbconvert_exporter": "python",
   "pygments_lexer": "ipython3",
   "version": "3.8.8"
  }
 },
 "nbformat": 4,
 "nbformat_minor": 5
}
