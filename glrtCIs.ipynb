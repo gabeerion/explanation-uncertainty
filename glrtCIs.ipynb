{
 "cells": [
  {
   "cell_type": "markdown",
   "id": "silver-falls",
   "metadata": {},
   "source": [
    "# Torch GLRT Confidence Intervals\n",
    "\n",
    "Use GLRT and attribution regularization to calculate CIs for attributions of a Torch model.\n",
    "\n",
    "Demonstrated here with an OLS model.\n",
    "\n",
    "The GLRT results should not match bootstrap and analytic for two reasons:\n",
    "* I'm not sure the GLRT torch code is perfect yet\n",
    "* Attributions are generally strictly positive, unlike regression coefficients"
   ]
  },
  {
   "cell_type": "code",
   "execution_count": 1,
   "id": "piano-deadline",
   "metadata": {},
   "outputs": [],
   "source": [
    "import numpy as np\n",
    "import torch\n",
    "from bootstrapCoefficients import bootstrapCis\n",
    "from analyticLinearRegressionCIs import analyticLinearCis\n",
    "from glrtTorch import glrtTorchCis\n",
    "from DataGeneration import default_data\n",
    "from sklearn.linear_model import LinearRegression\n",
    "from torch_linear import TorchLinear"
   ]
  },
  {
   "cell_type": "code",
   "execution_count": 2,
   "id": "imposed-technique",
   "metadata": {},
   "outputs": [],
   "source": [
    "X, y = default_data()"
   ]
  },
  {
   "cell_type": "markdown",
   "id": "correct-template",
   "metadata": {},
   "source": [
    "## Sklearn model\n",
    "Bootstrap and analytic results"
   ]
  },
  {
   "cell_type": "code",
   "execution_count": 4,
   "id": "ranking-wagon",
   "metadata": {},
   "outputs": [
    {
     "name": "stdout",
     "output_type": "stream",
     "text": [
      "Coefficients: [0.99906024 1.02556399]\n",
      "Bootstrapping\n",
      "Lower bounds: [0.85987423 0.86049457] \n",
      "Upper bounds: [1.13705651 1.17785711]\n",
      "Analytic solution\n",
      "Lower bounds: [0.85619486 0.86764879] \n",
      "Upper bounds: [1.14192561 1.18347918]\n"
     ]
    }
   ],
   "source": [
    "LR = LinearRegression()\n",
    "LR.fit(X, y)\n",
    "print(\"Coefficients:\", LR.coef_)\n",
    "\n",
    "print(\"Bootstrapping\")\n",
    "lcb_LR, ucb_LR = bootstrapCis(LinearRegression, X, y, alpha=0.05, replicates=1000)\n",
    "print(\"Lower bounds:\", lcb_LR, \"\\nUpper bounds:\", ucb_LR)\n",
    "\n",
    "print(\"Analytic solution\")\n",
    "lcb_LR_a, ucb_LR_a = analyticLinearCis(LR, X, y, alpha=0.05)\n",
    "print(\"Lower bounds:\", lcb_LR_a, \"\\nUpper bounds:\", ucb_LR_a)"
   ]
  },
  {
   "cell_type": "markdown",
   "id": "lyric-short",
   "metadata": {},
   "source": [
    "# Torch model\n",
    "Bootstrap and analytic results"
   ]
  },
  {
   "cell_type": "code",
   "execution_count": 4,
   "id": "sorted-german",
   "metadata": {},
   "outputs": [
    {
     "name": "stdout",
     "output_type": "stream",
     "text": [
      "Bootstrapping\n",
      "Lower bounds: [0.80575109 0.88677126] \n",
      "Upper bounds: [1.06291306 1.20051801]\n",
      "Analytic solution\n",
      "Lower bounds: [0.79458542 0.87648867] \n",
      "Upper bounds: [1.08140473 1.18232514]\n"
     ]
    }
   ],
   "source": [
    "TL = TorchLinear(lr=0.003)\n",
    "TL.fit(X,y)\n",
    "# Takes ~4min\n",
    "print(\"Bootstrapping\")\n",
    "lcb_TL, ucb_TL = bootstrapCis(lambda:TorchLinear(lr=0.003), X=X, y=y, alpha=0.05, replicates=1000)\n",
    "print(\"Lower bounds:\", lcb_TL, \"\\nUpper bounds:\", ucb_TL)\n",
    "\n",
    "print(\"Analytic solution\")\n",
    "lcb_TL_a, ucb_TL_a = analyticLinearCis(TL, X, y, alpha=0.05)\n",
    "print(\"Lower bounds:\", lcb_TL_a, \"\\nUpper bounds:\", ucb_TL_a)"
   ]
  },
  {
   "cell_type": "markdown",
   "id": "double-captain",
   "metadata": {},
   "source": [
    "GLRT Results"
   ]
  },
  {
   "cell_type": "code",
   "execution_count": 3,
   "id": "applied-spiritual",
   "metadata": {},
   "outputs": [
    {
     "name": "stdout",
     "output_type": "stream",
     "text": [
      "GLRT\n"
     ]
    },
    {
     "ename": "TypeError",
     "evalue": "only integer scalar arrays can be converted to a scalar index",
     "output_type": "error",
     "traceback": [
      "\u001b[0;31m---------------------------------------------------------------------------\u001b[0m",
      "\u001b[0;31mTypeError\u001b[0m                                 Traceback (most recent call last)",
      "\u001b[0;32m<ipython-input-3-59c682e5a1e9>\u001b[0m in \u001b[0;36m<module>\u001b[0;34m\u001b[0m\n\u001b[1;32m      2\u001b[0m \u001b[0mTL\u001b[0m\u001b[0;34m.\u001b[0m\u001b[0mfit\u001b[0m\u001b[0;34m(\u001b[0m\u001b[0mX\u001b[0m\u001b[0;34m,\u001b[0m\u001b[0my\u001b[0m\u001b[0;34m)\u001b[0m\u001b[0;34m\u001b[0m\u001b[0;34m\u001b[0m\u001b[0m\n\u001b[1;32m      3\u001b[0m \u001b[0mprint\u001b[0m\u001b[0;34m(\u001b[0m\u001b[0;34m\"GLRT\"\u001b[0m\u001b[0;34m)\u001b[0m\u001b[0;34m\u001b[0m\u001b[0;34m\u001b[0m\u001b[0m\n\u001b[0;32m----> 4\u001b[0;31m \u001b[0mlcb_GLRT\u001b[0m\u001b[0;34m,\u001b[0m \u001b[0mucb_GLRT\u001b[0m\u001b[0;34m,\u001b[0m \u001b[0mlcb_Reults\u001b[0m\u001b[0;34m,\u001b[0m \u001b[0mucb_Results\u001b[0m \u001b[0;34m=\u001b[0m \u001b[0mglrtTorchCis\u001b[0m\u001b[0;34m(\u001b[0m\u001b[0;32mlambda\u001b[0m\u001b[0;34m:\u001b[0m\u001b[0mTorchLinear\u001b[0m\u001b[0;34m(\u001b[0m\u001b[0mlr\u001b[0m\u001b[0;34m=\u001b[0m\u001b[0;36m0.003\u001b[0m\u001b[0;34m)\u001b[0m\u001b[0;34m,\u001b[0m \u001b[0mX\u001b[0m\u001b[0;34m=\u001b[0m\u001b[0mX\u001b[0m\u001b[0;34m,\u001b[0m \u001b[0my\u001b[0m\u001b[0;34m=\u001b[0m\u001b[0my\u001b[0m\u001b[0;34m,\u001b[0m \u001b[0malpha\u001b[0m\u001b[0;34m=\u001b[0m\u001b[0;36m0.05\u001b[0m\u001b[0;34m,\u001b[0m\u001b[0msearch_kwargs\u001b[0m\u001b[0;34m=\u001b[0m\u001b[0;34m{\u001b[0m\u001b[0;34m'lmbds'\u001b[0m\u001b[0;34m:\u001b[0m\u001b[0mnp\u001b[0m\u001b[0;34m.\u001b[0m\u001b[0mlogspace\u001b[0m\u001b[0;34m(\u001b[0m\u001b[0;34m-\u001b[0m\u001b[0;36m10\u001b[0m\u001b[0;34m,\u001b[0m\u001b[0;36m10\u001b[0m\u001b[0;34m,\u001b[0m\u001b[0;36m101\u001b[0m\u001b[0;34m)\u001b[0m\u001b[0;34m}\u001b[0m\u001b[0;34m)\u001b[0m\u001b[0;34m\u001b[0m\u001b[0;34m\u001b[0m\u001b[0m\n\u001b[0m\u001b[1;32m      5\u001b[0m \u001b[0mprint\u001b[0m\u001b[0;34m(\u001b[0m\u001b[0;34m\"Lower bounds:\"\u001b[0m\u001b[0;34m,\u001b[0m \u001b[0mlcb_GLRT\u001b[0m\u001b[0;34m,\u001b[0m \u001b[0;34m\"\\nUpper bounds:\"\u001b[0m\u001b[0;34m,\u001b[0m \u001b[0mucb_GLRT\u001b[0m\u001b[0;34m)\u001b[0m\u001b[0;34m\u001b[0m\u001b[0;34m\u001b[0m\u001b[0m\n",
      "\u001b[0;32m~/projects/explanation-uncertainty/glrtTorch.py\u001b[0m in \u001b[0;36mglrtTorchCis\u001b[0;34m(modelFn, X, y, alpha, bootstrap_kwargs, search_kwargs, fit_kwargs)\u001b[0m\n\u001b[1;32m     19\u001b[0m     \u001b[0mlcb_all_results\u001b[0m\u001b[0;34m,\u001b[0m \u001b[0mucb_all_results\u001b[0m \u001b[0;34m=\u001b[0m \u001b[0;34m[\u001b[0m\u001b[0;34m]\u001b[0m\u001b[0;34m,\u001b[0m \u001b[0;34m[\u001b[0m\u001b[0;34m]\u001b[0m\u001b[0;34m\u001b[0m\u001b[0;34m\u001b[0m\u001b[0m\n\u001b[1;32m     20\u001b[0m     \u001b[0;32mfor\u001b[0m \u001b[0midx\u001b[0m \u001b[0;32min\u001b[0m \u001b[0mrange\u001b[0m\u001b[0;34m(\u001b[0m\u001b[0mX\u001b[0m\u001b[0;34m.\u001b[0m\u001b[0mshape\u001b[0m\u001b[0;34m[\u001b[0m\u001b[0;36m1\u001b[0m\u001b[0;34m]\u001b[0m\u001b[0;34m)\u001b[0m\u001b[0;34m:\u001b[0m\u001b[0;34m\u001b[0m\u001b[0;34m\u001b[0m\u001b[0m\n\u001b[0;32m---> 21\u001b[0;31m         \u001b[0mucb_Coef\u001b[0m\u001b[0;34m,\u001b[0m \u001b[0mucb_Results\u001b[0m \u001b[0;34m=\u001b[0m \u001b[0mgetBoundary\u001b[0m\u001b[0;34m(\u001b[0m\u001b[0mmodelFn\u001b[0m\u001b[0;34m,\u001b[0m\u001b[0mX\u001b[0m\u001b[0;34m,\u001b[0m\u001b[0my\u001b[0m\u001b[0;34m,\u001b[0m\u001b[0midx\u001b[0m\u001b[0;34m,\u001b[0m\u001b[0mucb\u001b[0m\u001b[0;34m=\u001b[0m\u001b[0mucb_LR\u001b[0m\u001b[0;34m,\u001b[0m\u001b[0mobj\u001b[0m\u001b[0;34m=\u001b[0m\u001b[0mhighCoefObj\u001b[0m\u001b[0;34m,\u001b[0m\u001b[0mreduction\u001b[0m\u001b[0;34m=\u001b[0m\u001b[0mnp\u001b[0m\u001b[0;34m.\u001b[0m\u001b[0mmax\u001b[0m\u001b[0;34m,\u001b[0m\u001b[0mfit_kwargs\u001b[0m\u001b[0;34m=\u001b[0m\u001b[0mfit_kwargs\u001b[0m\u001b[0;34m,\u001b[0m\u001b[0;34m**\u001b[0m\u001b[0msearch_kwargs\u001b[0m\u001b[0;34m)\u001b[0m\u001b[0;34m\u001b[0m\u001b[0;34m\u001b[0m\u001b[0m\n\u001b[0m\u001b[1;32m     22\u001b[0m         \u001b[0mlcb_Coef\u001b[0m\u001b[0;34m,\u001b[0m \u001b[0mlcb_Results\u001b[0m \u001b[0;34m=\u001b[0m \u001b[0mgetBoundary\u001b[0m\u001b[0;34m(\u001b[0m\u001b[0mmodelFn\u001b[0m\u001b[0;34m,\u001b[0m\u001b[0mX\u001b[0m\u001b[0;34m,\u001b[0m\u001b[0my\u001b[0m\u001b[0;34m,\u001b[0m\u001b[0midx\u001b[0m\u001b[0;34m,\u001b[0m\u001b[0mucb\u001b[0m\u001b[0;34m=\u001b[0m\u001b[0mucb_LR\u001b[0m\u001b[0;34m,\u001b[0m\u001b[0mobj\u001b[0m\u001b[0;34m=\u001b[0m\u001b[0mlowCoefObj\u001b[0m\u001b[0;34m,\u001b[0m\u001b[0mreduction\u001b[0m\u001b[0;34m=\u001b[0m\u001b[0mnp\u001b[0m\u001b[0;34m.\u001b[0m\u001b[0mmin\u001b[0m\u001b[0;34m,\u001b[0m\u001b[0mfit_kwargs\u001b[0m\u001b[0;34m=\u001b[0m\u001b[0mfit_kwargs\u001b[0m\u001b[0;34m,\u001b[0m\u001b[0;34m**\u001b[0m\u001b[0msearch_kwargs\u001b[0m\u001b[0;34m)\u001b[0m\u001b[0;34m\u001b[0m\u001b[0;34m\u001b[0m\u001b[0m\n\u001b[1;32m     23\u001b[0m         \u001b[0mlcbs\u001b[0m\u001b[0;34m.\u001b[0m\u001b[0mappend\u001b[0m\u001b[0;34m(\u001b[0m\u001b[0mlcb_Coef\u001b[0m\u001b[0;34m)\u001b[0m\u001b[0;34m\u001b[0m\u001b[0;34m\u001b[0m\u001b[0m\n",
      "\u001b[0;32m~/projects/explanation-uncertainty/glrtTorch.py\u001b[0m in \u001b[0;36mgetBoundary\u001b[0;34m(modelFn, X, y, idx, ucb, obj, reduction, lmbds, lossfunc, fit_kwargs)\u001b[0m\n\u001b[1;32m     50\u001b[0m \u001b[0;34m\u001b[0m\u001b[0m\n\u001b[1;32m     51\u001b[0m     \u001b[0mmses\u001b[0m\u001b[0;34m,\u001b[0m \u001b[0mcoefs\u001b[0m \u001b[0;34m=\u001b[0m \u001b[0mnp\u001b[0m\u001b[0;34m.\u001b[0m\u001b[0marray\u001b[0m\u001b[0;34m(\u001b[0m\u001b[0mmses\u001b[0m\u001b[0;34m)\u001b[0m\u001b[0;34m,\u001b[0m \u001b[0mnp\u001b[0m\u001b[0;34m.\u001b[0m\u001b[0marray\u001b[0m\u001b[0;34m(\u001b[0m\u001b[0mattributions\u001b[0m\u001b[0;34m)\u001b[0m\u001b[0;34m\u001b[0m\u001b[0;34m\u001b[0m\u001b[0m\n\u001b[0;32m---> 52\u001b[0;31m     \u001b[0;32mreturn\u001b[0m \u001b[0mreduction\u001b[0m\u001b[0;34m(\u001b[0m\u001b[0mattributions\u001b[0m\u001b[0;34m[\u001b[0m\u001b[0mmses\u001b[0m\u001b[0;34m<=\u001b[0m\u001b[0mucb\u001b[0m\u001b[0;34m]\u001b[0m\u001b[0;34m)\u001b[0m\u001b[0;34m,\u001b[0m \u001b[0;34m(\u001b[0m\u001b[0mmses\u001b[0m\u001b[0;34m,\u001b[0m\u001b[0mattribs\u001b[0m\u001b[0;34m,\u001b[0m\u001b[0mcoefs\u001b[0m\u001b[0;34m,\u001b[0m\u001b[0mbiases\u001b[0m\u001b[0;34m)\u001b[0m\u001b[0;34m\u001b[0m\u001b[0;34m\u001b[0m\u001b[0m\n\u001b[0m\u001b[1;32m     53\u001b[0m \u001b[0;34m\u001b[0m\u001b[0m\n\u001b[1;32m     54\u001b[0m \u001b[0;32mdef\u001b[0m \u001b[0mtrainWithAttributions\u001b[0m\u001b[0;34m(\u001b[0m\u001b[0mmodel\u001b[0m\u001b[0;34m,\u001b[0m\u001b[0mX\u001b[0m\u001b[0;34m,\u001b[0m\u001b[0my\u001b[0m\u001b[0;34m,\u001b[0m\u001b[0mobj\u001b[0m\u001b[0;34m,\u001b[0m\u001b[0mlossfunc\u001b[0m\u001b[0;34m,\u001b[0m\u001b[0mlr\u001b[0m\u001b[0;34m=\u001b[0m\u001b[0;36m0.001\u001b[0m\u001b[0;34m,\u001b[0m\u001b[0mmax_iter\u001b[0m\u001b[0;34m=\u001b[0m\u001b[0;36m1000\u001b[0m\u001b[0;34m)\u001b[0m\u001b[0;34m:\u001b[0m\u001b[0;34m\u001b[0m\u001b[0;34m\u001b[0m\u001b[0m\n",
      "\u001b[0;31mTypeError\u001b[0m: only integer scalar arrays can be converted to a scalar index"
     ]
    }
   ],
   "source": [
    "TL = TorchLinear(lr=0.003)\n",
    "TL.fit(X,y)\n",
    "print(\"GLRT\")\n",
    "lcb_GLRT, ucb_GLRT, lcb_Reults, ucb_Results = glrtTorchCis(lambda:TorchLinear(lr=0.003), X=X, y=y, alpha=0.05,search_kwargs={'lmbds':np.logspace(-10,10,101)})\n",
    "print(\"Lower bounds:\", lcb_GLRT, \"\\nUpper bounds:\", ucb_GLRT)"
   ]
  },
  {
   "cell_type": "code",
   "execution_count": 4,
   "id": "strange-ability",
   "metadata": {},
   "outputs": [
    {
     "name": "stdout",
     "output_type": "stream",
     "text": [
      "> \u001b[0;32m/home/gabe/projects/explanation-uncertainty/glrtTorch.py\u001b[0m(52)\u001b[0;36mgetBoundary\u001b[0;34m()\u001b[0m\n",
      "\u001b[0;32m     50 \u001b[0;31m\u001b[0;34m\u001b[0m\u001b[0m\n",
      "\u001b[0m\u001b[0;32m     51 \u001b[0;31m    \u001b[0mmses\u001b[0m\u001b[0;34m,\u001b[0m \u001b[0mcoefs\u001b[0m \u001b[0;34m=\u001b[0m \u001b[0mnp\u001b[0m\u001b[0;34m.\u001b[0m\u001b[0marray\u001b[0m\u001b[0;34m(\u001b[0m\u001b[0mmses\u001b[0m\u001b[0;34m)\u001b[0m\u001b[0;34m,\u001b[0m \u001b[0mnp\u001b[0m\u001b[0;34m.\u001b[0m\u001b[0marray\u001b[0m\u001b[0;34m(\u001b[0m\u001b[0mattributions\u001b[0m\u001b[0;34m)\u001b[0m\u001b[0;34m\u001b[0m\u001b[0;34m\u001b[0m\u001b[0m\n",
      "\u001b[0m\u001b[0;32m---> 52 \u001b[0;31m    \u001b[0;32mreturn\u001b[0m \u001b[0mreduction\u001b[0m\u001b[0;34m(\u001b[0m\u001b[0mattributions\u001b[0m\u001b[0;34m[\u001b[0m\u001b[0mmses\u001b[0m\u001b[0;34m<=\u001b[0m\u001b[0mucb\u001b[0m\u001b[0;34m]\u001b[0m\u001b[0;34m)\u001b[0m\u001b[0;34m,\u001b[0m \u001b[0;34m(\u001b[0m\u001b[0mmses\u001b[0m\u001b[0;34m,\u001b[0m\u001b[0mattribs\u001b[0m\u001b[0;34m,\u001b[0m\u001b[0mcoefs\u001b[0m\u001b[0;34m,\u001b[0m\u001b[0mbiases\u001b[0m\u001b[0;34m)\u001b[0m\u001b[0;34m\u001b[0m\u001b[0;34m\u001b[0m\u001b[0m\n",
      "\u001b[0m\u001b[0;32m     53 \u001b[0;31m\u001b[0;34m\u001b[0m\u001b[0m\n",
      "\u001b[0m\u001b[0;32m     54 \u001b[0;31m\u001b[0;32mdef\u001b[0m \u001b[0mtrainWithAttributions\u001b[0m\u001b[0;34m(\u001b[0m\u001b[0mmodel\u001b[0m\u001b[0;34m,\u001b[0m\u001b[0mX\u001b[0m\u001b[0;34m,\u001b[0m\u001b[0my\u001b[0m\u001b[0;34m,\u001b[0m\u001b[0mobj\u001b[0m\u001b[0;34m,\u001b[0m\u001b[0mlossfunc\u001b[0m\u001b[0;34m,\u001b[0m\u001b[0mlr\u001b[0m\u001b[0;34m=\u001b[0m\u001b[0;36m0.001\u001b[0m\u001b[0;34m,\u001b[0m\u001b[0mmax_iter\u001b[0m\u001b[0;34m=\u001b[0m\u001b[0;36m1000\u001b[0m\u001b[0;34m)\u001b[0m\u001b[0;34m:\u001b[0m\u001b[0;34m\u001b[0m\u001b[0;34m\u001b[0m\u001b[0m\n",
      "\u001b[0m\n"
     ]
    },
    {
     "name": "stdin",
     "output_type": "stream",
     "text": [
      "ipdb>  attributions.shape\n"
     ]
    },
    {
     "name": "stdout",
     "output_type": "stream",
     "text": [
      "*** AttributeError: 'list' object has no attribute 'shape'\n"
     ]
    },
    {
     "name": "stdin",
     "output_type": "stream",
     "text": [
      "ipdb>  len(attributions)\n"
     ]
    },
    {
     "name": "stdout",
     "output_type": "stream",
     "text": [
      "101\n"
     ]
    },
    {
     "name": "stdin",
     "output_type": "stream",
     "text": [
      "ipdb>  len(mses)\n"
     ]
    },
    {
     "name": "stdout",
     "output_type": "stream",
     "text": [
      "101\n"
     ]
    },
    {
     "name": "stdin",
     "output_type": "stream",
     "text": [
      "ipdb>  attributions\n"
     ]
    },
    {
     "name": "stdout",
     "output_type": "stream",
     "text": [
      "[0.5756043195724487, 0.6082776784896851, 0.6958274841308594, 0.7042483687400818, 0.6791307330131531, 0.8404797315597534, 0.6548677682876587, 0.7709811329841614, 0.6170388460159302, 0.6623507142066956, 0.5350603461265564, 0.7034501433372498, 0.5963259339332581, 0.6757538318634033, 0.5677726864814758, 0.7518547773361206, 0.8773732781410217, 0.7324469685554504, 0.7724628448486328, 0.7407637238502502, 0.6661356091499329, 0.5521718859672546, 0.847093939781189, 0.6504746079444885, 0.6185213923454285, 0.6759927272796631, 0.680371880531311, 0.8265122771263123, 0.5728380680084229, 0.5609650611877441, 0.7258374094963074, 0.8019088506698608, 0.9052780270576477, 0.7468176484107971, 0.831562340259552, 0.7087811827659607, 0.8030027747154236, 0.8480169773101807, 0.8175663948059082, 0.5433512330055237, 0.7682833671569824, 0.8306447863578796, 0.7278227210044861, 0.8428712487220764, 0.5950493812561035, 0.7110801935195923, 0.7331608533859253, 0.8024799227714539, 0.6348637938499451, 0.912880003452301, 0.9620378613471985, 1.2471920251846313, 1.286230206489563, 0.5110614895820618, 1.2772408723831177, 3.782137155532837, 5.3738813400268555, 7.888922691345215, 12.319049835205078, 17.551301956176758, 28.285263061523438, 45.16843795776367, 73.3044204711914, 115.66434478759766, 181.58355712890625, 288.1827087402344, 458.4999694824219, 726.0906982421875, 1150.452392578125, 1822.8516845703125, 2887.166259765625, 4577.65625, 7254.57421875, 11497.26171875, 18221.556640625, 28878.734375, 45767.7890625, 72537.375, 114964.5234375, 182208.21875, 288780.3125, 457684.40625, 725380.3125, 1149653.125, 1822075.5, 2887795.5, 4576845.5, 7253808.5, 11496509.0, 18220754.0, 28877968.0, 45768464.0, 72538104.0, 114965184.0, 182207648.0, 288779488.0, 457684736.0, 725380928.0, 1149651968.0, 1822075136.0, 2887795968.0]\n"
     ]
    },
    {
     "name": "stdin",
     "output_type": "stream",
     "text": [
      "ipdb>  c\n"
     ]
    }
   ],
   "source": [
    "%debug"
   ]
  },
  {
   "cell_type": "code",
   "execution_count": 8,
   "id": "above-gospel",
   "metadata": {},
   "outputs": [
    {
     "data": {
      "text/plain": [
       "tensor([[-1.7616e+09,  1.6505e+08],\n",
       "        [-3.4697e+09,  9.9392e+08],\n",
       "        [ 1.9709e+09, -3.4935e+08],\n",
       "        [-4.4904e+09,  1.6282e+09],\n",
       "        [-7.6834e+08,  1.3738e+09],\n",
       "        [-9.9375e+08,  8.0591e+08],\n",
       "        [ 3.6013e+09, -5.0505e+07],\n",
       "        [-1.3904e+09,  7.4591e+08],\n",
       "        [ 1.9443e+09,  1.3400e+09],\n",
       "        [-6.6773e+09,  1.4681e+09]], grad_fn=<SliceBackward>)"
      ]
     },
     "execution_count": 8,
     "metadata": {},
     "output_type": "execute_result"
    }
   ],
   "source": [
    "ucb_Results[0][1][:10]"
   ]
  },
  {
   "cell_type": "code",
   "execution_count": 9,
   "id": "color-dietary",
   "metadata": {},
   "outputs": [
    {
     "data": {
      "text/plain": [
       "[array([1.0711303, 0.8208021], dtype=float32),\n",
       " array([1.0481999 , 0.89408934], dtype=float32),\n",
       " array([1.0149324 , 0.90760565], dtype=float32),\n",
       " array([0.97981447, 0.889424  ], dtype=float32),\n",
       " array([0.9869582, 0.9537857], dtype=float32),\n",
       " array([1.1045136, 0.8575846], dtype=float32),\n",
       " array([0.93058103, 1.0066142 ], dtype=float32),\n",
       " array([0.8684172, 1.0420791], dtype=float32),\n",
       " array([0.8235353, 1.1172069], dtype=float32),\n",
       " array([1.0131657, 0.9682913], dtype=float32)]"
      ]
     },
     "execution_count": 9,
     "metadata": {},
     "output_type": "execute_result"
    }
   ],
   "source": [
    "ucb_Results[0][2][:10]"
   ]
  },
  {
   "cell_type": "code",
   "execution_count": null,
   "id": "adolescent-mills",
   "metadata": {},
   "outputs": [],
   "source": []
  },
  {
   "cell_type": "code",
   "execution_count": null,
   "id": "increased-structure",
   "metadata": {},
   "outputs": [],
   "source": []
  }
 ],
 "metadata": {
  "kernelspec": {
   "display_name": "Python 3",
   "language": "python",
   "name": "python3"
  },
  "language_info": {
   "codemirror_mode": {
    "name": "ipython",
    "version": 3
   },
   "file_extension": ".py",
   "mimetype": "text/x-python",
   "name": "python",
   "nbconvert_exporter": "python",
   "pygments_lexer": "ipython3",
   "version": "3.8.6"
  }
 },
 "nbformat": 4,
 "nbformat_minor": 5
}
