{
 "cells": [
  {
   "cell_type": "markdown",
   "id": "banned-nightlife",
   "metadata": {},
   "source": [
    "# Torch GLRT Confidence Intervals\n",
    "\n",
    "Use GLRT and attribution regularization to calculate CIs for attributions of a Torch model.\n",
    "\n",
    "Demonstrated here with an OLS model.\n",
    "\n",
    "The GLRT results should not match bootstrap and analytic "
   ]
  },
  {
   "cell_type": "code",
   "execution_count": 1,
   "id": "secure-schedule",
   "metadata": {},
   "outputs": [],
   "source": [
    "import numpy as np\n",
    "import torch\n",
    "from bootstrapCoefficients import bootstrapCis\n",
    "from analyticLinearRegressionCIs import analyticLinearCis\n",
    "from glrtTorch import glrtTorchCis\n",
    "from DataGeneration import default_data\n",
    "from sklearn.linear_model import LinearRegression\n",
    "from torch_linear import TorchLinear"
   ]
  },
  {
   "cell_type": "code",
   "execution_count": 2,
   "id": "impossible-morris",
   "metadata": {},
   "outputs": [],
   "source": [
    "X, y = default_data()"
   ]
  },
  {
   "cell_type": "markdown",
   "id": "capital-checklist",
   "metadata": {},
   "source": [
    "## Sklearn model\n",
    "Bootstrap and analytic results"
   ]
  },
  {
   "cell_type": "code",
   "execution_count": 4,
   "id": "considerable-construction",
   "metadata": {},
   "outputs": [
    {
     "name": "stdout",
     "output_type": "stream",
     "text": [
      "Coefficients: [0.99906024 1.02556399]\n",
      "Bootstrapping\n",
      "Lower bounds: [0.85987423 0.86049457] \n",
      "Upper bounds: [1.13705651 1.17785711]\n",
      "Analytic solution\n",
      "Lower bounds: [0.85619486 0.86764879] \n",
      "Upper bounds: [1.14192561 1.18347918]\n"
     ]
    }
   ],
   "source": [
    "LR = LinearRegression()\n",
    "LR.fit(X, y)\n",
    "print(\"Coefficients:\", LR.coef_)\n",
    "\n",
    "print(\"Bootstrapping\")\n",
    "lcb_LR, ucb_LR = bootstrapCis(LinearRegression, X, y, alpha=0.05, replicates=1000)\n",
    "print(\"Lower bounds:\", lcb_LR, \"\\nUpper bounds:\", ucb_LR)\n",
    "\n",
    "print(\"Analytic solution\")\n",
    "lcb_LR_a, ucb_LR_a = analyticLinearCis(LR, X, y, alpha=0.05)\n",
    "print(\"Lower bounds:\", lcb_LR_a, \"\\nUpper bounds:\", ucb_LR_a)"
   ]
  },
  {
   "cell_type": "markdown",
   "id": "possible-checkout",
   "metadata": {},
   "source": [
    "# Torch model\n",
    "Bootstrap and analytic results"
   ]
  },
  {
   "cell_type": "code",
   "execution_count": 4,
   "id": "affected-ocean",
   "metadata": {},
   "outputs": [
    {
     "name": "stdout",
     "output_type": "stream",
     "text": [
      "Bootstrapping\n",
      "Lower bounds: [0.80575109 0.88677126] \n",
      "Upper bounds: [1.06291306 1.20051801]\n",
      "Analytic solution\n",
      "Lower bounds: [0.79458542 0.87648867] \n",
      "Upper bounds: [1.08140473 1.18232514]\n"
     ]
    }
   ],
   "source": [
    "TL = TorchLinear(lr=0.003)\n",
    "TL.fit(X,y)\n",
    "# Takes ~4min\n",
    "print(\"Bootstrapping\")\n",
    "lcb_TL, ucb_TL = bootstrapCis(lambda:TorchLinear(lr=0.003), X=X, y=y, alpha=0.05, replicates=1000)\n",
    "print(\"Lower bounds:\", lcb_TL, \"\\nUpper bounds:\", ucb_TL)\n",
    "\n",
    "print(\"Analytic solution\")\n",
    "lcb_TL_a, ucb_TL_a = analyticLinearCis(TL, X, y, alpha=0.05)\n",
    "print(\"Lower bounds:\", lcb_TL_a, \"\\nUpper bounds:\", ucb_TL_a)"
   ]
  },
  {
   "cell_type": "markdown",
   "id": "defined-production",
   "metadata": {},
   "source": [
    "GLRT Results"
   ]
  },
  {
   "cell_type": "code",
   "execution_count": null,
   "id": "arbitrary-italic",
   "metadata": {},
   "outputs": [
    {
     "name": "stdout",
     "output_type": "stream",
     "text": [
      "GLRT\n"
     ]
    }
   ],
   "source": [
    "TL = TorchLinear(lr=0.003)\n",
    "TL.fit(X,y)\n",
    "print(\"GLRT\")\n",
    "lcb_GLRT, ucb_GLRT, lcb_Reults, ucb_Results = glrtTorchCis(lambda:TorchLinear(lr=0.003), X=X, y=y, alpha=0.05,search_kwargs={'lmbds':np.logspace(-10,10,101)})\n",
    "print(\"Lower bounds:\", lcb_GLRT, \"\\nUpper bounds:\", ucb_GLRT)"
   ]
  },
  {
   "cell_type": "code",
   "execution_count": null,
   "id": "academic-litigation",
   "metadata": {},
   "outputs": [],
   "source": []
  }
 ],
 "metadata": {
  "kernelspec": {
   "display_name": "Python 3",
   "language": "python",
   "name": "python3"
  },
  "language_info": {
   "codemirror_mode": {
    "name": "ipython",
    "version": 3
   },
   "file_extension": ".py",
   "mimetype": "text/x-python",
   "name": "python",
   "nbconvert_exporter": "python",
   "pygments_lexer": "ipython3",
   "version": "3.8.6"
  }
 },
 "nbformat": 4,
 "nbformat_minor": 5
}
