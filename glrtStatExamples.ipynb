{
 "cells": [
  {
   "cell_type": "code",
   "execution_count": 1,
   "metadata": {},
   "outputs": [],
   "source": [
    "import numpy as np\n",
    "import torch"
   ]
  },
  {
   "cell_type": "code",
   "execution_count": 2,
   "metadata": {},
   "outputs": [],
   "source": [
    "from glrt_stat import bootstrapGLRTcis\n",
    "from DataGeneration import default_data"
   ]
  },
  {
   "cell_type": "code",
   "execution_count": 3,
   "metadata": {},
   "outputs": [],
   "source": [
    "X, y = default_data()"
   ]
  },
  {
   "cell_type": "code",
   "execution_count": 4,
   "metadata": {},
   "outputs": [],
   "source": [
    "from sklearn.linear_model import LinearRegression"
   ]
  },
  {
   "cell_type": "code",
   "execution_count": 5,
   "metadata": {},
   "outputs": [],
   "source": [
    "def MSE(y, yPred):\n",
    "    return np.mean((y - yPred)**2)"
   ]
  },
  {
   "cell_type": "code",
   "execution_count": 6,
   "metadata": {},
   "outputs": [
    {
     "name": "stdout",
     "output_type": "stream",
     "text": [
      "MSE: 0.9514047224270535\n"
     ]
    }
   ],
   "source": [
    "LR = LinearRegression()\n",
    "LR.fit(X, y)\n",
    "yp = LR.predict(X)\n",
    "print(\"MSE:\", MSE(y, yp))"
   ]
  },
  {
   "cell_type": "code",
   "execution_count": 7,
   "metadata": {},
   "outputs": [
    {
     "name": "stdout",
     "output_type": "stream",
     "text": [
      "Confidence interval: ( 0.7120014498068508 ,  1.0508724738766189 )\n"
     ]
    }
   ],
   "source": [
    "Xval, yVal = default_data()\n",
    "lcb_LR, ucb_LR = bootstrapGLRTcis(LinearRegression, Xval, yVal, logLikFn=MSE, alpha=0.05, replicates=1000)\n",
    "print(\"Confidence interval: (\", lcb_LR, \", \", ucb_LR, \")\")"
   ]
  },
  {
   "cell_type": "code",
   "execution_count": 8,
   "metadata": {},
   "outputs": [],
   "source": [
    "from torch_linear import TorchLinear"
   ]
  },
  {
   "cell_type": "code",
   "execution_count": 9,
   "metadata": {},
   "outputs": [
    {
     "name": "stdout",
     "output_type": "stream",
     "text": [
      "MSE: 0.9514099001085451\n"
     ]
    }
   ],
   "source": [
    "TL = TorchLinear(lr=0.003)\n",
    "TL.fit(X,y)\n",
    "yp = TL.predict(X)\n",
    "print(\"MSE:\", MSE(y, yp))"
   ]
  },
  {
   "cell_type": "code",
   "execution_count": 10,
   "metadata": {},
   "outputs": [
    {
     "name": "stdout",
     "output_type": "stream",
     "text": [
      "Confidence interval: ( 0.728504548672274 ,  1.046572736651138 )\n"
     ]
    }
   ],
   "source": [
    "# This takes ~4min\n",
    "lcb_TL, ucb_TL = bootstrapGLRTcis(lambda:TorchLinear(lr=0.003), X=Xval, y=yVal, logLikFn=MSE, alpha=0.05, replicates=1000)\n",
    "print(\"Confidence interval: (\", lcb_TL, \", \", ucb_TL, \")\")"
   ]
  },
  {
   "cell_type": "code",
   "execution_count": null,
   "metadata": {},
   "outputs": [],
   "source": []
  }
 ],
 "metadata": {
  "kernelspec": {
   "display_name": "Python 3",
   "language": "python",
   "name": "python3"
  },
  "language_info": {
   "codemirror_mode": {
    "name": "ipython",
    "version": 3
   },
   "file_extension": ".py",
   "mimetype": "text/x-python",
   "name": "python",
   "nbconvert_exporter": "python",
   "pygments_lexer": "ipython3",
   "version": "3.8.8"
  }
 },
 "nbformat": 4,
 "nbformat_minor": 1
}
