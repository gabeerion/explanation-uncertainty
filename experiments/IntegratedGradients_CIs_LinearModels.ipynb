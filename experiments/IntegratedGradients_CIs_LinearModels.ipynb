{
 "cells": [
  {
   "cell_type": "markdown",
   "metadata": {},
   "source": [
    "# Attribution CIs for Integrated Gradients\n",
    "\n",
    "(Average absolute) integrated gradients, designed specifically for the linear setting"
   ]
  },
  {
   "cell_type": "code",
   "execution_count": 1,
   "metadata": {},
   "outputs": [],
   "source": [
    "import numpy as np\n",
    "import torch\n",
    "from sklearn.linear_model import LinearRegression\n",
    "from uncertainty.bootstrapCoefficients import bootstrapCis\n",
    "from uncertainty.analyticLinearRegressionCIs import analyticLinearCis\n",
    "from uncertainty.DataGeneration import default_data, linearRegression_normal\n",
    "from uncertainty.glrtTorch import glrtTorchCis, MSE\n",
    "from uncertainty.torch_linear import TorchLinear\n",
    "from uncertainty.glrt_stat import bootstrapGLRTcis\n",
    "from uncertainty.IG_linearModels import integratedGradients_Linear, bootstrapIntegratedGradients_Linear, integratedGradients_LinearAnalytical\n",
    "from attributionpriors.pytorch_ops import ExpectedGradientsModel"
   ]
  },
  {
   "cell_type": "code",
   "execution_count": 2,
   "metadata": {},
   "outputs": [],
   "source": [
    "from matplotlib import pyplot as plt\n",
    "%matplotlib inline"
   ]
  },
  {
   "cell_type": "code",
   "execution_count": 3,
   "metadata": {},
   "outputs": [],
   "source": [
    "X, y = default_data()"
   ]
  },
  {
   "cell_type": "markdown",
   "metadata": {},
   "source": [
    "## Test analytical and bootstrap IG CIs"
   ]
  },
  {
   "cell_type": "code",
   "execution_count": 4,
   "metadata": {},
   "outputs": [
    {
     "name": "stdout",
     "output_type": "stream",
     "text": [
      "Coefficients: [0.88513371 1.18504362]\n",
      "Integrated gradients: [0.76678261 1.08949336]\n",
      "Bootstrapping\n",
      "Lower bounds: [0.62096489 0.93464367] \n",
      "Upper bounds: [0.92118144 1.23273253]\n",
      "Analytical\n",
      "Lower bounds: [0.61703249 0.93594248] \n",
      "Upper bounds: [0.91653274 1.24304425]\n"
     ]
    }
   ],
   "source": [
    "# Sklearn Linear Regression\n",
    "LR = LinearRegression()\n",
    "LR.fit(X, y)\n",
    "print(\"Coefficients:\", LR.coef_)\n",
    "print(\"Integrated gradients:\", integratedGradients_Linear(LR.coef_, X))\n",
    "\n",
    "print(\"Bootstrapping\")\n",
    "lcb_LR, ucb_LR = bootstrapIntegratedGradients_Linear(LinearRegression, X, y, alpha=0.05, replicates=1000)\n",
    "print(\"Lower bounds:\", lcb_LR, \"\\nUpper bounds:\", ucb_LR)\n",
    "\n",
    "print(\"Analytical\")\n",
    "lcb_LR_a, ucb_LR_a = integratedGradients_LinearAnalytical(LR, X, y, alpha=0.05)\n",
    "print(\"Lower bounds:\", lcb_LR_a, \"\\nUpper bounds:\", ucb_LR_a)"
   ]
  },
  {
   "cell_type": "code",
   "execution_count": 5,
   "metadata": {},
   "outputs": [
    {
     "name": "stdout",
     "output_type": "stream",
     "text": [
      "Coefficients: [0.8851187 1.1850578]\n",
      "Integrated gradients: [0.76676963 1.08950636]\n",
      "Bootstrapping\n",
      "Lower bounds: [0.62688759 0.94106662] \n",
      "Upper bounds: [0.91870455 1.22105407]\n",
      "Analytical\n",
      "Lower bounds: [0.61701951 0.93595548] \n",
      "Upper bounds: [0.91651975 1.24305725]\n"
     ]
    }
   ],
   "source": [
    "# Torch Linear Regression\n",
    "TL = TorchLinear(lr=0.3,max_iter=30)\n",
    "TL.fit(X,y)\n",
    "\n",
    "print(\"Coefficients:\", TL.coef_)\n",
    "print(\"Integrated gradients:\", integratedGradients_Linear(TL.coef_, X))\n",
    "\n",
    "# Takes ~4min\n",
    "print(\"Bootstrapping\")\n",
    "lcb_TL, ucb_TL = bootstrapIntegratedGradients_Linear(lambda:TorchLinear(lr=0.3,max_iter=30), X=X, y=y, alpha=0.05, replicates=1000)\n",
    "print(\"Lower bounds:\", lcb_TL, \"\\nUpper bounds:\", ucb_TL)\n",
    "\n",
    "print(\"Analytical\")\n",
    "lcb_TL_a, ucb_TL_a = integratedGradients_LinearAnalytical(TL, X, y, alpha=0.05)\n",
    "print(\"Lower bounds:\", lcb_TL_a, \"\\nUpper bounds:\", ucb_TL_a)"
   ]
  },
  {
   "cell_type": "code",
   "execution_count": 6,
   "metadata": {},
   "outputs": [
    {
     "name": "stdout",
     "output_type": "stream",
     "text": [
      "Torch IG: [0.7667699 1.089506 ]\n"
     ]
    }
   ],
   "source": [
    "# Check that Torch IG calculation gives same result as analytic\n",
    "Rtorch = torch.ones_like(torch.Tensor(X))*X.mean(0).reshape(1,-1)\n",
    "Rset = torch.utils.data.TensorDataset(Rtorch)\n",
    "EGM = ExpectedGradientsModel(TL.model,Rset,k=10,random_alpha=False,scale_by_inputs=True)\n",
    "preds,igs = EGM(torch.Tensor(X),shap_values=True)\n",
    "print(\"Torch IG:\", igs.abs().mean(0).detach().numpy())"
   ]
  },
  {
   "cell_type": "code",
   "execution_count": 7,
   "metadata": {},
   "outputs": [
    {
     "name": "stdout",
     "output_type": "stream",
     "text": [
      "GLRT\n",
      "Lower bounds: [0.41983467 0.72502303] \n",
      "Upper bounds: [1.11372757 1.45386302]\n"
     ]
    }
   ],
   "source": [
    "# GLRT method with Torch model\n",
    "TL = TorchLinear(lr=0.3,max_iter=30)\n",
    "TL.fit(X,y)\n",
    "print(\"GLRT\")\n",
    "lcb_GLRT, ucb_GLRT, lcb_Results, ucb_Results = glrtTorchCis(lambda:TorchLinear(lr=0.3,max_iter=100), X=X, y=y, alpha=0.05,search_kwargs={'lmbds':np.logspace(-10,10,101)},fit_kwargs={'lr':0.3,'max_iter':30})\n",
    "print(\"Lower bounds:\", lcb_GLRT, \"\\nUpper bounds:\", ucb_GLRT)"
   ]
  },
  {
   "cell_type": "code",
   "execution_count": null,
   "metadata": {},
   "outputs": [],
   "source": [
    "# Manually check Torch GLRT answer\n",
    "lcb_MSE, ucb_MSE = bootstrapGLRTcis(lambda:TorchLinear(lr=0.3,max_iter=100), X, y, lambda x,y: np.mean((x-y)**2), alpha=0.05)\n",
    "(mses, attributions, coefs, biases) = ucb_Results[0]\n",
    "valid_inds = mses<=ucb_MSE\n",
    "valid_attribs, valid_coefs, valid_biases = attributions[valid_inds], coefs[valid_inds], biases[valid_inds]\n",
    "max_ind = np.argmax(valid_attribs)\n",
    "max_coef, max_bias = valid_coefs[max_ind], valid_biases[max_ind]\n",
    "print(\"Torch attribution search found the following model:\")\n",
    "print(f'Coefs: {max_coef}, Bias: {max_bias}')\n",
    "print(f'Corresponding Analytic IG: {integratedGradients_Linear(max_coef,X)}')\n",
    "print(f'Model MSE {MSE(y,X@max_coef+max_bias):.3f} < MSE UCB {ucb_MSE:.3f}')"
   ]
  },
  {
   "cell_type": "markdown",
   "metadata": {},
   "source": [
    "## Other examples"
   ]
  },
  {
   "cell_type": "code",
   "execution_count": 7,
   "metadata": {},
   "outputs": [],
   "source": [
    "# Do an example where the coefficient CI's cross zero:\n",
    "X, y = linearRegression_normal(beta=np.array([0, 1]).T,\n",
    "                               cov=np.array([[1, 0.5],[0.5, 1]]),\n",
    "                               sigma=1,\n",
    "                               n=200)"
   ]
  },
  {
   "cell_type": "code",
   "execution_count": 8,
   "metadata": {},
   "outputs": [
    {
     "name": "stdout",
     "output_type": "stream",
     "text": [
      "Coefficients: [-0.03269696  0.99281269]\n",
      "Coefficient CI's (analytical) \n",
      "Lower bounds: [-0.18784993  0.81820811] \n",
      "Upper bounds: [0.12354142 1.16604283]\n",
      "Integrated gradients: [0.02412255 0.83430801]\n",
      "Bootstrapping\n",
      "Lower bounds: [0.00294276 0.69340201] \n",
      "Upper bounds: [0.14072949 0.9716986 ]\n",
      "Analytical\n",
      "Lower bounds: [0.         0.69714906] \n",
      "Upper bounds: [0.15338195 0.97146696]\n"
     ]
    }
   ],
   "source": [
    "LR = LinearRegression()\n",
    "LR.fit(X, y)\n",
    "print(\"Coefficients:\", LR.coef_)\n",
    "lcb_LR_coef, ucb_LR_coef = bootstrapCis(LinearRegression, X, y, alpha=0.05, replicates=1000)\n",
    "print(\"Coefficient CI's (analytical)\", \"\\nLower bounds:\", lcb_LR_coef, \"\\nUpper bounds:\", ucb_LR_coef)\n",
    "\n",
    "print(\"Integrated gradients:\", integratedGradients_Linear(LR.coef_, X))\n",
    "\n",
    "print(\"Bootstrapping\")\n",
    "lcb_LR, ucb_LR = bootstrapIntegratedGradients_Linear(LinearRegression, X, y, alpha=0.05, replicates=1000)\n",
    "print(\"Lower bounds:\", lcb_LR, \"\\nUpper bounds:\", ucb_LR)\n",
    "\n",
    "print(\"Analytical\")\n",
    "lcb_LR_a, ucb_LR_a = integratedGradients_LinearAnalytical(LR, X, y, alpha=0.05)\n",
    "print(\"Lower bounds:\", lcb_LR_a, \"\\nUpper bounds:\", ucb_LR_a)"
   ]
  },
  {
   "cell_type": "code",
   "execution_count": 9,
   "metadata": {},
   "outputs": [],
   "source": [
    "# And an example where the coefficient CI's are negative:\n",
    "X, y = linearRegression_normal(beta=np.array([-1, 1]).T,\n",
    "                               cov=np.array([[1, 0.5],[0.5, 1]]),\n",
    "                               sigma=1,\n",
    "                               n=200)"
   ]
  },
  {
   "cell_type": "code",
   "execution_count": 10,
   "metadata": {},
   "outputs": [
    {
     "name": "stdout",
     "output_type": "stream",
     "text": [
      "Coefficients: [-0.89721292  0.79395396]\n",
      "Coefficient CI's (analytical) \n",
      "Lower bounds: [-1.08906147  0.60376828] \n",
      "Upper bounds: [-0.70392245  0.96846779]\n",
      "Integrated gradients: [0.63735869 0.62667378]\n",
      "Bootstrapping\n",
      "Lower bounds: [0.49126259 0.47295379] \n",
      "Upper bounds: [0.78294865 0.76584111]\n",
      "Analytical\n",
      "Lower bounds: [0.50067477 0.49388333] \n",
      "Upper bounds: [0.7740426  0.75946423]\n"
     ]
    }
   ],
   "source": [
    "LR = LinearRegression()\n",
    "LR.fit(X, y)\n",
    "print(\"Coefficients:\", LR.coef_)\n",
    "lcb_LR_coef, ucb_LR_coef = bootstrapCis(LinearRegression, X, y, alpha=0.05, replicates=1000)\n",
    "print(\"Coefficient CI's (analytical)\", \"\\nLower bounds:\", lcb_LR_coef, \"\\nUpper bounds:\", ucb_LR_coef)\n",
    "\n",
    "print(\"Integrated gradients:\", integratedGradients_Linear(LR.coef_, X))\n",
    "\n",
    "print(\"Bootstrapping\")\n",
    "lcb_LR, ucb_LR = bootstrapIntegratedGradients_Linear(LinearRegression, X, y, alpha=0.05, replicates=1000)\n",
    "print(\"Lower bounds:\", lcb_LR, \"\\nUpper bounds:\", ucb_LR)\n",
    "\n",
    "print(\"Analytical\")\n",
    "lcb_LR_a, ucb_LR_a = integratedGradients_LinearAnalytical(LR, X, y, alpha=0.05)\n",
    "print(\"Lower bounds:\", lcb_LR_a, \"\\nUpper bounds:\", ucb_LR_a)"
   ]
  },
  {
   "cell_type": "code",
   "execution_count": null,
   "metadata": {},
   "outputs": [],
   "source": []
  }
 ],
 "metadata": {
  "kernelspec": {
   "display_name": "Python 3",
   "language": "python",
   "name": "python3"
  },
  "language_info": {
   "codemirror_mode": {
    "name": "ipython",
    "version": 3
   },
   "file_extension": ".py",
   "mimetype": "text/x-python",
   "name": "python",
   "nbconvert_exporter": "python",
   "pygments_lexer": "ipython3",
   "version": "3.6.8"
  }
 },
 "nbformat": 4,
 "nbformat_minor": 5
}
