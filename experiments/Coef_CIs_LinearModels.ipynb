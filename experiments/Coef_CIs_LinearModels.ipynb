{
 "cells": [
  {
   "cell_type": "markdown",
   "metadata": {},
   "source": [
    "# Coefficient CIs\n",
    "\n",
    "Analytic and bootstrap solutions should be similar across Sklearn and Torch models"
   ]
  },
  {
   "cell_type": "code",
   "execution_count": 1,
   "metadata": {},
   "outputs": [],
   "source": [
    "import numpy as np\n",
    "import torch\n",
    "from sklearn.linear_model import LinearRegression\n",
    "from uncertainty.bootstrapCoefficients import bootstrapCis\n",
    "from uncertainty.analyticLinearRegressionCIs import analyticLinearCis\n",
    "from uncertainty.DataGeneration import default_data\n",
    "from uncertainty.torch_linear import TorchLinear"
   ]
  },
  {
   "cell_type": "code",
   "execution_count": 2,
   "metadata": {},
   "outputs": [],
   "source": [
    "X, y = default_data()"
   ]
  },
  {
   "cell_type": "markdown",
   "metadata": {},
   "source": [
    "### Sklearn"
   ]
  },
  {
   "cell_type": "code",
   "execution_count": 3,
   "metadata": {},
   "outputs": [
    {
     "name": "stdout",
     "output_type": "stream",
     "text": [
      "Coefficients: [0.98784185 1.03449298]\n",
      "Bootstrapping\n",
      "Lower bounds: [0.82227168 0.8974265 ] \n",
      "Upper bounds: [1.14499135 1.18419353]\n",
      "Analytic solution\n",
      "Lower bounds: [0.84121557 0.88558438] \n",
      "Upper bounds: [1.13446813 1.18340159]\n"
     ]
    }
   ],
   "source": [
    "LR = LinearRegression()\n",
    "LR.fit(X, y)\n",
    "print(\"Coefficients:\", LR.coef_)\n",
    "\n",
    "print(\"Bootstrapping\")\n",
    "lcb_LR, ucb_LR = bootstrapCis(LinearRegression, X, y, alpha=0.05, replicates=1000)\n",
    "print(\"Lower bounds:\", lcb_LR, \"\\nUpper bounds:\", ucb_LR)\n",
    "\n",
    "print(\"Analytic solution\")\n",
    "lcb_LR_a, ucb_LR_a = analyticLinearCis(LR, X, y, alpha=0.05)\n",
    "print(\"Lower bounds:\", lcb_LR_a, \"\\nUpper bounds:\", ucb_LR_a)"
   ]
  },
  {
   "cell_type": "markdown",
   "metadata": {},
   "source": [
    "### Torch"
   ]
  },
  {
   "cell_type": "code",
   "execution_count": 5,
   "metadata": {},
   "outputs": [
    {
     "name": "stdout",
     "output_type": "stream",
     "text": [
      "Bootstrapping\n",
      "Lower bounds: [0.83584356 0.88411754] \n",
      "Upper bounds: [1.14090717 1.18848562]\n",
      "Analytic solution\n",
      "Lower bounds: [0.84119458 0.88560582] \n",
      "Upper bounds: [1.13444715 1.18342303]\n"
     ]
    }
   ],
   "source": [
    "TL = TorchLinear(lr=0.3,max_iter=30)\n",
    "TL.fit(X,y)\n",
    "# Takes ~4min\n",
    "print(\"Bootstrapping\")\n",
    "lcb_TL, ucb_TL = bootstrapCis(lambda:TorchLinear(lr=0.3,max_iter=30), X=X, y=y, alpha=0.05, replicates=1000)\n",
    "print(\"Lower bounds:\", lcb_TL, \"\\nUpper bounds:\", ucb_TL)\n",
    "\n",
    "print(\"Analytic solution\")\n",
    "lcb_TL_a, ucb_TL_a = analyticLinearCis(TL, X, y, alpha=0.05)\n",
    "print(\"Lower bounds:\", lcb_TL_a, \"\\nUpper bounds:\", ucb_TL_a)"
   ]
  },
  {
   "cell_type": "code",
   "execution_count": null,
   "metadata": {},
   "outputs": [],
   "source": []
  }
 ],
 "metadata": {
  "kernelspec": {
   "display_name": "Python 3",
   "language": "python",
   "name": "python3"
  },
  "language_info": {
   "codemirror_mode": {
    "name": "ipython",
    "version": 3
   },
   "file_extension": ".py",
   "mimetype": "text/x-python",
   "name": "python",
   "nbconvert_exporter": "python",
   "pygments_lexer": "ipython3",
   "version": "3.6.8"
  }
 },
 "nbformat": 4,
 "nbformat_minor": 5
}
