{
 "cells": [
  {
   "cell_type": "markdown",
   "id": "29798b41",
   "metadata": {},
   "source": [
    "# GLRT CI Coverage"
   ]
  },
  {
   "cell_type": "code",
   "execution_count": 1,
   "id": "c8631f15",
   "metadata": {},
   "outputs": [],
   "source": [
    "# Comparing the analytic GLRT for the single-coefficient case with the optimization-based version\n",
    "import numpy as np\n",
    "import torch\n",
    "import matplotlib.pyplot as plt\n",
    "from sklearn.linear_model import LinearRegression"
   ]
  },
  {
   "cell_type": "code",
   "execution_count": 5,
   "id": "001eab12",
   "metadata": {},
   "outputs": [],
   "source": [
    "from uncertainty.DataGeneration import linearRegression_normal\n",
    "from uncertainty.torch_linear import TorchLinear\n",
    "from uncertainty.analyticLinearRegressionCIs import analyticLinearTest_GLRT, analyticLinearCis\n",
    "from uncertainty.glrtTorch import glrtTorchCis\n",
    "from uncertainty.torch_linear import TorchLinear"
   ]
  },
  {
   "cell_type": "code",
   "execution_count": 3,
   "id": "81c39918",
   "metadata": {},
   "outputs": [],
   "source": [
    "def compareAnalyticVsOptimization(beta, n=200, alpha=0.05):\n",
    "    \"\"\"Generate data according to a linear regression with coefficient vector beta.\n",
    "    Compute the analytic chi-squared test 'is the coefficient vector zero?'. Record the p-value.\n",
    "    Compute the confidence intervals on beta using the GLRT-based method. Record whether ALL intervals contains zero.\n",
    "    Return TRUE if both methods agree, and FALSE otherwise.\"\"\"  \n",
    "    # Get data\n",
    "    X, y = linearRegression_normal(beta=np.array(beta), cov=np.eye(len(beta)), sigma=1, n=n)\n",
    "\n",
    "    # Compute the p-value from the chi squared test\n",
    "    TL = TorchLinear(lr=0.3,max_iter=30)\n",
    "    TL.fit(X,y)\n",
    "    pVal_TL = analyticLinearTest_GLRT(TL, X, y)\n",
    "    \n",
    "    # Next, get the optimization-based intervals.\n",
    "    # GLRT method with Torch model (coefs)\n",
    "    lcb_GLRT, ucb_GLRT, lcb_Results, ucb_Results, ucb_Torch = glrtTorchCis(\n",
    "        lambda:TorchLinear(lr=0.3,max_iter=100,fit_intercept=False), X=X, y=y, citype='coefs', alpha=alpha,\n",
    "        search_kwargs={'lmbds':np.logspace(-10,10,101)},fit_kwargs={'lr':0.3,'max_iter':30})\n",
    "    \n",
    "    # To check whether they agree with the analytic version:\n",
    "    # The p-value should be < 0.05 iff any of the level-0.05 glrt-based confidence intervals\n",
    "    # on the coefficient beta don't contain zero.\n",
    "    isNotZero_analytic = pVal_TL < alpha    # The chi-square test is one-sided\n",
    "    isNotZero_optim = any(lcb_GLRT > 0) or any(ucb_GLRT < 0)\n",
    "    \n",
    "    print(\"p value\", pVal_TL, \"and confidence interval(s)\", lcb_GLRT, \"to\", ucb_GLRT)\n",
    "    \n",
    "    return (isNotZero_analytic == isNotZero_optim, pVal_TL, lcb_GLRT, ucb_GLRT)\n",
    "    "
   ]
  },
  {
   "cell_type": "markdown",
   "id": "565341d1",
   "metadata": {},
   "source": [
    "## Single nonzero coefficient"
   ]
  },
  {
   "cell_type": "code",
   "execution_count": 6,
   "id": "c7dde56f",
   "metadata": {
    "scrolled": true
   },
   "outputs": [
    {
     "name": "stdout",
     "output_type": "stream",
     "text": [
      "p value 0.0 and confidence interval(s) [-0.86222976] to [-0.61519784]\n",
      "p value 1.0845657705260692e-11 and confidence interval(s) [-0.60028249] to [-0.40164489]\n",
      "p value 0.0 and confidence interval(s) [0.52330929] to [0.75474006]\n",
      "p value 0.0 and confidence interval(s) [0.79240674] to [1.03448117]\n",
      "CPU times: user 2min 44s, sys: 513 ms, total: 2min 44s\n",
      "Wall time: 2min 44s\n"
     ]
    }
   ],
   "source": [
    "%%time\n",
    "bmean, bstd = 0,1\n",
    "reps = 100\n",
    "\n",
    "equiv = []\n",
    "pVals = []\n",
    "lcbs = []\n",
    "ucbs = []\n",
    "\n",
    "betas = []\n",
    "covered = []\n",
    "\n",
    "#for i in range(1000):\n",
    "for i in range(reps):\n",
    "    beta = np.random.normal(loc=bmean,scale=bstd)\n",
    "    s, p, l, u = compareAnalyticVsOptimization(beta=[beta])\n",
    "    equiv.append(s)\n",
    "    pVals.append(p)\n",
    "    lcbs.append(l)\n",
    "    ucbs.append(u)\n",
    "    \n",
    "    betas.append(beta)\n",
    "    covered.append(l[0]<=beta<=u[0])"
   ]
  },
  {
   "cell_type": "code",
   "execution_count": 8,
   "id": "85cb37a3",
   "metadata": {},
   "outputs": [
    {
     "name": "stdout",
     "output_type": "stream",
     "text": [
      "Coverage: 0.92\n"
     ]
    }
   ],
   "source": [
    "print(f'Coverage: {np.mean(covered)}')"
   ]
  },
  {
   "cell_type": "code",
   "execution_count": 5,
   "id": "54eee005",
   "metadata": {},
   "outputs": [
    {
     "data": {
      "image/png": "[encoded data removed]",
      "text/plain": [
       "<Figure size 432x288 with 1 Axes>"
      ]
     },
     "metadata": {
      "needs_background": "light"
     },
     "output_type": "display_data"
    }
   ],
   "source": [
    "minY = min(lcbs)\n",
    "maxY = max(ucbs)\n",
    "plt.ylim(minY, maxY)\n",
    "\n",
    "for (p, l, u, s) in zip(pVals, lcbs, ucbs, success):\n",
    "    # ymin and ymax are the 'fraction of the way up from the bottom of the plot'\n",
    "    plt.axvline(x=p, ymin=(l-minY)/(maxY - minY), ymax=(u-minY)/(maxY-minY),\n",
    "                color=('darkgreen' if s else 'darkred'), alpha=0.2)\n",
    "\n",
    "# plt.scatter(np.asarray(pVals)[np.array(success)], np.asarray(lcbs)[np.array(success)], color='darkgreen')\n",
    "# plt.scatter(np.asarray(pVals)[np.array(success)], np.asarray(ucbs)[np.array(success)], color='darkgreen')\n",
    "\n",
    "# plt.scatter(np.asarray(pVals)[~np.array(success)], np.asarray(lcbs)[~np.array(success)], color='darkred', marker='x')\n",
    "# plt.scatter(np.asarray(pVals)[~np.array(success)], np.asarray(ucbs)[~np.array(success)], color='darkred', marker='x')\n",
    "\n",
    "plt.axhline(0, color='k', linestyle='--')\n",
    "plt.axvline(0.05, color='gray', linestyle='--')\n",
    "\n",
    "plt.xlabel(\"p-value\")\n",
    "plt.ylabel(\"Range of confidence interval\")\n",
    "plt.title(\"Succeeded in \" + str(np.mean(success)*100) + \"% of trials\")\n",
    "\n",
    "plt.show()"
   ]
  },
  {
   "cell_type": "markdown",
   "id": "24cae4fc",
   "metadata": {},
   "source": [
    "## Single Zero Coefficient"
   ]
  },
  {
   "cell_type": "code",
   "execution_count": 6,
   "id": "73a8d5c8",
   "metadata": {
    "scrolled": true
   },
   "outputs": [
    {
     "name": "stdout",
     "output_type": "stream",
     "text": [
      "p value 0.010065697013278752 and confidence interval [-0.32121551] to [-0.05462781]\n",
      "p value 0.38332014773572665 and confidence interval [-0.18513457] to [0.0566593]\n",
      "p value 0.46933716149415605 and confidence interval [-0.17649673] to [0.07245571]\n",
      "p value 0.40162140227533727 and confidence interval [-0.06663625] to [0.17793277]\n",
      "p value 0.13307229248481245 and confidence interval [-0.01165634] to [0.20390682]\n",
      "p value 0.9251746992055117 and confidence interval [-0.09618982] to [0.08314887]\n",
      "p value 0.9492197278954458 and confidence interval [-0.13533084] to [0.14375989]\n",
      "p value 0.6220876893032526 and confidence interval [-0.17182997] to [0.1003686]\n",
      "p value 0.2971460329040737 and confidence interval [-0.05243973] to [0.20746814]\n",
      "p value 0.7509762379159894 and confidence interval [-0.15082262] to [0.10511569]\n",
      "p value 0.8686630493086943 and confidence interval [-0.1364222] to [0.11374637]\n",
      "p value 0.12406568351362302 and confidence interval [-0.19133796] to [-0.02761748]\n",
      "p value 0.6941661832410619 and confidence interval [-0.075836] to [0.12524951]\n",
      "p value 0.9332480649811413 and confidence interval [-0.14102748] to [0.15370968]\n",
      "p value 0.914506973087289 and confidence interval [-0.13649811] to [0.12110196]\n",
      "p value 0.32314902788504596 and confidence interval [-0.04497839] to [0.17961343]\n",
      "p value 0.592159959133312 and confidence interval [-0.14406213] to [0.07321167]\n",
      "p value 0.4542918119849204 and confidence interval [-0.06798974] to [0.17536968]\n",
      "p value 0.6482857373345139 and confidence interval [-0.14827217] to [0.08556221]\n",
      "p value 0.6272941228202482 and confidence interval [-0.12993674] to [0.05413404]\n",
      "p value 0.31430439684455747 and confidence interval [-0.20167823] to [0.0545835]\n",
      "p value 0.5206040457696869 and confidence interval [-0.07681788] to [0.17010058]\n",
      "p value 0.9811894415594263 and confidence interval [-0.13199402] to [0.13570754]\n",
      "p value 0.47828982147484045 and confidence interval [-0.15489821] to [0.06055285]\n",
      "p value 0.10995148170082403 and confidence interval [-0.01435062] to [0.25755194]\n",
      "p value 0.3284684752355189 and confidence interval [-0.21496603] to [0.07264792]\n",
      "p value 0.5633885383663071 and confidence interval [-0.04436222] to [0.12111349]\n",
      "p value 0.8624406607863213 and confidence interval [-0.09403561] to [0.11421992]\n",
      "p value 0.8643833888446412 and confidence interval [-0.11616389] to [0.13982667]\n",
      "p value 0.32616083615368785 and confidence interval [-0.04912614] to [0.1772477]\n",
      "p value 0.4992798763575278 and confidence interval [-0.03576954] to [0.12339953]\n",
      "p value 0.7669540029052304 and confidence interval [-0.14005619] to [0.09815699]\n",
      "p value 0.564319728517426 and confidence interval [-0.11769792] to [0.04158841]\n",
      "p value 0.958564650166923 and confidence interval [-0.13221967] to [0.12492414]\n",
      "p value 0.9926876113505423 and confidence interval [-0.13169585] to [0.13040778]\n",
      "p value 0.8261010368383743 and confidence interval [-0.10517865] to [0.13753264]\n",
      "p value 0.11928433618252254 and confidence interval [-0.0097121] to [0.20429455]\n",
      "p value 0.7442312950022204 and confidence interval [-0.11446372] to [0.16357027]\n",
      "p value 0.3264218153393421 and confidence interval [-0.05928811] to [0.20148963]\n",
      "p value 0.24816980708302128 and confidence interval [-0.21202913] to [0.03985073]\n",
      "p value 0.6400960739663586 and confidence interval [-0.08275103] to [0.14518146]\n",
      "p value 0.6298416842378751 and confidence interval [-0.08871995] to [0.16330516]\n",
      "p value 0.23591151714147474 and confidence interval [-0.0440241] to [0.1917794]\n",
      "p value 0.026185734775646452 and confidence interval [0.03025841] to [0.25779274]\n",
      "p value 0.3467239464299664 and confidence interval [-0.05288137] to [0.18444598]\n",
      "p value 0.18357789994850793 and confidence interval [-0.02335006] to [0.20965201]\n",
      "p value 0.7161659735751733 and confidence interval [-0.07098436] to [0.13018045]\n",
      "p value 0.7585247872699347 and confidence interval [-0.09486662] to [0.13705447]\n",
      "p value 0.9320140251393332 and confidence interval [-0.09357478] to [0.08129562]\n",
      "p value 0.03316370284689785 and confidence interval [-0.26387361] to [-0.02995384]\n",
      "p value 0.5227340514160641 and confidence interval [-0.12865546] to [0.04242958]\n",
      "p value 0.8105655243280753 and confidence interval [-0.066618] to [0.10008081]\n",
      "p value 0.9549305911323296 and confidence interval [-0.13782987] to [0.12932128]\n",
      "p value 0.08776525776653132 and confidence interval [-0.25497195] to [-0.00501112]\n",
      "p value 0.6609464613137489 and confidence interval [-0.0948884] to [0.15345803]\n",
      "p value 0.8345143354233823 and confidence interval [-0.14916085] to [0.11901895]\n",
      "p value 0.39286064403251253 and confidence interval [-0.19305721] to [0.06521577]\n",
      "p value 0.05270852908570267 and confidence interval [0.00149847] to [0.27243266]\n",
      "p value 0.8021344263552312 and confidence interval [-0.14926642] to [0.11512525]\n",
      "p value 0.7096493829649135 and confidence interval [-0.08987641] to [0.14103967]\n",
      "p value 0.7597133080177492 and confidence interval [-0.09073702] to [0.13005714]\n",
      "p value 0.9665984731052493 and confidence interval [-0.081156] to [0.0869679]\n",
      "p value 0.05384725963584691 and confidence interval [-0.01048689] to [0.29250935]\n",
      "p value 0.7438347363775841 and confidence interval [-0.06945575] to [0.11387011]\n",
      "p value 0.6564078889295882 and confidence interval [-0.17086586] to [0.10561271]\n",
      "p value 0.15467645314380407 and confidence interval [-0.02132832] to [0.22032605]\n",
      "p value 0.8357589353204217 and confidence interval [-0.14867668] to [0.11908904]\n",
      "p value 0.9047082126436254 and confidence interval [-0.13105932] to [0.11454417]\n",
      "p value 0.2291478244896249 and confidence interval [-0.19865395] to [0.03514636]\n",
      "p value 0.6007263919488798 and confidence interval [-0.167302] to [0.09198769]\n",
      "p value 0.3685358036379487 and confidence interval [-0.06658871] to [0.19457167]\n",
      "p value 0.8733947536142194 and confidence interval [-0.12545919] to [0.14891367]\n",
      "p value 0.3589788536328343 and confidence interval [-0.17825362] to [0.05032845]\n",
      "p value 0.766905788664886 and confidence interval [-0.12192231] to [0.16694766]\n",
      "p value 0.5312355826542714 and confidence interval [-0.07630022] to [0.16416122]\n",
      "p value 0.12817803366247793 and confidence interval [-0.22136797] to [0.00812971]\n",
      "p value 0.7333585918777865 and confidence interval [-0.14960672] to [0.10002507]\n",
      "p value 0.8386429076577361 and confidence interval [-0.14705554] to [0.11629084]\n",
      "p value 0.33686621378903003 and confidence interval [-0.19130187] to [0.05705225]\n",
      "p value 0.5823961540408173 and confidence interval [-0.16843265] to [0.08820231]\n",
      "p value 0.8195985047215991 and confidence interval [-0.09362381] to [0.12408745]\n",
      "p value 0.3056317282618827 and confidence interval [-0.01110684] to [0.1479875]\n",
      "p value 0.5459428747612808 and confidence interval [-0.04852877] to [0.15004581]\n",
      "p value 0.468451922968689 and confidence interval [-0.08444819] to [0.19252108]\n",
      "p value 0.0016336285745076617 and confidence interval [-0.3284829] to [-0.10248397]\n",
      "p value 0.3931714290632925 and confidence interval [-0.02891924] to [0.14016318]\n",
      "p value 0.17919133649723706 and confidence interval [-0.03487967] to [0.2305721]\n",
      "p value 0.14122500955571204 and confidence interval [-0.01654562] to [0.22945708]\n",
      "p value 0.7820062980471452 and confidence interval [-0.15901732] to [0.11669275]\n",
      "p value 0.46958669854627366 and confidence interval [-0.07034718] to [0.16756719]\n",
      "p value 0.598123794451042 and confidence interval [-0.15158539] to [0.07953757]\n",
      "p value 0.8476995274975558 and confidence interval [-0.15427336] to [0.1241345]\n",
      "p value 0.7622906068093102 and confidence interval [-0.10794285] to [0.1548143]\n",
      "p value 0.04048038011010957 and confidence interval [-0.21163948] to [-0.06630309]\n",
      "p value 0.4813953669199934 and confidence interval [-0.03250545] to [0.13083754]\n",
      "p value 0.6352751556547584 and confidence interval [-0.14564468] to [0.08481606]\n",
      "p value 0.14059298957338628 and confidence interval [-0.1712887] to [-0.01469097]\n",
      "p value 0.2920274201730798 and confidence interval [-0.21487834] to [0.04781958]\n",
      "p value 0.7425809712207467 and confidence interval [-0.14269616] to [0.09787922]\n",
      "p value 0.23312992637835828 and confidence interval [-0.03623052] to [0.19914591]\n",
      "CPU times: user 43min 13s, sys: 2min 23s, total: 45min 36s\n",
      "Wall time: 44min 35s\n"
     ]
    }
   ],
   "source": [
    "%%time\n",
    "beta = 0.0\n",
    "\n",
    "success = []\n",
    "pVals = []\n",
    "lcbs = []\n",
    "ucbs = []\n",
    "\n",
    "#for i in range(1000):\n",
    "for i in range(100):\n",
    "    s, p, l, u = compareAnalyticVsOptimization(beta=beta)\n",
    "    success.append(s[0])\n",
    "    pVals.append(p)\n",
    "    lcbs.append(l)\n",
    "    ucbs.append(u)"
   ]
  },
  {
   "cell_type": "code",
   "execution_count": 7,
   "id": "6f110cf5",
   "metadata": {},
   "outputs": [
    {
     "data": {
      "image/png": "[encoded data removed]",
      "text/plain": [
       "<Figure size 432x288 with 1 Axes>"
      ]
     },
     "metadata": {
      "needs_background": "light"
     },
     "output_type": "display_data"
    }
   ],
   "source": [
    "minY = min(lcbs)\n",
    "maxY = max(ucbs)\n",
    "plt.ylim(minY, maxY)\n",
    "\n",
    "for (p, l, u, s) in zip(pVals, lcbs, ucbs, success):\n",
    "    # ymin and ymax are the 'fraction of the way up from the bottom of the plot'\n",
    "    plt.axvline(x=p, ymin=(l-minY)/(maxY - minY), ymax=(u-minY)/(maxY-minY),\n",
    "                color=('darkgreen' if s else 'darkred'), alpha=0.2)\n",
    "\n",
    "# plt.scatter(np.asarray(pVals)[np.array(success)], np.asarray(lcbs)[np.array(success)], color='darkgreen')\n",
    "# plt.scatter(np.asarray(pVals)[np.array(success)], np.asarray(ucbs)[np.array(success)], color='darkgreen')\n",
    "\n",
    "# plt.scatter(np.asarray(pVals)[~np.array(success)], np.asarray(lcbs)[~np.array(success)], color='darkred', marker='x')\n",
    "# plt.scatter(np.asarray(pVals)[~np.array(success)], np.asarray(ucbs)[~np.array(success)], color='darkred', marker='x')\n",
    "\n",
    "plt.axhline(0, color='k', linestyle='--')\n",
    "plt.axvline(0.05, color='gray', linestyle='--')\n",
    "\n",
    "plt.xlabel(\"p-value\")\n",
    "plt.ylabel(\"Range of confidence interval\")\n",
    "plt.title(\"Succeeded in \" + str(np.mean(success)*100) + \"% of trials\")\n",
    "\n",
    "plt.show()"
   ]
  },
  {
   "cell_type": "markdown",
   "id": "45a8193e",
   "metadata": {},
   "source": [
    "## Multidimensional Zero Coefficient"
   ]
  },
  {
   "cell_type": "code",
   "execution_count": null,
   "id": "aeab94d1",
   "metadata": {},
   "outputs": [
    {
     "name": "stdout",
     "output_type": "stream",
     "text": [
      "p value 0.6980530294878315 and confidence interval(s) [-0.10692994 -0.07727333] to [0.14759281 0.19240353]\n",
      "p value 0.3347537088042244 and confidence interval(s) [-0.1298134 -0.2003977] to [0.16555354 0.03208879]\n",
      "p value 0.8983883131102209 and confidence interval(s) [-0.17557962 -0.13043852] to [0.10444842 0.11353017]\n",
      "p value 0.023982881216893293 and confidence interval(s) [ 0.06327499 -0.20939884] to [0.31963354 0.0639657 ]\n",
      "p value 0.5277879658264382 and confidence interval(s) [-0.17331238 -0.24415238] to [0.16612533 0.06457992]\n",
      "p value 0.896604154356702 and confidence interval(s) [-0.1350904  -0.15964858] to [0.12019322 0.08782809]\n",
      "p value 0.4855059501679706 and confidence interval(s) [-0.08198623 -0.20615888] to [0.15843178 0.04944496]\n"
     ]
    }
   ],
   "source": [
    "#%%time\n",
    "bmean, bstd = 0,0\n",
    "reps = 1000\n",
    "\n",
    "for d in [2, 5, 10]:\n",
    "    if d == 1:\n",
    "        print(\"We don't allow d=1 because it changes the return type of the subplots function >.<\")\n",
    "    equiv = []\n",
    "    pVals = []\n",
    "    lcbs = []\n",
    "    ucbs = []\n",
    "\n",
    "    betas = []\n",
    "    covered = []\n",
    "\n",
    "    for i in range(reps):\n",
    "        beta = np.array(np.random.normal(loc=bmean,scale=bstd, size=d))\n",
    "        s, p, l, u = compareAnalyticVsOptimization(beta=beta)\n",
    "        equiv.append(s)\n",
    "        pVals.append(p)\n",
    "        lcbs.append(l)\n",
    "        ucbs.append(u)\n",
    "\n",
    "        betas.append(beta)\n",
    "        covered.append((l<=beta) & (beta<=u))\n",
    "    \n",
    "    fig, ax = plt.subplots(d, figsize=(8, 4*d))\n",
    "    for i in range(d):\n",
    "        ilcbs = [l[i] for l in lcbs]\n",
    "        iucbs = [u[i] for u in ucbs]\n",
    "        minY = min(ilcbs)\n",
    "        maxY = max(iucbs)\n",
    "        ax[i].set_ylim(minY, maxY)\n",
    "\n",
    "        for (p, l, u, s) in zip(pVals, ilcbs, iucbs, equiv):\n",
    "            # ymin and ymax are the 'fraction of the way up from the bottom of the plot'\n",
    "            ax[i].axvline(x=p, ymin=(l-minY)/(maxY - minY), ymax=(u-minY)/(maxY-minY),\n",
    "                        color=('darkgreen' if s else 'darkred'), alpha=(0.2 if s else 1))  # display mismatches in a darker line\n",
    "\n",
    "        ax[i].axhline(0, color='k', linestyle='--')\n",
    "        ax[i].axvline(0.05, color='gray', linestyle='--')\n",
    "\n",
    "    ax[0].set_title(\"Analytic agreed with empirical in \" + str(np.mean(equiv)*100) + \"% of trials\\nwith empirical coverage \"+str(np.mean(covered)*100)+\"%\")    \n",
    "    ax[d-1].set_xlabel(\"p-value\")\n",
    "    ax[0].set_ylabel(\"Range of confidence interval\")\n",
    "    plt.tight_layout()\n",
    "    \n",
    "    plt.savefig(\"trueZero-dim\"+str(d)+\".png\")\n",
    "    plt.show()"
   ]
  },
  {
   "cell_type": "markdown",
   "id": "fd67fe2a",
   "metadata": {},
   "source": [
    "## Multidimensional Nonzero Coefficient"
   ]
  },
  {
   "cell_type": "code",
   "execution_count": null,
   "id": "34fe2092",
   "metadata": {},
   "outputs": [],
   "source": [
    "%%time\n",
    "bmean, bstd = 0,1\n",
    "reps = 1000\n",
    "\n",
    "for d in [2, 5, 10]:\n",
    "    if d == 1:\n",
    "        print(\"We don't allow d=1 because it changes the return type of the subplots function >.<\")\n",
    "    equiv = []\n",
    "    pVals = []\n",
    "    lcbs = []\n",
    "    ucbs = []\n",
    "\n",
    "    betas = []\n",
    "    covered = []\n",
    "\n",
    "    for i in range(reps):\n",
    "        beta = np.array(np.random.normal(loc=bmean,scale=bstd, size=d))\n",
    "        s, p, l, u = compareAnalyticVsOptimization(beta=beta)\n",
    "        equiv.append(s)\n",
    "        pVals.append(p)\n",
    "        lcbs.append(l)\n",
    "        ucbs.append(u)\n",
    "\n",
    "        betas.append(beta)\n",
    "        covered.append((l<=beta) & (beta<=u))\n",
    "    \n",
    "    fig, ax = plt.subplots(d, figsize=(8, 4*d))\n",
    "    for i in range(d):\n",
    "        ilcbs = [l[i] for l in lcbs]\n",
    "        iucbs = [u[i] for u in ucbs]\n",
    "        minY = min(ilcbs)\n",
    "        maxY = max(iucbs)\n",
    "        # For some reason this isn't working?\n",
    "        ax[i].set_ylim(minY, maxY)\n",
    "\n",
    "        for (p, l, u, s) in zip(pVals, ilcbs, iucbs, equiv):\n",
    "            # ymin and ymax are the 'fraction of the way up from the bottom of the plot'\n",
    "            ax[i].axvline(x=p, ymin=(l-minY)/(maxY - minY), ymax=(u-minY)/(maxY-minY),\n",
    "                        color=('darkgreen' if s else 'darkred'), alpha=(0.2 if s else 1))  # display mismatches in a darker line\n",
    "\n",
    "        ax[i].axhline(0, color='k', linestyle='--')\n",
    "        ax[i].axvline(0.05, color='gray', linestyle='--')\n",
    "\n",
    "    ax[0].set_title(\"Analytic agreed with empirical in \" + str(np.mean(equiv)*100) + \"% of trials\\nwith empirical coverage \"+str(np.mean(covered)*100)+\"%\")    \n",
    "    ax[d-1].set_xlabel(\"p-value\")\n",
    "    ax[0].set_ylabel(\"Range of confidence interval\")\n",
    "    plt.tight_layout()\n",
    "    \n",
    "    plt.savefig(\"trueNonZero-dim\"+str(d)+\".png\")\n",
    "    plt.show()"
   ]
  },
  {
   "cell_type": "code",
   "execution_count": null,
   "id": "82006342",
   "metadata": {},
   "outputs": [],
   "source": []
  }
 ],
 "metadata": {
  "kernelspec": {
   "display_name": "Python 3",
   "language": "python",
   "name": "python3"
  },
  "language_info": {
   "codemirror_mode": {
    "name": "ipython",
    "version": 3
   },
   "file_extension": ".py",
   "mimetype": "text/x-python",
   "name": "python",
   "nbconvert_exporter": "python",
   "pygments_lexer": "ipython3",
   "version": "3.9.4"
  }
 },
 "nbformat": 4,
 "nbformat_minor": 5
}
