{
 "cells": [
  {
   "cell_type": "markdown",
   "id": "recovered-judge",
   "metadata": {},
   "source": [
    "# Test Analystic GLRT vs Optimization GLRT"
   ]
  },
  {
   "cell_type": "code",
   "execution_count": 1,
   "id": "usual-leather",
   "metadata": {},
   "outputs": [],
   "source": [
    "# Comparing the analytic GLRT for the single-coefficient case with the optimization-based version\n",
    "import numpy as np\n",
    "import torch\n",
    "import matplotlib.pyplot as plt\n",
    "from sklearn.linear_model import LinearRegression"
   ]
  },
  {
   "cell_type": "code",
   "execution_count": 2,
   "id": "defensive-scale",
   "metadata": {},
   "outputs": [],
   "source": [
    "from uncertainty.DataGeneration import linearRegression_normal\n",
    "from uncertainty.torch_linear import TorchLinear\n",
    "from uncertainty.analyticLinearRegressionCIs import analyticLinearTest_GLRT, analyticLinearCis\n",
    "from uncertainty.glrtTorch import glrtTorchCis\n",
    "from uncertainty.torch_linear import TorchLinear"
   ]
  },
  {
   "cell_type": "code",
   "execution_count": 3,
   "id": "wired-occasions",
   "metadata": {},
   "outputs": [],
   "source": [
    "def compareAnalyticVsOptimization(beta, n=200, alpha=0.05):\n",
    "    \"\"\"Generate data according to a linear regression with coefficient vector beta.\n",
    "    Compute the analytic chi-squared test 'is the coefficient vector zero?'. Record the p-value.\n",
    "    Compute the confidence intervals on beta using the GLRT-based method. Record whether ALL intervals contains zero.\n",
    "    Return TRUE if both methods agree, and FALSE otherwise.\"\"\"  \n",
    "    # Get data\n",
    "    X, y = linearRegression_normal(beta=np.array(beta), cov=np.eye(len(beta)), sigma=1, n=n)\n",
    "\n",
    "    # Compute the p-value from the chi squared test\n",
    "    TL = TorchLinear(lr=0.3,max_iter=30)\n",
    "    TL.fit(X,y)\n",
    "    pVal_TL = analyticLinearTest_GLRT(TL, X, y)\n",
    "    \n",
    "    # Next, get the optimization-based intervals.\n",
    "    # GLRT method with Torch model (coefs)\n",
    "    lcb_GLRT, ucb_GLRT, lcb_Results, ucb_Results, ucb_Torch = glrtTorchCis(\n",
    "        lambda:TorchLinear(lr=0.3,max_iter=100,fit_intercept=False), X=X, y=y, citype='coefs', alpha=alpha,\n",
    "        search_kwargs={'lmbds':np.logspace(-10,10,101)},fit_kwargs={'lr':0.3,'max_iter':30})\n",
    "    \n",
    "    # To check whether they agree with the analytic version:\n",
    "    # The p-value should be < 0.05 iff any of the level-0.05 glrt-based confidence intervals\n",
    "    # on the coefficient beta don't contain zero.\n",
    "    isNotZero_analytic = pVal_TL < alpha    # The chi-square test is one-sided\n",
    "    isNotZero_optim = any(lcb_GLRT > 0) or any(ucb_GLRT < 0)\n",
    "    \n",
    "    print(\"p value\", pVal_TL, \"and confidence interval(s)\", lcb_GLRT, \"to\", ucb_GLRT)\n",
    "    \n",
    "    return (isNotZero_analytic == isNotZero_optim, pVal_TL, lcb_GLRT, ucb_GLRT)\n",
    "    "
   ]
  },
  {
   "cell_type": "markdown",
   "id": "painted-member",
   "metadata": {},
   "source": [
    "## Single nonzero coefficient"
   ]
  },
  {
   "cell_type": "code",
   "execution_count": null,
   "id": "living-planet",
   "metadata": {
    "scrolled": true
   },
   "outputs": [
    {
     "name": "stdout",
     "output_type": "stream",
     "text": [
      "p value 0.1729001695775163 and confidence interval(s) [-0.03946152] to [0.25403476]\n",
      "p value 0.00405907504087788 and confidence interval(s) [0.05896423] to [0.28133342]\n",
      "p value 0.7962059171500295 and confidence interval(s) [-0.09323138] to [0.1295778]\n",
      "p value 0.15250508656146367 and confidence interval(s) [0.02002812] to [0.19162913]\n",
      "p value 0.0192294186608426 and confidence interval(s) [0.05424307] to [0.29597059]\n",
      "p value 0.059135619309627185 and confidence interval(s) [0.00398964] to [0.26626384]\n",
      "p value 0.40497594396583125 and confidence interval(s) [-0.0563984] to [0.1608731]\n",
      "p value 0.06685948354939908 and confidence interval(s) [0.01551689] to [0.23349136]\n",
      "p value 0.00013033707512077886 and confidence interval(s) [0.15429305] to [0.30178562]\n"
     ]
    }
   ],
   "source": [
    "%%time\n",
    "beta = [0.1]\n",
    "\n",
    "success = []\n",
    "pVals = []\n",
    "lcbs = []\n",
    "ucbs = []\n",
    "\n",
    "#for i in range(1000):\n",
    "for i in range(100):\n",
    "    s, p, l, u = compareAnalyticVsOptimization(beta=beta)\n",
    "    success.append(s)\n",
    "    pVals.append(p)\n",
    "    lcbs.append(l)\n",
    "    ucbs.append(u)"
   ]
  },
  {
   "cell_type": "code",
   "execution_count": null,
   "id": "painful-settle",
   "metadata": {},
   "outputs": [],
   "source": [
    "minY = min(lcbs)\n",
    "maxY = max(ucbs)\n",
    "plt.ylim(minY, maxY)\n",
    "\n",
    "for (p, l, u, s) in zip(pVals, lcbs, ucbs, success):\n",
    "    # ymin and ymax are the 'fraction of the way up from the bottom of the plot'\n",
    "    plt.axvline(x=p, ymin=(l-minY)/(maxY - minY), ymax=(u-minY)/(maxY-minY),\n",
    "                color=('darkgreen' if s else 'darkred'), alpha=(0.2 if s else 1))  # display mismatches in a darker line\n",
    "\n",
    "# plt.scatter(np.asarray(pVals)[np.array(success)], np.asarray(lcbs)[np.array(success)], color='darkgreen')\n",
    "# plt.scatter(np.asarray(pVals)[np.array(success)], np.asarray(ucbs)[np.array(success)], color='darkgreen')\n",
    "\n",
    "# plt.scatter(np.asarray(pVals)[~np.array(success)], np.asarray(lcbs)[~np.array(success)], color='darkred', marker='x')\n",
    "# plt.scatter(np.asarray(pVals)[~np.array(success)], np.asarray(ucbs)[~np.array(success)], color='darkred', marker='x')\n",
    "\n",
    "plt.axhline(0, color='k', linestyle='--')\n",
    "plt.axvline(0.05, color='gray', linestyle='--')\n",
    "\n",
    "plt.xlabel(\"p-value\")\n",
    "plt.ylabel(\"Range of confidence interval\")\n",
    "plt.title(\"Succeeded in \" + str(np.mean(success)*100) + \"% of trials\")\n",
    "\n",
    "plt.savefig(\"d1Beta0.1.png\")\n",
    "plt.show()"
   ]
  },
  {
   "cell_type": "markdown",
   "id": "unauthorized-reader",
   "metadata": {},
   "source": [
    "## Single Zero Coefficient"
   ]
  },
  {
   "cell_type": "code",
   "execution_count": null,
   "id": "funny-strip",
   "metadata": {
    "scrolled": true
   },
   "outputs": [],
   "source": [
    "%%time\n",
    "beta = [0.0]\n",
    "\n",
    "success = []\n",
    "pVals = []\n",
    "lcbs = []\n",
    "ucbs = []\n",
    "\n",
    "for i in range(1000):\n",
    "#for i in range(100):\n",
    "    s, p, l, u = compareAnalyticVsOptimization(beta=beta)\n",
    "    success.append(s)\n",
    "    pVals.append(p)\n",
    "    lcbs.append(l)\n",
    "    ucbs.append(u)"
   ]
  },
  {
   "cell_type": "code",
   "execution_count": null,
   "id": "occupational-albany",
   "metadata": {},
   "outputs": [],
   "source": [
    "minY = min(lcbs)\n",
    "maxY = max(ucbs)\n",
    "plt.ylim(minY, maxY)\n",
    "\n",
    "for (p, l, u, s) in zip(pVals, lcbs, ucbs, success):\n",
    "    # ymin and ymax are the 'fraction of the way up from the bottom of the plot'\n",
    "    plt.axvline(x=p, ymin=(l-minY)/(maxY - minY), ymax=(u-minY)/(maxY-minY),\n",
    "                color=('darkgreen' if s else 'darkred'), alpha=(0.2 if s else 1))  # display mismatches in a darker line\n",
    "\n",
    "# plt.scatter(np.asarray(pVals)[np.array(success)], np.asarray(lcbs)[np.array(success)], color='darkgreen')\n",
    "# plt.scatter(np.asarray(pVals)[np.array(success)], np.asarray(ucbs)[np.array(success)], color='darkgreen')\n",
    "\n",
    "# plt.scatter(np.asarray(pVals)[~np.array(success)], np.asarray(lcbs)[~np.array(success)], color='darkred', marker='x')\n",
    "# plt.scatter(np.asarray(pVals)[~np.array(success)], np.asarray(ucbs)[~np.array(success)], color='darkred', marker='x')\n",
    "\n",
    "plt.axhline(0, color='k', linestyle='--')\n",
    "plt.axvline(0.05, color='gray', linestyle='--')\n",
    "\n",
    "plt.xlabel(\"p-value\")\n",
    "plt.ylabel(\"Range of confidence interval\")\n",
    "plt.title(\"Succeeded in \" + str(np.mean(success)*100) + \"% of trials\")\n",
    "\n",
    "plt.savefig(\"d1Beta0.png\")\n",
    "plt.show()"
   ]
  },
  {
   "cell_type": "markdown",
   "id": "constitutional-incentive",
   "metadata": {},
   "source": [
    "## Multi-dimensional Beta"
   ]
  },
  {
   "cell_type": "code",
   "execution_count": null,
   "id": "absent-education",
   "metadata": {},
   "outputs": [],
   "source": [
    "%%time\n",
    "beta = [0.0, 0.0]\n",
    "\n",
    "success = []\n",
    "pVals = []\n",
    "lcbs = []\n",
    "ucbs = []\n",
    "\n",
    "for i in range(1000):\n",
    "#for i in range(100):\n",
    "    s, p, l, u = compareAnalyticVsOptimization(beta=beta)\n",
    "    success.append(s)\n",
    "    pVals.append(p)\n",
    "    lcbs.append(l)\n",
    "    ucbs.append(u)"
   ]
  },
  {
   "cell_type": "code",
   "execution_count": null,
   "id": "amber-collect",
   "metadata": {
    "scrolled": true
   },
   "outputs": [],
   "source": [
    "d = len(beta)\n",
    "fig, ax = plt.subplots(d, figsize=(8, 4*d))\n",
    "for i in range(d):\n",
    "    ilcbs = [l[i] for l in lcbs]\n",
    "    iucbs = [u[i] for u in ucbs]\n",
    "    minY = min(ilcbs)\n",
    "    maxY = max(iucbs)\n",
    "    ax[i].set_ylim(minY, maxY)\n",
    "    \n",
    "    for (p, l, u, s) in zip(pVals, ilcbs, iucbs, success):\n",
    "        # ymin and ymax are the 'fraction of the way up from the bottom of the plot'\n",
    "        ax[i].axvline(x=p, ymin=(l-minY)/(maxY - minY), ymax=(u-minY)/(maxY-minY),\n",
    "                    color=('darkgreen' if s else 'darkred'), alpha=(0.2 if s else 1))  # display mismatches in a darker line\n",
    "\n",
    "    ax[i].axhline(0, color='k', linestyle='--')\n",
    "    ax[i].axvline(0.05, color='gray', linestyle='--')\n",
    "    \n",
    "ax[0].set_title(\"Succeeded in \" + str(np.mean(success)*100) + \"% of trials\")    \n",
    "ax[d-1].set_xlabel(\"p-value\")\n",
    "ax[0].set_ylabel(\"Range of confidence interval\")\n",
    "plt.tight_layout()\n",
    "plt.savefig(\"d2Beta0.png\")\n",
    "plt.show()"
   ]
  },
  {
   "cell_type": "markdown",
   "id": "transsexual-acquisition",
   "metadata": {},
   "source": [
    "## Higher dimensional beta - check for multiple testing problems (I don't think we will have them... but good to confirm)"
   ]
  },
  {
   "cell_type": "code",
   "execution_count": null,
   "id": "economic-knock",
   "metadata": {},
   "outputs": [],
   "source": [
    "%%time\n",
    "beta = [0.0, 0.0, 0.0, 0.0, 0.0]\n",
    "\n",
    "success = []\n",
    "pVals = []\n",
    "lcbs = []\n",
    "ucbs = []\n",
    "\n",
    "for i in range(1000):\n",
    "#for i in range(100):\n",
    "    s, p, l, u = compareAnalyticVsOptimization(beta=beta)\n",
    "    success.append(s)\n",
    "    pVals.append(p)\n",
    "    lcbs.append(l)\n",
    "    ucbs.append(u)"
   ]
  },
  {
   "cell_type": "code",
   "execution_count": null,
   "id": "wound-roads",
   "metadata": {},
   "outputs": [],
   "source": [
    "d = len(beta)\n",
    "fig, ax = plt.subplots(d, figsize=(8, 4*d))\n",
    "for i in range(d):\n",
    "    ilcbs = [l[i] for l in lcbs]\n",
    "    iucbs = [u[i] for u in ucbs]\n",
    "    minY = min(ilcbs)\n",
    "    maxY = max(iucbs)\n",
    "    ax[i].set_ylim(minY, maxY)\n",
    "    \n",
    "    for (p, l, u, s) in zip(pVals, ilcbs, iucbs, success):\n",
    "        # ymin and ymax are the 'fraction of the way up from the bottom of the plot'\n",
    "        ax[i].axvline(x=p, ymin=(l-minY)/(maxY - minY), ymax=(u-minY)/(maxY-minY),\n",
    "                    color=('darkgreen' if s else 'darkred'), alpha=(0.2 if s else 1))  # display mismatches in a darker line\n",
    "\n",
    "    ax[i].axhline(0, color='k', linestyle='--')\n",
    "    ax[i].axvline(0.05, color='gray', linestyle='--')\n",
    "    \n",
    "ax[0].set_title(\"Succeeded in \" + str(np.mean(success)*100) + \"% of trials\")    \n",
    "ax[d-1].set_xlabel(\"p-value\")\n",
    "ax[0].set_ylabel(\"Range of confidence interval\")\n",
    "plt.tight_layout()\n",
    "plt.savefig(\"d5Beta0.png\")\n",
    "plt.show()"
   ]
  },
  {
   "cell_type": "code",
   "execution_count": null,
   "id": "29df1370",
   "metadata": {},
   "outputs": [],
   "source": []
  }
 ],
 "metadata": {
  "kernelspec": {
   "display_name": "Python 3",
   "language": "python",
   "name": "python3"
  },
  "language_info": {
   "codemirror_mode": {
    "name": "ipython",
    "version": 3
   },
   "file_extension": ".py",
   "mimetype": "text/x-python",
   "name": "python",
   "nbconvert_exporter": "python",
   "pygments_lexer": "ipython3",
   "version": "3.9.4"
  }
 },
 "nbformat": 4,
 "nbformat_minor": 5
}
