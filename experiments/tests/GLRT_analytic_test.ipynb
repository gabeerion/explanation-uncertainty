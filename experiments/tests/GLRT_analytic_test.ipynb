{
 "cells": [
  {
   "cell_type": "markdown",
   "id": "recovered-judge",
   "metadata": {},
   "source": [
    "# Test Analystic GLRT vs Optimization GLRT"
   ]
  },
  {
   "cell_type": "code",
   "execution_count": 1,
   "id": "usual-leather",
   "metadata": {},
   "outputs": [],
   "source": [
    "# Comparing the analytic GLRT for the single-coefficient case with the optimization-based version\n",
    "import numpy as np\n",
    "import torch\n",
    "import matplotlib.pyplot as plt\n",
    "from sklearn.linear_model import LinearRegression"
   ]
  },
  {
   "cell_type": "code",
   "execution_count": 2,
   "id": "defensive-scale",
   "metadata": {},
   "outputs": [],
   "source": [
    "from uncertainty.DataGeneration import linearRegression_normal\n",
    "from uncertainty.torch_linear import TorchLinear\n",
    "from uncertainty.analyticLinearRegressionCIs import analyticLinearTest_GLRT, analyticLinearCis\n",
    "from uncertainty.glrtTorch import glrtTorchCis\n",
    "from uncertainty.torch_linear import TorchLinear"
   ]
  },
  {
   "cell_type": "code",
   "execution_count": 3,
   "id": "wired-occasions",
   "metadata": {},
   "outputs": [],
   "source": [
    "def compareAnalyticVsOptimization(beta, n=200, alpha=0.05):\n",
    "    \"\"\"Generate data according to a linear regression with coefficient vector beta.\n",
    "    Compute the analytic chi-squared test 'is the coefficient vector zero?'. Record the p-value.\n",
    "    Compute the confidence intervals on beta using the GLRT-based method. Record whether ALL intervals contains zero.\n",
    "    Return TRUE if both methods agree, and FALSE otherwise.\"\"\"  \n",
    "    # Get data\n",
    "    X, y = linearRegression_normal(beta=np.array(beta), cov=np.eye(len(beta)), sigma=1, n=n)\n",
    "\n",
    "    # Compute the p-value from the chi squared test\n",
    "    TL = TorchLinear(lr=0.3,max_iter=30)\n",
    "    TL.fit(X,y)\n",
    "    pVal_TL = analyticLinearTest_GLRT(TL, X, y)\n",
    "    \n",
    "    # Next, get the optimization-based intervals.\n",
    "    # GLRT method with Torch model (coefs)\n",
    "    lcb_GLRT, ucb_GLRT, lcb_Results, ucb_Results, ucb_Torch = glrtTorchCis(\n",
    "        lambda:TorchLinear(lr=0.3,max_iter=100,fit_intercept=False), X=X, y=y, citype='coefs', alpha=alpha,\n",
    "        search_kwargs={'lmbds':np.logspace(-10,10,101)},fit_kwargs={'lr':0.3,'max_iter':30})\n",
    "    \n",
    "    # To check whether they agree with the analytic version:\n",
    "    # The p-value should be < 0.05 iff any of the level-0.05 glrt-based confidence intervals\n",
    "    # on the coefficient beta don't contain zero.\n",
    "    isNotZero_analytic = pVal_TL < alpha    # The chi-square test is one-sided\n",
    "    isNotZero_optim = any(lcb_GLRT > 0) or any(ucb_GLRT < 0)\n",
    "    \n",
    "    print(\"p value\", pVal_TL, \"and confidence interval(s)\", lcb_GLRT, \"to\", ucb_GLRT)\n",
    "    \n",
    "    return (isNotZero_analytic == isNotZero_optim, pVal_TL, lcb_GLRT, ucb_GLRT)\n",
    "    "
   ]
  },
  {
   "cell_type": "markdown",
   "id": "painted-member",
   "metadata": {},
   "source": [
    "## Single nonzero coefficient"
   ]
  },
  {
   "cell_type": "code",
   "execution_count": null,
   "id": "living-planet",
   "metadata": {
    "scrolled": true
   },
   "outputs": [
    {
     "name": "stdout",
     "output_type": "stream",
     "text": [
      "p value 0.2730769739905715 and confidence interval(s) [-0.04621225] to [0.18728517]\n",
      "p value 0.18350520501753576 and confidence interval(s) [-0.03571206] to [0.22157654]\n",
      "p value 0.03294902462555194 and confidence interval(s) [0.03522803] to [0.25493419]\n",
      "p value 0.02266104231696031 and confidence interval(s) [0.03810236] to [0.28994715]\n",
      "p value 0.112772854276467 and confidence interval(s) [-0.01754824] to [0.24477921]\n",
      "p value 0.20790656977214939 and confidence interval(s) [0.0134417] to [0.16700079]\n",
      "p value 0.7055638248940208 and confidence interval(s) [-0.1546178] to [0.09814219]\n",
      "p value 0.9937585163692888 and confidence interval(s) [-0.11516205] to [0.11627033]\n",
      "p value 0.08109185593955626 and confidence interval(s) [0.01012423] to [0.21824399]\n",
      "p value 0.11871346287756657 and confidence interval(s) [-0.01366923] to [0.23345451]\n",
      "p value 0.5109407684841294 and confidence interval(s) [-0.07371692] to [0.16548997]\n",
      "p value 0.34044925025777195 and confidence interval(s) [-0.05463722] to [0.18098974]\n",
      "p value 0.923946223660555 and confidence interval(s) [-0.0981826] to [0.11082803]\n",
      "p value 0.3478043190180804 and confidence interval(s) [-0.05794544] to [0.19204284]\n",
      "p value 0.21661278644115023 and confidence interval(s) [0.00484653] to [0.16972247]\n",
      "p value 0.6528536002273654 and confidence interval(s) [-0.0807251] to [0.14404635]\n",
      "p value 0.0014120542751137055 and confidence interval(s) [0.09802994] to [0.32891706]\n",
      "p value 0.024866714517145616 and confidence interval(s) [0.03483712] to [0.28326046]\n",
      "p value 0.22304559402779667 and confidence interval(s) [-0.00187534] to [0.18050714]\n",
      "p value 0.007602257575229809 and confidence interval(s) [0.10120007] to [0.27898443]\n",
      "p value 0.01726466789951575 and confidence interval(s) [0.06705739] to [0.30562124]\n",
      "p value 0.3246151007728929 and confidence interval(s) [-0.04990679] to [0.18385693]\n",
      "p value 0.5976874826690888 and confidence interval(s) [-0.07584232] to [0.14612009]\n",
      "p value 0.03459063508833449 and confidence interval(s) [-0.00318982] to [0.31242806]\n",
      "p value 0.05976525188556869 and confidence interval(s) [-0.00168631] to [0.25422359]\n",
      "p value 0.41296915198219175 and confidence interval(s) [-0.0256584] to [0.15149251]\n",
      "p value 0.273606440341678 and confidence interval(s) [-0.04347802] to [0.19322295]\n",
      "p value 0.6340204121921491 and confidence interval(s) [-0.09345409] to [0.16423668]\n",
      "p value 0.07513147724625047 and confidence interval(s) [0.03164721] to [0.20961611]\n",
      "p value 0.3546410983395678 and confidence interval(s) [-0.06189809] to [0.20935071]\n",
      "p value 0.003945665791935116 and confidence interval(s) [0.1245921] to [0.29437357]\n",
      "p value 0.013606748157812043 and confidence interval(s) [0.09606902] to [0.27461731]\n",
      "p value 0.04830973676294592 and confidence interval(s) [0.01601403] to [0.26587176]\n",
      "p value 0.024256659240831757 and confidence interval(s) [0.0243173] to [0.28106514]\n",
      "p value 0.036510240541437256 and confidence interval(s) [0.02395443] to [0.31896138]\n",
      "p value 0.8414359548018784 and confidence interval(s) [-0.11072353] to [0.1398637]\n",
      "p value 0.013463278224074782 and confidence interval(s) [0.0548275] to [0.30869004]\n",
      "p value 0.5503079611114552 and confidence interval(s) [-0.04506303] to [0.13632798]\n",
      "p value 0.42585245036878094 and confidence interval(s) [-0.06516122] to [0.18112141]\n",
      "p value 0.3308664458120397 and confidence interval(s) [-0.06520702] to [0.22436973]\n",
      "p value 0.3634690520901266 and confidence interval(s) [-0.05889644] to [0.19888994]\n",
      "p value 0.8022335488578035 and confidence interval(s) [-0.11339234] to [0.15469381]\n",
      "p value 0.19658717888019694 and confidence interval(s) [-0.04570094] to [0.25216383]\n",
      "p value 0.0016245270379321441 and confidence interval(s) [0.08700781] to [0.33298007]\n"
     ]
    }
   ],
   "source": [
    "%%time\n",
    "beta = [0.1]\n",
    "\n",
    "success = []\n",
    "pVals = []\n",
    "lcbs = []\n",
    "ucbs = []\n",
    "\n",
    "#for i in range(1000):\n",
    "for i in range(100):\n",
    "    s, p, l, u = compareAnalyticVsOptimization(beta=beta)\n",
    "    success.append(s)\n",
    "    pVals.append(p)\n",
    "    lcbs.append(l)\n",
    "    ucbs.append(u)"
   ]
  },
  {
   "cell_type": "code",
   "execution_count": null,
   "id": "painful-settle",
   "metadata": {},
   "outputs": [],
   "source": [
    "minY = min(lcbs)\n",
    "maxY = max(ucbs)\n",
    "plt.ylim(minY, maxY)\n",
    "\n",
    "for (p, l, u, s) in zip(pVals, lcbs, ucbs, success):\n",
    "    # ymin and ymax are the 'fraction of the way up from the bottom of the plot'\n",
    "    plt.axvline(x=p, ymin=(l-minY)/(maxY - minY), ymax=(u-minY)/(maxY-minY),\n",
    "                color=('darkgreen' if s else 'darkred'), alpha=0.2)\n",
    "\n",
    "# plt.scatter(np.asarray(pVals)[np.array(success)], np.asarray(lcbs)[np.array(success)], color='darkgreen')\n",
    "# plt.scatter(np.asarray(pVals)[np.array(success)], np.asarray(ucbs)[np.array(success)], color='darkgreen')\n",
    "\n",
    "# plt.scatter(np.asarray(pVals)[~np.array(success)], np.asarray(lcbs)[~np.array(success)], color='darkred', marker='x')\n",
    "# plt.scatter(np.asarray(pVals)[~np.array(success)], np.asarray(ucbs)[~np.array(success)], color='darkred', marker='x')\n",
    "\n",
    "plt.axhline(0, color='k', linestyle='--')\n",
    "plt.axvline(0.05, color='gray', linestyle='--')\n",
    "\n",
    "plt.xlabel(\"p-value\")\n",
    "plt.ylabel(\"Range of confidence interval\")\n",
    "plt.title(\"Succeeded in \" + str(np.mean(success)*100) + \"% of trials\")\n",
    "\n",
    "plt.show()"
   ]
  },
  {
   "cell_type": "markdown",
   "id": "unauthorized-reader",
   "metadata": {},
   "source": [
    "## Single Zero Coefficient"
   ]
  },
  {
   "cell_type": "code",
   "execution_count": null,
   "id": "funny-strip",
   "metadata": {
    "scrolled": true
   },
   "outputs": [],
   "source": [
    "%%time\n",
    "beta = [0.0]\n",
    "\n",
    "success = []\n",
    "pVals = []\n",
    "lcbs = []\n",
    "ucbs = []\n",
    "\n",
    "for i in range(1000):\n",
    "#for i in range(100):\n",
    "    s, p, l, u = compareAnalyticVsOptimization(beta=beta)\n",
    "    success.append(s)\n",
    "    pVals.append(p)\n",
    "    lcbs.append(l)\n",
    "    ucbs.append(u)"
   ]
  },
  {
   "cell_type": "code",
   "execution_count": null,
   "id": "occupational-albany",
   "metadata": {},
   "outputs": [],
   "source": [
    "minY = min(lcbs)\n",
    "maxY = max(ucbs)\n",
    "plt.ylim(minY, maxY)\n",
    "\n",
    "for (p, l, u, s) in zip(pVals, lcbs, ucbs, success):\n",
    "    # ymin and ymax are the 'fraction of the way up from the bottom of the plot'\n",
    "    plt.axvline(x=p, ymin=(l-minY)/(maxY - minY), ymax=(u-minY)/(maxY-minY),\n",
    "                color=('darkgreen' if s else 'darkred'), alpha=0.2)\n",
    "\n",
    "# plt.scatter(np.asarray(pVals)[np.array(success)], np.asarray(lcbs)[np.array(success)], color='darkgreen')\n",
    "# plt.scatter(np.asarray(pVals)[np.array(success)], np.asarray(ucbs)[np.array(success)], color='darkgreen')\n",
    "\n",
    "# plt.scatter(np.asarray(pVals)[~np.array(success)], np.asarray(lcbs)[~np.array(success)], color='darkred', marker='x')\n",
    "# plt.scatter(np.asarray(pVals)[~np.array(success)], np.asarray(ucbs)[~np.array(success)], color='darkred', marker='x')\n",
    "\n",
    "plt.axhline(0, color='k', linestyle='--')\n",
    "plt.axvline(0.05, color='gray', linestyle='--')\n",
    "\n",
    "plt.xlabel(\"p-value\")\n",
    "plt.ylabel(\"Range of confidence interval\")\n",
    "plt.title(\"Succeeded in \" + str(np.mean(success)*100) + \"% of trials\")\n",
    "\n",
    "plt.show()"
   ]
  },
  {
   "cell_type": "markdown",
   "id": "constitutional-incentive",
   "metadata": {},
   "source": [
    "## Multi-dimensional Beta"
   ]
  },
  {
   "cell_type": "code",
   "execution_count": null,
   "id": "absent-education",
   "metadata": {},
   "outputs": [],
   "source": [
    "%%time\n",
    "beta = [0.0, 0.0]\n",
    "\n",
    "success = []\n",
    "pVals = []\n",
    "lcbs = []\n",
    "ucbs = []\n",
    "\n",
    "for i in range(1000):\n",
    "#for i in range(100):\n",
    "    s, p, l, u = compareAnalyticVsOptimization(beta=beta)\n",
    "    success.append(s)\n",
    "    pVals.append(p)\n",
    "    lcbs.append(l)\n",
    "    ucbs.append(u)"
   ]
  },
  {
   "cell_type": "code",
   "execution_count": null,
   "id": "amber-collect",
   "metadata": {
    "scrolled": true
   },
   "outputs": [],
   "source": [
    "d = len(beta)\n",
    "fig, ax = plt.subplots(d)\n",
    "for i in range(d):\n",
    "    ilcbs = [l[i] for l in lcbs]\n",
    "    iucbs = [u[i] for u in ucbs]\n",
    "    minY = min(ilcbs)\n",
    "    maxY = max(iucbs)\n",
    "    ax[i].set_ylim(minY, maxY)\n",
    "    \n",
    "    for (p, l, u, s) in zip(pVals, ilcbs, iucbs, success):\n",
    "        # ymin and ymax are the 'fraction of the way up from the bottom of the plot'\n",
    "        ax[i].axvline(x=p, ymin=(l-minY)/(maxY - minY), ymax=(u-minY)/(maxY-minY),\n",
    "                    color=('darkgreen' if s else 'darkred'), alpha=0.3)\n",
    "\n",
    "    ax[i].axhline(0, color='k', linestyle='--')\n",
    "    ax[i].axvline(0.05, color='gray', linestyle='--')\n",
    "    \n",
    "ax[0].set_title(\"Succeeded in \" + str(np.mean(success)*100) + \"% of trials\")    \n",
    "ax[d-1].set_xlabel(\"p-value\")\n",
    "ax[0].set_ylabel(\"Range of confidence interval\")\n",
    "plt.tight_layout()\n",
    "plt.show()"
   ]
  },
  {
   "cell_type": "markdown",
   "id": "transsexual-acquisition",
   "metadata": {},
   "source": [
    "## Higher dimensional beta - check for multiple testing problems (I don't think we will have them... but good to confirm)"
   ]
  },
  {
   "cell_type": "code",
   "execution_count": null,
   "id": "economic-knock",
   "metadata": {},
   "outputs": [],
   "source": [
    "%%time\n",
    "beta = [0.0, 0.0, 0.0, 0.0, 0.0]\n",
    "\n",
    "success = []\n",
    "pVals = []\n",
    "lcbs = []\n",
    "ucbs = []\n",
    "\n",
    "for i in range(1000):\n",
    "#for i in range(100):\n",
    "    s, p, l, u = compareAnalyticVsOptimization(beta=beta)\n",
    "    success.append(s)\n",
    "    pVals.append(p)\n",
    "    lcbs.append(l)\n",
    "    ucbs.append(u)"
   ]
  },
  {
   "cell_type": "code",
   "execution_count": null,
   "id": "wound-roads",
   "metadata": {},
   "outputs": [],
   "source": [
    "d = len(beta)\n",
    "fig, ax = plt.subplots(d)\n",
    "for i in range(d):\n",
    "    ilcbs = [l[i] for l in lcbs]\n",
    "    iucbs = [u[i] for u in ucbs]\n",
    "    minY = min(ilcbs)\n",
    "    maxY = max(iucbs)\n",
    "    ax[i].set_ylim(minY, maxY)\n",
    "    \n",
    "    for (p, l, u, s) in zip(pVals, ilcbs, iucbs, success):\n",
    "        # ymin and ymax are the 'fraction of the way up from the bottom of the plot'\n",
    "        ax[i].axvline(x=p, ymin=(l-minY)/(maxY - minY), ymax=(u-minY)/(maxY-minY),\n",
    "                    color=('darkgreen' if s else 'darkred'), alpha=0.3)\n",
    "\n",
    "    ax[i].axhline(0, color='k', linestyle='--')\n",
    "    ax[i].axvline(0.05, color='gray', linestyle='--')\n",
    "    \n",
    "ax[0].set_title(\"Succeeded in \" + str(np.mean(success)*100) + \"% of trials\")    \n",
    "ax[d-1].set_xlabel(\"p-value\")\n",
    "ax[0].set_ylabel(\"Range of confidence interval\")\n",
    "plt.tight_layout()\n",
    "plt.show()"
   ]
  },
  {
   "cell_type": "code",
   "execution_count": null,
   "id": "42c51910",
   "metadata": {},
   "outputs": [],
   "source": []
  }
 ],
 "metadata": {
  "kernelspec": {
   "display_name": "Python 3",
   "language": "python",
   "name": "python3"
  },
  "language_info": {
   "codemirror_mode": {
    "name": "ipython",
    "version": 3
   },
   "file_extension": ".py",
   "mimetype": "text/x-python",
   "name": "python",
   "nbconvert_exporter": "python",
   "pygments_lexer": "ipython3",
   "version": "3.9.4"
  }
 },
 "nbformat": 4,
 "nbformat_minor": 5
}
