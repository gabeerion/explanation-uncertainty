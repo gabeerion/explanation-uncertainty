{
 "cells": [
  {
   "cell_type": "markdown",
   "id": "recovered-judge",
   "metadata": {},
   "source": [
    "# Test Analystic GLRT vs Optimization GLRT"
   ]
  },
  {
   "cell_type": "code",
   "execution_count": 1,
   "id": "usual-leather",
   "metadata": {},
   "outputs": [],
   "source": [
    "# Comparing the analytic GLRT for the single-coefficient case with the optimization-based version\n",
    "import numpy as np\n",
    "import torch\n",
    "import matplotlib.pyplot as plt\n",
    "from sklearn.linear_model import LinearRegression"
   ]
  },
  {
   "cell_type": "code",
   "execution_count": 2,
   "id": "defensive-scale",
   "metadata": {},
   "outputs": [],
   "source": [
    "from uncertainty.DataGeneration import linearRegression_normal\n",
    "from uncertainty.torch_linear import TorchLinear\n",
    "from uncertainty.analyticLinearRegressionCIs import analyticLinearTest_GLRT, analyticLinearCis\n",
    "from uncertainty.glrtTorch import glrtTorchCis\n",
    "from uncertainty.torch_linear import TorchLinear"
   ]
  },
  {
   "cell_type": "code",
   "execution_count": 8,
   "id": "wired-occasions",
   "metadata": {},
   "outputs": [],
   "source": [
    "def compareAnalyticVsOptimization(beta, n=200, alpha=0.05):\n",
    "    \"\"\"Generate data according to a linear regression with coefficient vector beta.\n",
    "    Compute the analytic chi-squared test 'is the coefficient vector zero?'. Record the p-value.\n",
    "    Compute the confidence intervals on beta using the GLRT-based method. Record whether ALL intervals contains zero.\n",
    "    Return TRUE if both methods agree, and FALSE otherwise.\"\"\"  \n",
    "    # Get data\n",
    "    X, y = linearRegression_normal(beta=np.array(beta), cov=np.eye(len(beta)), sigma=1, n=n)\n",
    "\n",
    "    # Compute the p-value from the chi squared test\n",
    "    TL = TorchLinear(lr=0.3,max_iter=30)\n",
    "    TL.fit(X,y)\n",
    "    pVal_TL = analyticLinearTest_GLRT(TL, X, y)\n",
    "    \n",
    "    # Next, get the optimization-based intervals.\n",
    "    # GLRT method with Torch model (coefs)\n",
    "    lcb_GLRT, ucb_GLRT, lcb_Results, ucb_Results, ucb_Torch = glrtTorchCis(\n",
    "        lambda:TorchLinear(lr=0.3,max_iter=100,fit_intercept=False), X=X, y=y, citype='coefs', alpha=alpha,\n",
    "        search_kwargs={'lmbds':np.logspace(-10,10,101)},fit_kwargs={'lr':0.3,'max_iter':30})\n",
    "    \n",
    "    # To check whether they agree with the analytic version:\n",
    "    # The p-value should be < 0.05 iff any of the level-0.05 glrt-based confidence intervals\n",
    "    # on the coefficient beta don't contain zero.\n",
    "    isNotZero_analytic = pVal_TL < alpha    # The chi-square test is one-sided\n",
    "    isNotZero_optim = any(lcb_GLRT > 0) or any(ucb_GLRT < 0)\n",
    "    \n",
    "    print(\"p value\", pVal_TL, \"and confidence interval(s)\", lcb_GLRT, \"to\", ucb_GLRT)\n",
    "    \n",
    "    return (isNotZero_analytic == isNotZero_optim, pVal_TL, lcb_GLRT, ucb_GLRT)\n",
    "    "
   ]
  },
  {
   "cell_type": "markdown",
   "id": "painted-member",
   "metadata": {},
   "source": [
    "## Single nonzero coefficient"
   ]
  },
  {
   "cell_type": "code",
   "execution_count": 9,
   "id": "living-planet",
   "metadata": {
    "scrolled": true
   },
   "outputs": [
    {
     "name": "stdout",
     "output_type": "stream",
     "text": [
      "p value 0.022285602035508556 and confidence interval [0.03723447] to [0.29411563]\n",
      "p value 0.3055572904750059 and confidence interval [-0.06135622] to [0.22432308]\n",
      "p value 0.016140062889988926 and confidence interval [0.04983376] to [0.3083584]\n",
      "p value 0.03572538234954026 and confidence interval [0.0197282] to [0.24236403]\n",
      "p value 0.057271863657080146 and confidence interval [0.01500111] to [0.23651956]\n",
      "p value 0.00344452551998764 and confidence interval [0.08620236] to [0.33680105]\n",
      "p value 0.053555109489299535 and confidence interval [0.02955844] to [0.23960735]\n",
      "p value 0.34281536938680623 and confidence interval [-0.14899243] to [0.01725363]\n",
      "p value 0.0608583694157907 and confidence interval [0.01384854] to [0.26430982]\n"
     ]
    },
    {
     "ename": "KeyboardInterrupt",
     "evalue": "",
     "output_type": "error",
     "traceback": [
      "\u001b[1;31m---------------------------------------------------------------------------\u001b[0m",
      "\u001b[1;31mKeyboardInterrupt\u001b[0m                         Traceback (most recent call last)",
      "\u001b[1;32m<timed exec>\u001b[0m in \u001b[0;36m<module>\u001b[1;34m\u001b[0m\n",
      "\u001b[1;32m<ipython-input-8-0f7a4239fef0>\u001b[0m in \u001b[0;36mcompareAnalyticVsOptimization\u001b[1;34m(beta, n, alpha)\u001b[0m\n\u001b[0;32m     14\u001b[0m     \u001b[1;31m# Next, get the optimization-based intervals.\u001b[0m\u001b[1;33m\u001b[0m\u001b[1;33m\u001b[0m\u001b[1;33m\u001b[0m\u001b[0m\n\u001b[0;32m     15\u001b[0m     \u001b[1;31m# GLRT method with Torch model (coefs)\u001b[0m\u001b[1;33m\u001b[0m\u001b[1;33m\u001b[0m\u001b[1;33m\u001b[0m\u001b[0m\n\u001b[1;32m---> 16\u001b[1;33m     lcb_GLRT, ucb_GLRT, lcb_Results, ucb_Results, ucb_Torch = glrtTorchCis(\n\u001b[0m\u001b[0;32m     17\u001b[0m         \u001b[1;32mlambda\u001b[0m\u001b[1;33m:\u001b[0m\u001b[0mTorchLinear\u001b[0m\u001b[1;33m(\u001b[0m\u001b[0mlr\u001b[0m\u001b[1;33m=\u001b[0m\u001b[1;36m0.3\u001b[0m\u001b[1;33m,\u001b[0m\u001b[0mmax_iter\u001b[0m\u001b[1;33m=\u001b[0m\u001b[1;36m100\u001b[0m\u001b[1;33m,\u001b[0m\u001b[0mfit_intercept\u001b[0m\u001b[1;33m=\u001b[0m\u001b[1;32mFalse\u001b[0m\u001b[1;33m)\u001b[0m\u001b[1;33m,\u001b[0m \u001b[0mX\u001b[0m\u001b[1;33m=\u001b[0m\u001b[0mX\u001b[0m\u001b[1;33m,\u001b[0m \u001b[0my\u001b[0m\u001b[1;33m=\u001b[0m\u001b[0my\u001b[0m\u001b[1;33m,\u001b[0m \u001b[0mcitype\u001b[0m\u001b[1;33m=\u001b[0m\u001b[1;34m'coefs'\u001b[0m\u001b[1;33m,\u001b[0m \u001b[0malpha\u001b[0m\u001b[1;33m=\u001b[0m\u001b[0malpha\u001b[0m\u001b[1;33m,\u001b[0m\u001b[1;33m\u001b[0m\u001b[1;33m\u001b[0m\u001b[0m\n\u001b[0;32m     18\u001b[0m         search_kwargs={'lmbds':np.logspace(-10,10,101)},fit_kwargs={'lr':0.3,'max_iter':30})\n",
      "\u001b[1;32mc:\\users\\jennifer rogers\\onedrive - uw\\documents\\research\\explanationuncertainty\\explanation-uncertainty\\uncertainty\\glrtTorch.py\u001b[0m in \u001b[0;36mglrtTorchCis\u001b[1;34m(modelFn, X, y, alpha, citype, bootstrap_kwargs, search_kwargs, fit_kwargs)\u001b[0m\n\u001b[0;32m     56\u001b[0m     \"\"\"\n\u001b[0;32m     57\u001b[0m     \u001b[1;31m#lcb_LR, ucb_LR = bootstrapGLRTcis(modelFn, X, y, MSE, alpha=alpha, **bootstrap_kwargs)\u001b[0m\u001b[1;33m\u001b[0m\u001b[1;33m\u001b[0m\u001b[1;33m\u001b[0m\u001b[0m\n\u001b[1;32m---> 58\u001b[1;33m     \u001b[0mucb_LR\u001b[0m \u001b[1;33m=\u001b[0m \u001b[0mbootstrapGLRTcis\u001b[0m\u001b[1;33m(\u001b[0m\u001b[0mmodelFn\u001b[0m\u001b[1;33m,\u001b[0m \u001b[0mX\u001b[0m\u001b[1;33m,\u001b[0m \u001b[0my\u001b[0m\u001b[1;33m,\u001b[0m \u001b[0mMSE\u001b[0m\u001b[1;33m,\u001b[0m \u001b[0malpha\u001b[0m\u001b[1;33m=\u001b[0m\u001b[0malpha\u001b[0m\u001b[1;33m,\u001b[0m \u001b[1;33m**\u001b[0m\u001b[0mbootstrap_kwargs\u001b[0m\u001b[1;33m)\u001b[0m\u001b[1;33m\u001b[0m\u001b[1;33m\u001b[0m\u001b[0m\n\u001b[0m\u001b[0;32m     59\u001b[0m     \u001b[0mlcbs\u001b[0m\u001b[1;33m,\u001b[0m \u001b[0mucbs\u001b[0m \u001b[1;33m=\u001b[0m \u001b[1;33m[\u001b[0m\u001b[1;33m]\u001b[0m\u001b[1;33m,\u001b[0m \u001b[1;33m[\u001b[0m\u001b[1;33m]\u001b[0m\u001b[1;33m\u001b[0m\u001b[1;33m\u001b[0m\u001b[0m\n\u001b[0;32m     60\u001b[0m     \u001b[0mlcb_all_results\u001b[0m\u001b[1;33m,\u001b[0m \u001b[0mucb_all_results\u001b[0m \u001b[1;33m=\u001b[0m \u001b[1;33m[\u001b[0m\u001b[1;33m]\u001b[0m\u001b[1;33m,\u001b[0m \u001b[1;33m[\u001b[0m\u001b[1;33m]\u001b[0m\u001b[1;33m\u001b[0m\u001b[1;33m\u001b[0m\u001b[0m\n",
      "\u001b[1;32mc:\\users\\jennifer rogers\\onedrive - uw\\documents\\research\\explanationuncertainty\\explanation-uncertainty\\uncertainty\\glrt_stat.py\u001b[0m in \u001b[0;36mbootstrapGLRTcis\u001b[1;34m(modelFn, X, y, nllFn, alpha, replicates)\u001b[0m\n\u001b[0;32m     52\u001b[0m         \u001b[1;31m# Get a clean model object and fit it to the bootstrapped data\u001b[0m\u001b[1;33m\u001b[0m\u001b[1;33m\u001b[0m\u001b[1;33m\u001b[0m\u001b[0m\n\u001b[0;32m     53\u001b[0m         \u001b[0mmodel\u001b[0m \u001b[1;33m=\u001b[0m \u001b[0mmodelFn\u001b[0m\u001b[1;33m(\u001b[0m\u001b[1;33m)\u001b[0m\u001b[1;33m\u001b[0m\u001b[1;33m\u001b[0m\u001b[0m\n\u001b[1;32m---> 54\u001b[1;33m         \u001b[0mmodel\u001b[0m\u001b[1;33m.\u001b[0m\u001b[0mfit\u001b[0m\u001b[1;33m(\u001b[0m\u001b[0mXsample\u001b[0m\u001b[1;33m,\u001b[0m \u001b[0mySample\u001b[0m\u001b[1;33m)\u001b[0m\u001b[1;33m\u001b[0m\u001b[1;33m\u001b[0m\u001b[0m\n\u001b[0m\u001b[0;32m     55\u001b[0m         \u001b[0mnegLogLambdas\u001b[0m\u001b[1;33m[\u001b[0m\u001b[0mi\u001b[0m\u001b[1;33m]\u001b[0m \u001b[1;33m=\u001b[0m \u001b[1;33m-\u001b[0m\u001b[1;36m1\u001b[0m\u001b[1;33m*\u001b[0m\u001b[1;33m(\u001b[0m\u001b[0mnllFn\u001b[0m\u001b[1;33m(\u001b[0m\u001b[0mySample\u001b[0m\u001b[1;33m,\u001b[0m \u001b[0mmodel\u001b[0m\u001b[1;33m.\u001b[0m\u001b[0mpredict\u001b[0m\u001b[1;33m(\u001b[0m\u001b[0mXsample\u001b[0m\u001b[1;33m)\u001b[0m\u001b[1;33m)\u001b[0m \u001b[1;33m-\u001b[0m \u001b[0mnllFn\u001b[0m\u001b[1;33m(\u001b[0m\u001b[0mySample\u001b[0m\u001b[1;33m,\u001b[0m \u001b[0mmodel0\u001b[0m\u001b[1;33m.\u001b[0m\u001b[0mpredict\u001b[0m\u001b[1;33m(\u001b[0m\u001b[0mXsample\u001b[0m\u001b[1;33m)\u001b[0m\u001b[1;33m)\u001b[0m\u001b[1;33m)\u001b[0m\u001b[1;33m\u001b[0m\u001b[1;33m\u001b[0m\u001b[0m\n\u001b[0;32m     56\u001b[0m \u001b[1;33m\u001b[0m\u001b[0m\n",
      "\u001b[1;32mc:\\users\\jennifer rogers\\onedrive - uw\\documents\\research\\explanationuncertainty\\explanation-uncertainty\\uncertainty\\torch_linear.py\u001b[0m in \u001b[0;36mfit\u001b[1;34m(self, X, y)\u001b[0m\n\u001b[0;32m     53\u001b[0m         \u001b[0mself\u001b[0m\u001b[1;33m.\u001b[0m\u001b[0moptimizer\u001b[0m \u001b[1;33m=\u001b[0m \u001b[0mtorch\u001b[0m\u001b[1;33m.\u001b[0m\u001b[0moptim\u001b[0m\u001b[1;33m.\u001b[0m\u001b[0mSGD\u001b[0m\u001b[1;33m(\u001b[0m\u001b[0mself\u001b[0m\u001b[1;33m.\u001b[0m\u001b[0mmodel\u001b[0m\u001b[1;33m.\u001b[0m\u001b[0mparameters\u001b[0m\u001b[1;33m(\u001b[0m\u001b[1;33m)\u001b[0m\u001b[1;33m,\u001b[0m\u001b[0mlr\u001b[0m\u001b[1;33m=\u001b[0m\u001b[0mself\u001b[0m\u001b[1;33m.\u001b[0m\u001b[0mlr\u001b[0m\u001b[1;33m)\u001b[0m\u001b[1;33m\u001b[0m\u001b[1;33m\u001b[0m\u001b[0m\n\u001b[0;32m     54\u001b[0m \u001b[1;33m\u001b[0m\u001b[0m\n\u001b[1;32m---> 55\u001b[1;33m         \u001b[0mself\u001b[0m\u001b[1;33m.\u001b[0m\u001b[0m_fit_internal\u001b[0m\u001b[1;33m(\u001b[0m\u001b[0mself\u001b[0m\u001b[1;33m.\u001b[0m\u001b[0mmodel\u001b[0m\u001b[1;33m,\u001b[0m\u001b[0mself\u001b[0m\u001b[1;33m.\u001b[0m\u001b[0moptimizer\u001b[0m\u001b[1;33m,\u001b[0m\u001b[0mXtorch\u001b[0m\u001b[1;33m,\u001b[0m\u001b[0mytorch\u001b[0m\u001b[1;33m)\u001b[0m\u001b[1;33m\u001b[0m\u001b[1;33m\u001b[0m\u001b[0m\n\u001b[0m\u001b[0;32m     56\u001b[0m \u001b[1;33m\u001b[0m\u001b[0m\n\u001b[0;32m     57\u001b[0m         \u001b[0mself\u001b[0m\u001b[1;33m.\u001b[0m\u001b[0mcoef_\u001b[0m \u001b[1;33m=\u001b[0m \u001b[0mself\u001b[0m\u001b[1;33m.\u001b[0m\u001b[0mlinear_layer\u001b[0m\u001b[1;33m.\u001b[0m\u001b[0mweight\u001b[0m\u001b[1;33m.\u001b[0m\u001b[0mdetach\u001b[0m\u001b[1;33m(\u001b[0m\u001b[1;33m)\u001b[0m\u001b[1;33m.\u001b[0m\u001b[0mnumpy\u001b[0m\u001b[1;33m(\u001b[0m\u001b[1;33m)\u001b[0m\u001b[1;33m.\u001b[0m\u001b[0mflatten\u001b[0m\u001b[1;33m(\u001b[0m\u001b[1;33m)\u001b[0m\u001b[1;33m\u001b[0m\u001b[1;33m\u001b[0m\u001b[0m\n",
      "\u001b[1;32mc:\\users\\jennifer rogers\\onedrive - uw\\documents\\research\\explanationuncertainty\\explanation-uncertainty\\uncertainty\\torch_linear.py\u001b[0m in \u001b[0;36m_fit_internal\u001b[1;34m(self, model, opt, Xtensor, ytensor)\u001b[0m\n\u001b[0;32m     38\u001b[0m             \u001b[0mmse\u001b[0m \u001b[1;33m=\u001b[0m \u001b[0mtorch\u001b[0m\u001b[1;33m.\u001b[0m\u001b[0mnn\u001b[0m\u001b[1;33m.\u001b[0m\u001b[0mfunctional\u001b[0m\u001b[1;33m.\u001b[0m\u001b[0mmse_loss\u001b[0m\u001b[1;33m(\u001b[0m\u001b[0mpreds\u001b[0m\u001b[1;33m.\u001b[0m\u001b[0mflatten\u001b[0m\u001b[1;33m(\u001b[0m\u001b[1;33m)\u001b[0m\u001b[1;33m,\u001b[0m\u001b[0mytensor\u001b[0m\u001b[1;33m)\u001b[0m\u001b[1;33m\u001b[0m\u001b[1;33m\u001b[0m\u001b[0m\n\u001b[0;32m     39\u001b[0m             \u001b[0mself\u001b[0m\u001b[1;33m.\u001b[0m\u001b[0mtrain_scores\u001b[0m\u001b[1;33m.\u001b[0m\u001b[0mappend\u001b[0m\u001b[1;33m(\u001b[0m\u001b[0mmse\u001b[0m\u001b[1;33m.\u001b[0m\u001b[0mitem\u001b[0m\u001b[1;33m(\u001b[0m\u001b[1;33m)\u001b[0m\u001b[1;33m)\u001b[0m\u001b[1;33m\u001b[0m\u001b[1;33m\u001b[0m\u001b[0m\n\u001b[1;32m---> 40\u001b[1;33m             \u001b[0mmse\u001b[0m\u001b[1;33m.\u001b[0m\u001b[0mbackward\u001b[0m\u001b[1;33m(\u001b[0m\u001b[1;33m)\u001b[0m\u001b[1;33m\u001b[0m\u001b[1;33m\u001b[0m\u001b[0m\n\u001b[0m\u001b[0;32m     41\u001b[0m             \u001b[0mopt\u001b[0m\u001b[1;33m.\u001b[0m\u001b[0mstep\u001b[0m\u001b[1;33m(\u001b[0m\u001b[1;33m)\u001b[0m\u001b[1;33m\u001b[0m\u001b[1;33m\u001b[0m\u001b[0m\n\u001b[0;32m     42\u001b[0m \u001b[1;33m\u001b[0m\u001b[0m\n",
      "\u001b[1;32m~\\.julia\\conda\\3\\envs\\explanationUncertainty\\lib\\site-packages\\torch\\tensor.py\u001b[0m in \u001b[0;36mbackward\u001b[1;34m(self, gradient, retain_graph, create_graph)\u001b[0m\n\u001b[0;32m    193\u001b[0m                 \u001b[0mproducts\u001b[0m\u001b[1;33m.\u001b[0m \u001b[0mDefaults\u001b[0m \u001b[0mto\u001b[0m\u001b[0;31m \u001b[0m\u001b[0;31m`\u001b[0m\u001b[0;31m`\u001b[0m\u001b[1;32mFalse\u001b[0m\u001b[0;31m`\u001b[0m\u001b[0;31m`\u001b[0m\u001b[1;33m.\u001b[0m\u001b[1;33m\u001b[0m\u001b[1;33m\u001b[0m\u001b[0m\n\u001b[0;32m    194\u001b[0m         \"\"\"\n\u001b[1;32m--> 195\u001b[1;33m         \u001b[0mtorch\u001b[0m\u001b[1;33m.\u001b[0m\u001b[0mautograd\u001b[0m\u001b[1;33m.\u001b[0m\u001b[0mbackward\u001b[0m\u001b[1;33m(\u001b[0m\u001b[0mself\u001b[0m\u001b[1;33m,\u001b[0m \u001b[0mgradient\u001b[0m\u001b[1;33m,\u001b[0m \u001b[0mretain_graph\u001b[0m\u001b[1;33m,\u001b[0m \u001b[0mcreate_graph\u001b[0m\u001b[1;33m)\u001b[0m\u001b[1;33m\u001b[0m\u001b[1;33m\u001b[0m\u001b[0m\n\u001b[0m\u001b[0;32m    196\u001b[0m \u001b[1;33m\u001b[0m\u001b[0m\n\u001b[0;32m    197\u001b[0m     \u001b[1;32mdef\u001b[0m \u001b[0mregister_hook\u001b[0m\u001b[1;33m(\u001b[0m\u001b[0mself\u001b[0m\u001b[1;33m,\u001b[0m \u001b[0mhook\u001b[0m\u001b[1;33m)\u001b[0m\u001b[1;33m:\u001b[0m\u001b[1;33m\u001b[0m\u001b[1;33m\u001b[0m\u001b[0m\n",
      "\u001b[1;32m~\\.julia\\conda\\3\\envs\\explanationUncertainty\\lib\\site-packages\\torch\\autograd\\__init__.py\u001b[0m in \u001b[0;36mbackward\u001b[1;34m(tensors, grad_tensors, retain_graph, create_graph, grad_variables)\u001b[0m\n\u001b[0;32m     95\u001b[0m         \u001b[0mretain_graph\u001b[0m \u001b[1;33m=\u001b[0m \u001b[0mcreate_graph\u001b[0m\u001b[1;33m\u001b[0m\u001b[1;33m\u001b[0m\u001b[0m\n\u001b[0;32m     96\u001b[0m \u001b[1;33m\u001b[0m\u001b[0m\n\u001b[1;32m---> 97\u001b[1;33m     Variable._execution_engine.run_backward(\n\u001b[0m\u001b[0;32m     98\u001b[0m         \u001b[0mtensors\u001b[0m\u001b[1;33m,\u001b[0m \u001b[0mgrad_tensors\u001b[0m\u001b[1;33m,\u001b[0m \u001b[0mretain_graph\u001b[0m\u001b[1;33m,\u001b[0m \u001b[0mcreate_graph\u001b[0m\u001b[1;33m,\u001b[0m\u001b[1;33m\u001b[0m\u001b[1;33m\u001b[0m\u001b[0m\n\u001b[0;32m     99\u001b[0m         allow_unreachable=True)  # allow_unreachable flag\n",
      "\u001b[1;31mKeyboardInterrupt\u001b[0m: "
     ]
    }
   ],
   "source": [
    "%%time\n",
    "beta = [0.1]\n",
    "\n",
    "success = []\n",
    "pVals = []\n",
    "lcbs = []\n",
    "ucbs = []\n",
    "\n",
    "#for i in range(1000):\n",
    "for i in range(100):\n",
    "    s, p, l, u = compareAnalyticVsOptimization(beta=beta)\n",
    "    success.append(s)\n",
    "    pVals.append(p)\n",
    "    lcbs.append(l)\n",
    "    ucbs.append(u)"
   ]
  },
  {
   "cell_type": "code",
   "execution_count": 5,
   "id": "painful-settle",
   "metadata": {},
   "outputs": [
    {
     "data": {
      "image/png": "[encoded data removed]",
      "text/plain": [
       "<Figure size 432x288 with 1 Axes>"
      ]
     },
     "metadata": {
      "needs_background": "light"
     },
     "output_type": "display_data"
    }
   ],
   "source": [
    "minY = min(lcbs)\n",
    "maxY = max(ucbs)\n",
    "plt.ylim(minY, maxY)\n",
    "\n",
    "for (p, l, u, s) in zip(pVals, lcbs, ucbs, success):\n",
    "    # ymin and ymax are the 'fraction of the way up from the bottom of the plot'\n",
    "    plt.axvline(x=p, ymin=(l-minY)/(maxY - minY), ymax=(u-minY)/(maxY-minY),\n",
    "                color=('darkgreen' if s else 'darkred'), alpha=0.2)\n",
    "\n",
    "# plt.scatter(np.asarray(pVals)[np.array(success)], np.asarray(lcbs)[np.array(success)], color='darkgreen')\n",
    "# plt.scatter(np.asarray(pVals)[np.array(success)], np.asarray(ucbs)[np.array(success)], color='darkgreen')\n",
    "\n",
    "# plt.scatter(np.asarray(pVals)[~np.array(success)], np.asarray(lcbs)[~np.array(success)], color='darkred', marker='x')\n",
    "# plt.scatter(np.asarray(pVals)[~np.array(success)], np.asarray(ucbs)[~np.array(success)], color='darkred', marker='x')\n",
    "\n",
    "plt.axhline(0, color='k', linestyle='--')\n",
    "plt.axvline(0.05, color='gray', linestyle='--')\n",
    "\n",
    "plt.xlabel(\"p-value\")\n",
    "plt.ylabel(\"Range of confidence interval\")\n",
    "plt.title(\"Succeeded in \" + str(np.mean(success)*100) + \"% of trials\")\n",
    "\n",
    "plt.show()"
   ]
  },
  {
   "cell_type": "markdown",
   "id": "unauthorized-reader",
   "metadata": {},
   "source": [
    "## Single Zero Coefficient"
   ]
  },
  {
   "cell_type": "code",
   "execution_count": 6,
   "id": "funny-strip",
   "metadata": {
    "scrolled": true
   },
   "outputs": [
    {
     "name": "stdout",
     "output_type": "stream",
     "text": [
      "p value 0.010065697013278752 and confidence interval [-0.32121551] to [-0.05462781]\n",
      "p value 0.38332014773572665 and confidence interval [-0.18513457] to [0.0566593]\n",
      "p value 0.46933716149415605 and confidence interval [-0.17649673] to [0.07245571]\n",
      "p value 0.40162140227533727 and confidence interval [-0.06663625] to [0.17793277]\n",
      "p value 0.13307229248481245 and confidence interval [-0.01165634] to [0.20390682]\n",
      "p value 0.9251746992055117 and confidence interval [-0.09618982] to [0.08314887]\n",
      "p value 0.9492197278954458 and confidence interval [-0.13533084] to [0.14375989]\n",
      "p value 0.6220876893032526 and confidence interval [-0.17182997] to [0.1003686]\n",
      "p value 0.2971460329040737 and confidence interval [-0.05243973] to [0.20746814]\n",
      "p value 0.7509762379159894 and confidence interval [-0.15082262] to [0.10511569]\n",
      "p value 0.8686630493086943 and confidence interval [-0.1364222] to [0.11374637]\n",
      "p value 0.12406568351362302 and confidence interval [-0.19133796] to [-0.02761748]\n",
      "p value 0.6941661832410619 and confidence interval [-0.075836] to [0.12524951]\n",
      "p value 0.9332480649811413 and confidence interval [-0.14102748] to [0.15370968]\n",
      "p value 0.914506973087289 and confidence interval [-0.13649811] to [0.12110196]\n",
      "p value 0.32314902788504596 and confidence interval [-0.04497839] to [0.17961343]\n",
      "p value 0.592159959133312 and confidence interval [-0.14406213] to [0.07321167]\n",
      "p value 0.4542918119849204 and confidence interval [-0.06798974] to [0.17536968]\n",
      "p value 0.6482857373345139 and confidence interval [-0.14827217] to [0.08556221]\n",
      "p value 0.6272941228202482 and confidence interval [-0.12993674] to [0.05413404]\n",
      "p value 0.31430439684455747 and confidence interval [-0.20167823] to [0.0545835]\n",
      "p value 0.5206040457696869 and confidence interval [-0.07681788] to [0.17010058]\n",
      "p value 0.9811894415594263 and confidence interval [-0.13199402] to [0.13570754]\n",
      "p value 0.47828982147484045 and confidence interval [-0.15489821] to [0.06055285]\n",
      "p value 0.10995148170082403 and confidence interval [-0.01435062] to [0.25755194]\n",
      "p value 0.3284684752355189 and confidence interval [-0.21496603] to [0.07264792]\n",
      "p value 0.5633885383663071 and confidence interval [-0.04436222] to [0.12111349]\n",
      "p value 0.8624406607863213 and confidence interval [-0.09403561] to [0.11421992]\n",
      "p value 0.8643833888446412 and confidence interval [-0.11616389] to [0.13982667]\n",
      "p value 0.32616083615368785 and confidence interval [-0.04912614] to [0.1772477]\n",
      "p value 0.4992798763575278 and confidence interval [-0.03576954] to [0.12339953]\n",
      "p value 0.7669540029052304 and confidence interval [-0.14005619] to [0.09815699]\n",
      "p value 0.564319728517426 and confidence interval [-0.11769792] to [0.04158841]\n",
      "p value 0.958564650166923 and confidence interval [-0.13221967] to [0.12492414]\n",
      "p value 0.9926876113505423 and confidence interval [-0.13169585] to [0.13040778]\n",
      "p value 0.8261010368383743 and confidence interval [-0.10517865] to [0.13753264]\n",
      "p value 0.11928433618252254 and confidence interval [-0.0097121] to [0.20429455]\n",
      "p value 0.7442312950022204 and confidence interval [-0.11446372] to [0.16357027]\n",
      "p value 0.3264218153393421 and confidence interval [-0.05928811] to [0.20148963]\n",
      "p value 0.24816980708302128 and confidence interval [-0.21202913] to [0.03985073]\n",
      "p value 0.6400960739663586 and confidence interval [-0.08275103] to [0.14518146]\n",
      "p value 0.6298416842378751 and confidence interval [-0.08871995] to [0.16330516]\n",
      "p value 0.23591151714147474 and confidence interval [-0.0440241] to [0.1917794]\n",
      "p value 0.026185734775646452 and confidence interval [0.03025841] to [0.25779274]\n",
      "p value 0.3467239464299664 and confidence interval [-0.05288137] to [0.18444598]\n",
      "p value 0.18357789994850793 and confidence interval [-0.02335006] to [0.20965201]\n",
      "p value 0.7161659735751733 and confidence interval [-0.07098436] to [0.13018045]\n",
      "p value 0.7585247872699347 and confidence interval [-0.09486662] to [0.13705447]\n",
      "p value 0.9320140251393332 and confidence interval [-0.09357478] to [0.08129562]\n",
      "p value 0.03316370284689785 and confidence interval [-0.26387361] to [-0.02995384]\n",
      "p value 0.5227340514160641 and confidence interval [-0.12865546] to [0.04242958]\n",
      "p value 0.8105655243280753 and confidence interval [-0.066618] to [0.10008081]\n",
      "p value 0.9549305911323296 and confidence interval [-0.13782987] to [0.12932128]\n",
      "p value 0.08776525776653132 and confidence interval [-0.25497195] to [-0.00501112]\n",
      "p value 0.6609464613137489 and confidence interval [-0.0948884] to [0.15345803]\n",
      "p value 0.8345143354233823 and confidence interval [-0.14916085] to [0.11901895]\n",
      "p value 0.39286064403251253 and confidence interval [-0.19305721] to [0.06521577]\n",
      "p value 0.05270852908570267 and confidence interval [0.00149847] to [0.27243266]\n",
      "p value 0.8021344263552312 and confidence interval [-0.14926642] to [0.11512525]\n",
      "p value 0.7096493829649135 and confidence interval [-0.08987641] to [0.14103967]\n",
      "p value 0.7597133080177492 and confidence interval [-0.09073702] to [0.13005714]\n",
      "p value 0.9665984731052493 and confidence interval [-0.081156] to [0.0869679]\n",
      "p value 0.05384725963584691 and confidence interval [-0.01048689] to [0.29250935]\n",
      "p value 0.7438347363775841 and confidence interval [-0.06945575] to [0.11387011]\n",
      "p value 0.6564078889295882 and confidence interval [-0.17086586] to [0.10561271]\n",
      "p value 0.15467645314380407 and confidence interval [-0.02132832] to [0.22032605]\n",
      "p value 0.8357589353204217 and confidence interval [-0.14867668] to [0.11908904]\n",
      "p value 0.9047082126436254 and confidence interval [-0.13105932] to [0.11454417]\n",
      "p value 0.2291478244896249 and confidence interval [-0.19865395] to [0.03514636]\n",
      "p value 0.6007263919488798 and confidence interval [-0.167302] to [0.09198769]\n",
      "p value 0.3685358036379487 and confidence interval [-0.06658871] to [0.19457167]\n",
      "p value 0.8733947536142194 and confidence interval [-0.12545919] to [0.14891367]\n",
      "p value 0.3589788536328343 and confidence interval [-0.17825362] to [0.05032845]\n",
      "p value 0.766905788664886 and confidence interval [-0.12192231] to [0.16694766]\n",
      "p value 0.5312355826542714 and confidence interval [-0.07630022] to [0.16416122]\n",
      "p value 0.12817803366247793 and confidence interval [-0.22136797] to [0.00812971]\n",
      "p value 0.7333585918777865 and confidence interval [-0.14960672] to [0.10002507]\n",
      "p value 0.8386429076577361 and confidence interval [-0.14705554] to [0.11629084]\n",
      "p value 0.33686621378903003 and confidence interval [-0.19130187] to [0.05705225]\n",
      "p value 0.5823961540408173 and confidence interval [-0.16843265] to [0.08820231]\n",
      "p value 0.8195985047215991 and confidence interval [-0.09362381] to [0.12408745]\n",
      "p value 0.3056317282618827 and confidence interval [-0.01110684] to [0.1479875]\n",
      "p value 0.5459428747612808 and confidence interval [-0.04852877] to [0.15004581]\n",
      "p value 0.468451922968689 and confidence interval [-0.08444819] to [0.19252108]\n",
      "p value 0.0016336285745076617 and confidence interval [-0.3284829] to [-0.10248397]\n",
      "p value 0.3931714290632925 and confidence interval [-0.02891924] to [0.14016318]\n",
      "p value 0.17919133649723706 and confidence interval [-0.03487967] to [0.2305721]\n",
      "p value 0.14122500955571204 and confidence interval [-0.01654562] to [0.22945708]\n",
      "p value 0.7820062980471452 and confidence interval [-0.15901732] to [0.11669275]\n",
      "p value 0.46958669854627366 and confidence interval [-0.07034718] to [0.16756719]\n",
      "p value 0.598123794451042 and confidence interval [-0.15158539] to [0.07953757]\n",
      "p value 0.8476995274975558 and confidence interval [-0.15427336] to [0.1241345]\n",
      "p value 0.7622906068093102 and confidence interval [-0.10794285] to [0.1548143]\n",
      "p value 0.04048038011010957 and confidence interval [-0.21163948] to [-0.06630309]\n",
      "p value 0.4813953669199934 and confidence interval [-0.03250545] to [0.13083754]\n",
      "p value 0.6352751556547584 and confidence interval [-0.14564468] to [0.08481606]\n",
      "p value 0.14059298957338628 and confidence interval [-0.1712887] to [-0.01469097]\n",
      "p value 0.2920274201730798 and confidence interval [-0.21487834] to [0.04781958]\n",
      "p value 0.7425809712207467 and confidence interval [-0.14269616] to [0.09787922]\n",
      "p value 0.23312992637835828 and confidence interval [-0.03623052] to [0.19914591]\n",
      "CPU times: user 43min 13s, sys: 2min 23s, total: 45min 36s\n",
      "Wall time: 44min 35s\n"
     ]
    }
   ],
   "source": [
    "%%time\n",
    "beta = [0.0]\n",
    "\n",
    "success = []\n",
    "pVals = []\n",
    "lcbs = []\n",
    "ucbs = []\n",
    "\n",
    "#for i in range(1000):\n",
    "for i in range(100):\n",
    "    s, p, l, u = compareAnalyticVsOptimization(beta=beta)\n",
    "    success.append(s)\n",
    "    pVals.append(p)\n",
    "    lcbs.append(l)\n",
    "    ucbs.append(u)"
   ]
  },
  {
   "cell_type": "code",
   "execution_count": 7,
   "id": "occupational-albany",
   "metadata": {},
   "outputs": [
    {
     "data": {
      "image/png": "[encoded data removed]",
      "text/plain": [
       "<Figure size 432x288 with 1 Axes>"
      ]
     },
     "metadata": {
      "needs_background": "light"
     },
     "output_type": "display_data"
    }
   ],
   "source": [
    "minY = min(lcbs)\n",
    "maxY = max(ucbs)\n",
    "plt.ylim(minY, maxY)\n",
    "\n",
    "for (p, l, u, s) in zip(pVals, lcbs, ucbs, success):\n",
    "    # ymin and ymax are the 'fraction of the way up from the bottom of the plot'\n",
    "    plt.axvline(x=p, ymin=(l-minY)/(maxY - minY), ymax=(u-minY)/(maxY-minY),\n",
    "                color=('darkgreen' if s else 'darkred'), alpha=0.2)\n",
    "\n",
    "# plt.scatter(np.asarray(pVals)[np.array(success)], np.asarray(lcbs)[np.array(success)], color='darkgreen')\n",
    "# plt.scatter(np.asarray(pVals)[np.array(success)], np.asarray(ucbs)[np.array(success)], color='darkgreen')\n",
    "\n",
    "# plt.scatter(np.asarray(pVals)[~np.array(success)], np.asarray(lcbs)[~np.array(success)], color='darkred', marker='x')\n",
    "# plt.scatter(np.asarray(pVals)[~np.array(success)], np.asarray(ucbs)[~np.array(success)], color='darkred', marker='x')\n",
    "\n",
    "plt.axhline(0, color='k', linestyle='--')\n",
    "plt.axvline(0.05, color='gray', linestyle='--')\n",
    "\n",
    "plt.xlabel(\"p-value\")\n",
    "plt.ylabel(\"Range of confidence interval\")\n",
    "plt.title(\"Succeeded in \" + str(np.mean(success)*100) + \"% of trials\")\n",
    "\n",
    "plt.show()"
   ]
  },
  {
   "cell_type": "markdown",
   "id": "constitutional-incentive",
   "metadata": {},
   "source": [
    "## Multi-dimensional Beta"
   ]
  },
  {
   "cell_type": "code",
   "execution_count": 11,
   "id": "absent-education",
   "metadata": {},
   "outputs": [
    {
     "name": "stdout",
     "output_type": "stream",
     "text": [
      "p value 0.050271022546787614 and confidence interval [-0.29817557 -0.09454879] to [-0.03955125  0.15933545]\n",
      "p value 0.8001217906720733 and confidence interval [-0.09985401 -0.14450122] to [0.12487067 0.06337634]\n",
      "p value 0.7333737699274101 and confidence interval [-0.10703277 -0.17237686] to [0.16734374 0.09043024]\n",
      "p value 0.8460490223881125 and confidence interval [-0.08451132 -0.12857111] to [0.16819561 0.12207065]\n",
      "p value 0.40465923843752327 and confidence interval [-0.06595258 -0.17624506] to [0.21786453 0.04567946]\n",
      "p value 0.7701644916812802 and confidence interval [-0.1908652  -0.14513732] to [0.0821595  0.10654222]\n",
      "p value 0.8632151204916283 and confidence interval [-0.09261773 -0.11892501] to [0.17402621 0.11631782]\n",
      "p value 0.5477632012146414 and confidence interval [-0.07961259 -0.06547208] to [0.16545565 0.18943523]\n",
      "p value 0.5228041377312096 and confidence interval [-0.16109771 -0.09710956] to [0.04891453 0.19305174]\n",
      "p value 0.11885431895285514 and confidence interval [-0.2335514  -0.00765132] to [0.05781693 0.24274836]\n",
      "p value 0.15389382675795382 and confidence interval [-0.00732813 -0.04096717] to [0.22628388 0.23190306]\n",
      "p value 0.12491379628012356 and confidence interval [-0.13528994 -0.26773167] to [ 0.11994571 -0.00735278]\n",
      "p value 0.10429029261142586 and confidence interval [-0.2046596  -0.22823115] to [0.00992311 0.02006071]\n",
      "p value 0.6349709835449698 and confidence interval [-0.13195054 -0.18608168] to [0.10316103 0.05305225]\n",
      "p value 0.7582150658599783 and confidence interval [-0.16317594 -0.12453254] to [0.06335703 0.11021493]\n",
      "p value 0.6973279055788324 and confidence interval [-0.07961917 -0.1223577 ] to [0.20425774 0.15693285]\n",
      "p value 0.22690512959079157 and confidence interval [-0.09981934 -0.00012797] to [0.10654315 0.21079642]\n"
     ]
    },
    {
     "ename": "KeyboardInterrupt",
     "evalue": "",
     "output_type": "error",
     "traceback": [
      "\u001b[1;31m---------------------------------------------------------------------------\u001b[0m",
      "\u001b[1;31mKeyboardInterrupt\u001b[0m                         Traceback (most recent call last)",
      "\u001b[1;32m<timed exec>\u001b[0m in \u001b[0;36m<module>\u001b[1;34m\u001b[0m\n",
      "\u001b[1;32m<ipython-input-8-0f7a4239fef0>\u001b[0m in \u001b[0;36mcompareAnalyticVsOptimization\u001b[1;34m(beta, n, alpha)\u001b[0m\n\u001b[0;32m     14\u001b[0m     \u001b[1;31m# Next, get the optimization-based intervals.\u001b[0m\u001b[1;33m\u001b[0m\u001b[1;33m\u001b[0m\u001b[1;33m\u001b[0m\u001b[0m\n\u001b[0;32m     15\u001b[0m     \u001b[1;31m# GLRT method with Torch model (coefs)\u001b[0m\u001b[1;33m\u001b[0m\u001b[1;33m\u001b[0m\u001b[1;33m\u001b[0m\u001b[0m\n\u001b[1;32m---> 16\u001b[1;33m     lcb_GLRT, ucb_GLRT, lcb_Results, ucb_Results, ucb_Torch = glrtTorchCis(\n\u001b[0m\u001b[0;32m     17\u001b[0m         \u001b[1;32mlambda\u001b[0m\u001b[1;33m:\u001b[0m\u001b[0mTorchLinear\u001b[0m\u001b[1;33m(\u001b[0m\u001b[0mlr\u001b[0m\u001b[1;33m=\u001b[0m\u001b[1;36m0.3\u001b[0m\u001b[1;33m,\u001b[0m\u001b[0mmax_iter\u001b[0m\u001b[1;33m=\u001b[0m\u001b[1;36m100\u001b[0m\u001b[1;33m,\u001b[0m\u001b[0mfit_intercept\u001b[0m\u001b[1;33m=\u001b[0m\u001b[1;32mFalse\u001b[0m\u001b[1;33m)\u001b[0m\u001b[1;33m,\u001b[0m \u001b[0mX\u001b[0m\u001b[1;33m=\u001b[0m\u001b[0mX\u001b[0m\u001b[1;33m,\u001b[0m \u001b[0my\u001b[0m\u001b[1;33m=\u001b[0m\u001b[0my\u001b[0m\u001b[1;33m,\u001b[0m \u001b[0mcitype\u001b[0m\u001b[1;33m=\u001b[0m\u001b[1;34m'coefs'\u001b[0m\u001b[1;33m,\u001b[0m \u001b[0malpha\u001b[0m\u001b[1;33m=\u001b[0m\u001b[0malpha\u001b[0m\u001b[1;33m,\u001b[0m\u001b[1;33m\u001b[0m\u001b[1;33m\u001b[0m\u001b[0m\n\u001b[0;32m     18\u001b[0m         search_kwargs={'lmbds':np.logspace(-10,10,101)},fit_kwargs={'lr':0.3,'max_iter':30})\n",
      "\u001b[1;32mc:\\users\\jennifer rogers\\onedrive - uw\\documents\\research\\explanationuncertainty\\explanation-uncertainty\\uncertainty\\glrtTorch.py\u001b[0m in \u001b[0;36mglrtTorchCis\u001b[1;34m(modelFn, X, y, alpha, citype, bootstrap_kwargs, search_kwargs, fit_kwargs)\u001b[0m\n\u001b[0;32m     56\u001b[0m     \"\"\"\n\u001b[0;32m     57\u001b[0m     \u001b[1;31m#lcb_LR, ucb_LR = bootstrapGLRTcis(modelFn, X, y, MSE, alpha=alpha, **bootstrap_kwargs)\u001b[0m\u001b[1;33m\u001b[0m\u001b[1;33m\u001b[0m\u001b[1;33m\u001b[0m\u001b[0m\n\u001b[1;32m---> 58\u001b[1;33m     \u001b[0mucb_LR\u001b[0m \u001b[1;33m=\u001b[0m \u001b[0mbootstrapGLRTcis\u001b[0m\u001b[1;33m(\u001b[0m\u001b[0mmodelFn\u001b[0m\u001b[1;33m,\u001b[0m \u001b[0mX\u001b[0m\u001b[1;33m,\u001b[0m \u001b[0my\u001b[0m\u001b[1;33m,\u001b[0m \u001b[0mMSE\u001b[0m\u001b[1;33m,\u001b[0m \u001b[0malpha\u001b[0m\u001b[1;33m=\u001b[0m\u001b[0malpha\u001b[0m\u001b[1;33m,\u001b[0m \u001b[1;33m**\u001b[0m\u001b[0mbootstrap_kwargs\u001b[0m\u001b[1;33m)\u001b[0m\u001b[1;33m\u001b[0m\u001b[1;33m\u001b[0m\u001b[0m\n\u001b[0m\u001b[0;32m     59\u001b[0m     \u001b[0mlcbs\u001b[0m\u001b[1;33m,\u001b[0m \u001b[0mucbs\u001b[0m \u001b[1;33m=\u001b[0m \u001b[1;33m[\u001b[0m\u001b[1;33m]\u001b[0m\u001b[1;33m,\u001b[0m \u001b[1;33m[\u001b[0m\u001b[1;33m]\u001b[0m\u001b[1;33m\u001b[0m\u001b[1;33m\u001b[0m\u001b[0m\n\u001b[0;32m     60\u001b[0m     \u001b[0mlcb_all_results\u001b[0m\u001b[1;33m,\u001b[0m \u001b[0mucb_all_results\u001b[0m \u001b[1;33m=\u001b[0m \u001b[1;33m[\u001b[0m\u001b[1;33m]\u001b[0m\u001b[1;33m,\u001b[0m \u001b[1;33m[\u001b[0m\u001b[1;33m]\u001b[0m\u001b[1;33m\u001b[0m\u001b[1;33m\u001b[0m\u001b[0m\n",
      "\u001b[1;32mc:\\users\\jennifer rogers\\onedrive - uw\\documents\\research\\explanationuncertainty\\explanation-uncertainty\\uncertainty\\glrt_stat.py\u001b[0m in \u001b[0;36mbootstrapGLRTcis\u001b[1;34m(modelFn, X, y, nllFn, alpha, replicates)\u001b[0m\n\u001b[0;32m     52\u001b[0m         \u001b[1;31m# Get a clean model object and fit it to the bootstrapped data\u001b[0m\u001b[1;33m\u001b[0m\u001b[1;33m\u001b[0m\u001b[1;33m\u001b[0m\u001b[0m\n\u001b[0;32m     53\u001b[0m         \u001b[0mmodel\u001b[0m \u001b[1;33m=\u001b[0m \u001b[0mmodelFn\u001b[0m\u001b[1;33m(\u001b[0m\u001b[1;33m)\u001b[0m\u001b[1;33m\u001b[0m\u001b[1;33m\u001b[0m\u001b[0m\n\u001b[1;32m---> 54\u001b[1;33m         \u001b[0mmodel\u001b[0m\u001b[1;33m.\u001b[0m\u001b[0mfit\u001b[0m\u001b[1;33m(\u001b[0m\u001b[0mXsample\u001b[0m\u001b[1;33m,\u001b[0m \u001b[0mySample\u001b[0m\u001b[1;33m)\u001b[0m\u001b[1;33m\u001b[0m\u001b[1;33m\u001b[0m\u001b[0m\n\u001b[0m\u001b[0;32m     55\u001b[0m         \u001b[0mnegLogLambdas\u001b[0m\u001b[1;33m[\u001b[0m\u001b[0mi\u001b[0m\u001b[1;33m]\u001b[0m \u001b[1;33m=\u001b[0m \u001b[1;33m-\u001b[0m\u001b[1;36m1\u001b[0m\u001b[1;33m*\u001b[0m\u001b[1;33m(\u001b[0m\u001b[0mnllFn\u001b[0m\u001b[1;33m(\u001b[0m\u001b[0mySample\u001b[0m\u001b[1;33m,\u001b[0m \u001b[0mmodel\u001b[0m\u001b[1;33m.\u001b[0m\u001b[0mpredict\u001b[0m\u001b[1;33m(\u001b[0m\u001b[0mXsample\u001b[0m\u001b[1;33m)\u001b[0m\u001b[1;33m)\u001b[0m \u001b[1;33m-\u001b[0m \u001b[0mnllFn\u001b[0m\u001b[1;33m(\u001b[0m\u001b[0mySample\u001b[0m\u001b[1;33m,\u001b[0m \u001b[0mmodel0\u001b[0m\u001b[1;33m.\u001b[0m\u001b[0mpredict\u001b[0m\u001b[1;33m(\u001b[0m\u001b[0mXsample\u001b[0m\u001b[1;33m)\u001b[0m\u001b[1;33m)\u001b[0m\u001b[1;33m)\u001b[0m\u001b[1;33m\u001b[0m\u001b[1;33m\u001b[0m\u001b[0m\n\u001b[0;32m     56\u001b[0m \u001b[1;33m\u001b[0m\u001b[0m\n",
      "\u001b[1;32mc:\\users\\jennifer rogers\\onedrive - uw\\documents\\research\\explanationuncertainty\\explanation-uncertainty\\uncertainty\\torch_linear.py\u001b[0m in \u001b[0;36mfit\u001b[1;34m(self, X, y)\u001b[0m\n\u001b[0;32m     53\u001b[0m         \u001b[0mself\u001b[0m\u001b[1;33m.\u001b[0m\u001b[0moptimizer\u001b[0m \u001b[1;33m=\u001b[0m \u001b[0mtorch\u001b[0m\u001b[1;33m.\u001b[0m\u001b[0moptim\u001b[0m\u001b[1;33m.\u001b[0m\u001b[0mSGD\u001b[0m\u001b[1;33m(\u001b[0m\u001b[0mself\u001b[0m\u001b[1;33m.\u001b[0m\u001b[0mmodel\u001b[0m\u001b[1;33m.\u001b[0m\u001b[0mparameters\u001b[0m\u001b[1;33m(\u001b[0m\u001b[1;33m)\u001b[0m\u001b[1;33m,\u001b[0m\u001b[0mlr\u001b[0m\u001b[1;33m=\u001b[0m\u001b[0mself\u001b[0m\u001b[1;33m.\u001b[0m\u001b[0mlr\u001b[0m\u001b[1;33m)\u001b[0m\u001b[1;33m\u001b[0m\u001b[1;33m\u001b[0m\u001b[0m\n\u001b[0;32m     54\u001b[0m \u001b[1;33m\u001b[0m\u001b[0m\n\u001b[1;32m---> 55\u001b[1;33m         \u001b[0mself\u001b[0m\u001b[1;33m.\u001b[0m\u001b[0m_fit_internal\u001b[0m\u001b[1;33m(\u001b[0m\u001b[0mself\u001b[0m\u001b[1;33m.\u001b[0m\u001b[0mmodel\u001b[0m\u001b[1;33m,\u001b[0m\u001b[0mself\u001b[0m\u001b[1;33m.\u001b[0m\u001b[0moptimizer\u001b[0m\u001b[1;33m,\u001b[0m\u001b[0mXtorch\u001b[0m\u001b[1;33m,\u001b[0m\u001b[0mytorch\u001b[0m\u001b[1;33m)\u001b[0m\u001b[1;33m\u001b[0m\u001b[1;33m\u001b[0m\u001b[0m\n\u001b[0m\u001b[0;32m     56\u001b[0m \u001b[1;33m\u001b[0m\u001b[0m\n\u001b[0;32m     57\u001b[0m         \u001b[0mself\u001b[0m\u001b[1;33m.\u001b[0m\u001b[0mcoef_\u001b[0m \u001b[1;33m=\u001b[0m \u001b[0mself\u001b[0m\u001b[1;33m.\u001b[0m\u001b[0mlinear_layer\u001b[0m\u001b[1;33m.\u001b[0m\u001b[0mweight\u001b[0m\u001b[1;33m.\u001b[0m\u001b[0mdetach\u001b[0m\u001b[1;33m(\u001b[0m\u001b[1;33m)\u001b[0m\u001b[1;33m.\u001b[0m\u001b[0mnumpy\u001b[0m\u001b[1;33m(\u001b[0m\u001b[1;33m)\u001b[0m\u001b[1;33m.\u001b[0m\u001b[0mflatten\u001b[0m\u001b[1;33m(\u001b[0m\u001b[1;33m)\u001b[0m\u001b[1;33m\u001b[0m\u001b[1;33m\u001b[0m\u001b[0m\n",
      "\u001b[1;32mc:\\users\\jennifer rogers\\onedrive - uw\\documents\\research\\explanationuncertainty\\explanation-uncertainty\\uncertainty\\torch_linear.py\u001b[0m in \u001b[0;36m_fit_internal\u001b[1;34m(self, model, opt, Xtensor, ytensor)\u001b[0m\n\u001b[0;32m     36\u001b[0m             \u001b[0mopt\u001b[0m\u001b[1;33m.\u001b[0m\u001b[0mzero_grad\u001b[0m\u001b[1;33m(\u001b[0m\u001b[1;33m)\u001b[0m\u001b[1;33m\u001b[0m\u001b[1;33m\u001b[0m\u001b[0m\n\u001b[0;32m     37\u001b[0m             \u001b[0mpreds\u001b[0m \u001b[1;33m=\u001b[0m \u001b[0mmodel\u001b[0m\u001b[1;33m(\u001b[0m\u001b[0mXtensor\u001b[0m\u001b[1;33m)\u001b[0m\u001b[1;33m\u001b[0m\u001b[1;33m\u001b[0m\u001b[0m\n\u001b[1;32m---> 38\u001b[1;33m             \u001b[0mmse\u001b[0m \u001b[1;33m=\u001b[0m \u001b[0mtorch\u001b[0m\u001b[1;33m.\u001b[0m\u001b[0mnn\u001b[0m\u001b[1;33m.\u001b[0m\u001b[0mfunctional\u001b[0m\u001b[1;33m.\u001b[0m\u001b[0mmse_loss\u001b[0m\u001b[1;33m(\u001b[0m\u001b[0mpreds\u001b[0m\u001b[1;33m.\u001b[0m\u001b[0mflatten\u001b[0m\u001b[1;33m(\u001b[0m\u001b[1;33m)\u001b[0m\u001b[1;33m,\u001b[0m\u001b[0mytensor\u001b[0m\u001b[1;33m)\u001b[0m\u001b[1;33m\u001b[0m\u001b[1;33m\u001b[0m\u001b[0m\n\u001b[0m\u001b[0;32m     39\u001b[0m             \u001b[0mself\u001b[0m\u001b[1;33m.\u001b[0m\u001b[0mtrain_scores\u001b[0m\u001b[1;33m.\u001b[0m\u001b[0mappend\u001b[0m\u001b[1;33m(\u001b[0m\u001b[0mmse\u001b[0m\u001b[1;33m.\u001b[0m\u001b[0mitem\u001b[0m\u001b[1;33m(\u001b[0m\u001b[1;33m)\u001b[0m\u001b[1;33m)\u001b[0m\u001b[1;33m\u001b[0m\u001b[1;33m\u001b[0m\u001b[0m\n\u001b[0;32m     40\u001b[0m             \u001b[0mmse\u001b[0m\u001b[1;33m.\u001b[0m\u001b[0mbackward\u001b[0m\u001b[1;33m(\u001b[0m\u001b[1;33m)\u001b[0m\u001b[1;33m\u001b[0m\u001b[1;33m\u001b[0m\u001b[0m\n",
      "\u001b[1;32m~\\.julia\\conda\\3\\envs\\explanationUncertainty\\lib\\site-packages\\torch\\nn\\functional.py\u001b[0m in \u001b[0;36mmse_loss\u001b[1;34m(input, target, size_average, reduce, reduction)\u001b[0m\n\u001b[0;32m   2214\u001b[0m     \u001b[1;32melse\u001b[0m\u001b[1;33m:\u001b[0m\u001b[1;33m\u001b[0m\u001b[1;33m\u001b[0m\u001b[0m\n\u001b[0;32m   2215\u001b[0m         \u001b[0mexpanded_input\u001b[0m\u001b[1;33m,\u001b[0m \u001b[0mexpanded_target\u001b[0m \u001b[1;33m=\u001b[0m \u001b[0mtorch\u001b[0m\u001b[1;33m.\u001b[0m\u001b[0mbroadcast_tensors\u001b[0m\u001b[1;33m(\u001b[0m\u001b[0minput\u001b[0m\u001b[1;33m,\u001b[0m \u001b[0mtarget\u001b[0m\u001b[1;33m)\u001b[0m\u001b[1;33m\u001b[0m\u001b[1;33m\u001b[0m\u001b[0m\n\u001b[1;32m-> 2216\u001b[1;33m         \u001b[0mret\u001b[0m \u001b[1;33m=\u001b[0m \u001b[0mtorch\u001b[0m\u001b[1;33m.\u001b[0m\u001b[0m_C\u001b[0m\u001b[1;33m.\u001b[0m\u001b[0m_nn\u001b[0m\u001b[1;33m.\u001b[0m\u001b[0mmse_loss\u001b[0m\u001b[1;33m(\u001b[0m\u001b[0mexpanded_input\u001b[0m\u001b[1;33m,\u001b[0m \u001b[0mexpanded_target\u001b[0m\u001b[1;33m,\u001b[0m \u001b[0m_Reduction\u001b[0m\u001b[1;33m.\u001b[0m\u001b[0mget_enum\u001b[0m\u001b[1;33m(\u001b[0m\u001b[0mreduction\u001b[0m\u001b[1;33m)\u001b[0m\u001b[1;33m)\u001b[0m\u001b[1;33m\u001b[0m\u001b[1;33m\u001b[0m\u001b[0m\n\u001b[0m\u001b[0;32m   2217\u001b[0m     \u001b[1;32mreturn\u001b[0m \u001b[0mret\u001b[0m\u001b[1;33m\u001b[0m\u001b[1;33m\u001b[0m\u001b[0m\n\u001b[0;32m   2218\u001b[0m \u001b[1;33m\u001b[0m\u001b[0m\n",
      "\u001b[1;31mKeyboardInterrupt\u001b[0m: "
     ]
    }
   ],
   "source": [
    "%%time\n",
    "beta = [0.0, 0.0]\n",
    "\n",
    "success = []\n",
    "pVals = []\n",
    "lcbs = []\n",
    "ucbs = []\n",
    "\n",
    "#for i in range(1000):\n",
    "for i in range(100):\n",
    "    s, p, l, u = compareAnalyticVsOptimization(beta=beta)\n",
    "    success.append(s)\n",
    "    pVals.append(p)\n",
    "    lcbs.append(l)\n",
    "    ucbs.append(u)"
   ]
  },
  {
   "cell_type": "code",
   "execution_count": 29,
   "id": "amber-collect",
   "metadata": {
    "scrolled": true
   },
   "outputs": [
    {
     "data": {
      "image/png": "[encoded data removed]",
      "text/plain": [
       "<Figure size 432x288 with 2 Axes>"
      ]
     },
     "metadata": {
      "needs_background": "light"
     },
     "output_type": "display_data"
    }
   ],
   "source": [
    "d = len(beta)\n",
    "fig, ax = plt.subplots(d)\n",
    "for i in range(d):\n",
    "    ilcbs = [l[i] for l in lcbs]\n",
    "    iucbs = [u[i] for u in ucbs]\n",
    "    minY = min(ilcbs)\n",
    "    maxY = max(iucbs)\n",
    "    ax[i].set_ylim(minY, maxY)\n",
    "    \n",
    "    for (p, l, u, s) in zip(pVals, ilcbs, iucbs, success):\n",
    "        # ymin and ymax are the 'fraction of the way up from the bottom of the plot'\n",
    "        ax[i].axvline(x=p, ymin=(l-minY)/(maxY - minY), ymax=(u-minY)/(maxY-minY),\n",
    "                    color=('darkgreen' if s else 'darkred'), alpha=0.3)\n",
    "\n",
    "    ax[i].axhline(0, color='k', linestyle='--')\n",
    "    ax[i].axvline(0.05, color='gray', linestyle='--')\n",
    "    \n",
    "ax[0].set_title(\"Succeeded in \" + str(np.mean(success)*100) + \"% of trials\")    \n",
    "ax[d-1].set_xlabel(\"p-value\")\n",
    "ax[0].set_ylabel(\"Range of confidence interval\")\n",
    "plt.tight_layout()\n",
    "plt.show()"
   ]
  },
  {
   "cell_type": "markdown",
   "id": "transsexual-acquisition",
   "metadata": {},
   "source": [
    "## Higher dimensional beta - check for multiple testing problems (I don't think we will have them... but good to confirm)"
   ]
  },
  {
   "cell_type": "code",
   "execution_count": null,
   "id": "economic-knock",
   "metadata": {},
   "outputs": [],
   "source": [
    "%%time\n",
    "beta = [0.0, 0.0, 0.0, 0.0, 0.0]\n",
    "\n",
    "success = []\n",
    "pVals = []\n",
    "lcbs = []\n",
    "ucbs = []\n",
    "\n",
    "#for i in range(1000):\n",
    "for i in range(100):\n",
    "    s, p, l, u = compareAnalyticVsOptimization(beta=beta)\n",
    "    success.append(s)\n",
    "    pVals.append(p)\n",
    "    lcbs.append(l)\n",
    "    ucbs.append(u)"
   ]
  },
  {
   "cell_type": "code",
   "execution_count": null,
   "id": "wound-roads",
   "metadata": {},
   "outputs": [],
   "source": [
    "d = len(beta)\n",
    "fig, ax = plt.subplots(d)\n",
    "for i in range(d):\n",
    "    ilcbs = [l[i] for l in lcbs]\n",
    "    iucbs = [u[i] for u in ucbs]\n",
    "    minY = min(ilcbs)\n",
    "    maxY = max(iucbs)\n",
    "    ax[i].set_ylim(minY, maxY)\n",
    "    \n",
    "    for (p, l, u, s) in zip(pVals, ilcbs, iucbs, success):\n",
    "        # ymin and ymax are the 'fraction of the way up from the bottom of the plot'\n",
    "        ax[i].axvline(x=p, ymin=(l-minY)/(maxY - minY), ymax=(u-minY)/(maxY-minY),\n",
    "                    color=('darkgreen' if s else 'darkred'), alpha=0.3)\n",
    "\n",
    "    ax[i].axhline(0, color='k', linestyle='--')\n",
    "    ax[i].axvline(0.05, color='gray', linestyle='--')\n",
    "    \n",
    "ax[0].set_title(\"Succeeded in \" + str(np.mean(success)*100) + \"% of trials\")    \n",
    "ax[d-1].set_xlabel(\"p-value\")\n",
    "ax[0].set_ylabel(\"Range of confidence interval\")\n",
    "plt.tight_layout()\n",
    "plt.show()"
   ]
  }
 ],
 "metadata": {
  "kernelspec": {
   "display_name": "Python 3",
   "language": "python",
   "name": "python3"
  },
  "language_info": {
   "codemirror_mode": {
    "name": "ipython",
    "version": 3
   },
   "file_extension": ".py",
   "mimetype": "text/x-python",
   "name": "python",
   "nbconvert_exporter": "python",
   "pygments_lexer": "ipython3",
   "version": "3.8.8"
  }
 },
 "nbformat": 4,
 "nbformat_minor": 5
}
