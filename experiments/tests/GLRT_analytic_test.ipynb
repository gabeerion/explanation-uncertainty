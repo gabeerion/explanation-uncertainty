{
 "cells": [
  {
   "cell_type": "code",
   "execution_count": 1,
   "id": "atlantic-heating",
   "metadata": {},
   "outputs": [],
   "source": [
    "# Comparing the analytic GLRT for the single-coefficient case with the optimization-based version\n",
    "import numpy as np\n",
    "import torch"
   ]
  },
  {
   "cell_type": "code",
   "execution_count": 10,
   "id": "painted-brain",
   "metadata": {},
   "outputs": [],
   "source": [
    "from uncertainty.DataGeneration import linearRegression_normal\n",
    "from uncertainty.torch_linear import TorchLinear\n",
    "from uncertainty.analyticLinearRegressionCIs import analyticLinearTest_GLRT_singleCoef, analyticLinearCis\n",
    "from uncertainty.glrtTorch import glrtTorchCis"
   ]
  },
  {
   "cell_type": "code",
   "execution_count": 12,
   "id": "supreme-liberal",
   "metadata": {},
   "outputs": [],
   "source": [
    "beta = 0.5\n",
    "X, y = linearRegression_normal(beta=np.array([beta]), cov=np.array([[1]]), sigma=1, n=200)"
   ]
  },
  {
   "cell_type": "code",
   "execution_count": 13,
   "id": "imposed-montgomery",
   "metadata": {},
   "outputs": [],
   "source": [
    "from sklearn.linear_model import LinearRegression"
   ]
  },
  {
   "cell_type": "code",
   "execution_count": 14,
   "id": "respiratory-stations",
   "metadata": {},
   "outputs": [
    {
     "name": "stdout",
     "output_type": "stream",
     "text": [
      "p value 3.419486915845482e-14 for the null hypothesis that the regression coefficient is zero\n"
     ]
    }
   ],
   "source": [
    "LR = LinearRegression()\n",
    "LR.fit(X, y)\n",
    "pVal_LR = analyticLinearTest_GLRT_singleCoef(LR, X, y)\n",
    "\n",
    "print(\"p value\", pVal_LR, \"for the null hypothesis that the regression coefficient is zero\")"
   ]
  },
  {
   "cell_type": "code",
   "execution_count": 15,
   "id": "intermediate-bronze",
   "metadata": {},
   "outputs": [],
   "source": [
    "# Compare to Torch"
   ]
  },
  {
   "cell_type": "code",
   "execution_count": 16,
   "id": "regional-forest",
   "metadata": {},
   "outputs": [],
   "source": [
    "from uncertainty.torch_linear import TorchLinear"
   ]
  },
  {
   "cell_type": "code",
   "execution_count": 17,
   "id": "lesser-origin",
   "metadata": {},
   "outputs": [
    {
     "name": "stdout",
     "output_type": "stream",
     "text": [
      "p value 3.419486915845482e-14 for the null hypothesis that the regression coefficient is zero\n"
     ]
    }
   ],
   "source": [
    "TL = TorchLinear(lr=0.3,max_iter=30)\n",
    "TL.fit(X,y)\n",
    "pVal_TL = analyticLinearTest_GLRT_singleCoef(TL, X, y)\n",
    "print(\"p value\", pVal_LR, \"for the null hypothesis that the regression coefficient is zero\")"
   ]
  },
  {
   "cell_type": "code",
   "execution_count": 18,
   "id": "sharing-wrestling",
   "metadata": {},
   "outputs": [],
   "source": [
    "# Next, get the optimization-based intervals. To check whether they agree with the analytic version:\n",
    "# The p-value should be < 0.05 iff the level-0.05 glrt-based confidence interval on the coefficient beta doesn't contain zero."
   ]
  },
  {
   "cell_type": "code",
   "execution_count": null,
   "id": "careful-buyer",
   "metadata": {},
   "outputs": [
    {
     "name": "stdout",
     "output_type": "stream",
     "text": [
      "Analytic\n",
      "Lower bounds: [0.3950444] \n",
      "Upper bounds: [0.67105278]\n",
      "GLRT\n"
     ]
    }
   ],
   "source": [
    "# GLRT method with Torch model (coefs)\n",
    "TL = TorchLinear(lr=0.3,max_iter=30)\n",
    "TL.fit(X,y)\n",
    "print(\"Analytic\")\n",
    "lcb_TL_a, ucb_TL_a = analyticLinearCis(LR, X, y, alpha=0.05)\n",
    "print(\"Lower bounds:\", lcb_TL_a, \"\\nUpper bounds:\", ucb_TL_a)\n",
    "\n",
    "print(\"GLRT\")\n",
    "lcb_GLRT, ucb_GLRT, lcb_Results, ucb_Results, lcb_Torch, ucb_Torch = glrtTorchCis(\n",
    "    lambda:TorchLinear(lr=0.3,max_iter=100), X=X, y=y, citype='coefs', alpha=0.05,search_kwargs={'lmbds':np.logspace(-10,10,101)},fit_kwargs={'lr':0.3,'max_iter':30})\n",
    "print(\"Lower bounds:\", lcb_GLRT, \"\\nUpper bounds:\", ucb_GLRT)"
   ]
  },
  {
   "cell_type": "code",
   "execution_count": null,
   "id": "unnecessary-subscriber",
   "metadata": {},
   "outputs": [],
   "source": []
  }
 ],
 "metadata": {
  "kernelspec": {
   "display_name": "Python 3",
   "language": "python",
   "name": "python3"
  },
  "language_info": {
   "codemirror_mode": {
    "name": "ipython",
    "version": 3
   },
   "file_extension": ".py",
   "mimetype": "text/x-python",
   "name": "python",
   "nbconvert_exporter": "python",
   "pygments_lexer": "ipython3",
   "version": "3.8.8"
  }
 },
 "nbformat": 4,
 "nbformat_minor": 5
}
