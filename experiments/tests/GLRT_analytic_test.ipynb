{
 "cells": [
  {
   "cell_type": "code",
   "execution_count": 63,
   "id": "understanding-bryan",
   "metadata": {},
   "outputs": [],
   "source": [
    "# Comparing the analytic GLRT for the single-coefficient case with the optimization-based version\n",
    "import numpy as np\n",
    "import torch\n",
    "import matplotlib.pyplot as plt\n",
    "from sklearn.linear_model import LinearRegression"
   ]
  },
  {
   "cell_type": "code",
   "execution_count": 10,
   "id": "supported-license",
   "metadata": {},
   "outputs": [],
   "source": [
    "from uncertainty.DataGeneration import linearRegression_normal\n",
    "from uncertainty.torch_linear import TorchLinear\n",
    "from uncertainty.analyticLinearRegressionCIs import analyticLinearTest_GLRT_singleCoef, analyticLinearCis\n",
    "from uncertainty.glrtTorch import glrtTorchCis\n",
    "from uncertainty.torch_linear import TorchLinear"
   ]
  },
  {
   "cell_type": "code",
   "execution_count": 77,
   "id": "amended-saskatchewan",
   "metadata": {},
   "outputs": [],
   "source": [
    "def compareAnalyticVsOptimization(beta, n=200, alpha=0.05):\n",
    "    \"\"\"Generate data according to a linear regression with a single coefficient beta.\n",
    "    Compute the analytic chi-squared test 'is the coefficient zero?'. Record the p-value.\n",
    "    Compute the confidence intervals on beta using the GLRT-based method. Record whether the interval contains zero.\n",
    "    Return TRUE if both methods agree, and FALSE otherwise.\"\"\"  \n",
    "    # Get data\n",
    "    X, y = linearRegression_normal(beta=np.array([beta]), cov=np.array([[1]]), sigma=1, n=n)\n",
    "\n",
    "    # Compute the p-value from the chi squared test\n",
    "    TL = TorchLinear(lr=0.3,max_iter=30)\n",
    "    TL.fit(X,y)\n",
    "    pVal_TL = analyticLinearTest_GLRT_singleCoef(TL, X, y)\n",
    "    \n",
    "    # Next, get the optimization-based intervals.\n",
    "    # GLRT method with Torch model (coefs)\n",
    "    lcb_GLRT, ucb_GLRT, lcb_Results, ucb_Results, lcb_Torch, ucb_Torch = glrtTorchCis(\n",
    "        lambda:TorchLinear(lr=0.3,max_iter=100), X=X, y=y, citype='coefs', alpha=alpha,\n",
    "        search_kwargs={'lmbds':np.logspace(-10,10,101)},fit_kwargs={'lr':0.3,'max_iter':30})\n",
    "    \n",
    "    # To check whether they agree with the analytic version:\n",
    "    # The p-value should be < 0.05 iff the level-0.05 glrt-based confidence interval\n",
    "    # on the coefficient beta doesn't contain zero.\n",
    "    isNotZero_analytic = pVal_TL < alpha    # The chi-square test is one-sided\n",
    "    isNotZero_optim = (lcb_GLRT > 0) or (ucb_GLRT < 0)\n",
    "    \n",
    "    print(\"p value\", pVal_TL, \"and confidence interval\", lcb_GLRT, \"to\", ucb_GLRT)\n",
    "    \n",
    "    return (isNotZero_analytic == isNotZero_optim, pVal_TL, lcb_GLRT[0], ucb_GLRT[0])\n",
    "    "
   ]
  },
  {
   "cell_type": "code",
   "execution_count": 79,
   "id": "gross-advantage",
   "metadata": {},
   "outputs": [
    {
     "name": "stdout",
     "output_type": "stream",
     "text": [
      "p value 0.6110492793835245 and confidence interval [-0.36845151] to [0.28528363]\n",
      "p value 0.6869394095496293 and confidence interval [-0.41996658] to [0.47531152]\n",
      "p value 0.7840765068415507 and confidence interval [-0.29657814] to [0.33596537]\n",
      "p value 0.9799698330287191 and confidence interval [-0.35465574] to [0.34863517]\n",
      "p value 0.943473670819427 and confidence interval [-0.35204083] to [0.32909369]\n",
      "p value 0.45858562974993466 and confidence interval [-0.33594039] to [0.24440666]\n",
      "p value 0.5961063637431105 and confidence interval [-0.40251437] to [0.3215296]\n",
      "p value 0.3758111077430031 and confidence interval [-0.28964981] to [0.42799509]\n",
      "p value 0.388976219865239 and confidence interval [-0.35489127] to [0.47153434]\n",
      "p value 0.3587727687031228 and confidence interval [-0.40345594] to [0.25848916]\n"
     ]
    }
   ],
   "source": [
    "beta = 0.1\n",
    "\n",
    "success = []\n",
    "pVals = []\n",
    "lcbs = []\n",
    "ucbs = []\n",
    "\n",
    "for i in range(10):\n",
    "    s, p, l, u = compareAnalyticVsOptimization(beta=beta)\n",
    "    success.append(s[0])\n",
    "    pVals.append(p)\n",
    "    lcbs.append(l)\n",
    "    ucbs.append(u)"
   ]
  },
  {
   "cell_type": "code",
   "execution_count": 118,
   "id": "juvenile-native",
   "metadata": {},
   "outputs": [
    {
     "data": {
      "image/png": "[encoded data removed]",
      "text/plain": [
       "<Figure size 432x288 with 1 Axes>"
      ]
     },
     "metadata": {
      "needs_background": "light"
     },
     "output_type": "display_data"
    }
   ],
   "source": [
    "minY = min(lcbs)\n",
    "maxY = max(ucbs)\n",
    "plt.ylim(minY, maxY)\n",
    "\n",
    "for (p, l, u, s) in zip(pVals, lcbs, ucbs, success):\n",
    "    # ymin and ymax are the 'fraction of the way up from the bottom of the plot'\n",
    "    plt.axvline(x=p, ymin=(l-minY)/(maxY - minY), ymax=(u-minY)/(maxY-minY),\n",
    "                color=('darkgreen' if success else 'darkred'), alpha=0.2)\n",
    "\n",
    "# plt.scatter(np.asarray(pVals)[np.array(success)], np.asarray(lcbs)[np.array(success)], color='darkgreen')\n",
    "# plt.scatter(np.asarray(pVals)[np.array(success)], np.asarray(ucbs)[np.array(success)], color='darkgreen')\n",
    "\n",
    "# plt.scatter(np.asarray(pVals)[~np.array(success)], np.asarray(lcbs)[~np.array(success)], color='darkred', marker='x')\n",
    "# plt.scatter(np.asarray(pVals)[~np.array(success)], np.asarray(ucbs)[~np.array(success)], color='darkred', marker='x')\n",
    "\n",
    "plt.axhline(0, color='k', linestyle='--')\n",
    "plt.axvline(0.05, color='gray', linestyle='--')\n",
    "\n",
    "plt.xlabel(\"p-value\")\n",
    "plt.ylabel(\"Range of confidence interval\")\n",
    "plt.title(\"Succeeded in \" + str(np.mean(success)*100) + \"% of trials\")\n",
    "\n",
    "plt.show()"
   ]
  },
  {
   "cell_type": "code",
   "execution_count": null,
   "id": "grateful-pierce",
   "metadata": {},
   "outputs": [],
   "source": []
  }
 ],
 "metadata": {
  "kernelspec": {
   "display_name": "Python 3",
   "language": "python",
   "name": "python3"
  },
  "language_info": {
   "codemirror_mode": {
    "name": "ipython",
    "version": 3
   },
   "file_extension": ".py",
   "mimetype": "text/x-python",
   "name": "python",
   "nbconvert_exporter": "python",
   "pygments_lexer": "ipython3",
   "version": "3.8.8"
  }
 },
 "nbformat": 4,
 "nbformat_minor": 5
}
