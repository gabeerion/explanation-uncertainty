{
 "cells": [
  {
   "cell_type": "markdown",
   "id": "f6d0b183",
   "metadata": {},
   "source": [
    "# Test the coverage of the GLRT cutoff value\n",
    "Recall, we come up with an empirical log-likelihood threshold, that we believe covers the log likelihood of the true parameter at least 1-alpha fraction of the time.\n",
    "Test this claim by seeing whether the log-likelihood of the true parameter is in fact above the threshold 95% of the time."
   ]
  },
  {
   "cell_type": "code",
   "execution_count": 1,
   "id": "eef12558",
   "metadata": {},
   "outputs": [],
   "source": [
    "import numpy as np\n",
    "import torch\n",
    "import matplotlib.pyplot as plt\n",
    "from sklearn.linear_model import LinearRegression"
   ]
  },
  {
   "cell_type": "code",
   "execution_count": 8,
   "id": "27009c9d",
   "metadata": {},
   "outputs": [],
   "source": [
    "from uncertainty.DataGeneration import linearRegression_normal\n",
    "from uncertainty.glrt_stat import bootstrapGLRTcis\n",
    "from uncertainty.torch_linear import TorchLinear"
   ]
  },
  {
   "cell_type": "code",
   "execution_count": 4,
   "id": "9281138f",
   "metadata": {},
   "outputs": [],
   "source": [
    "def MSE(y, yPred):\n",
    "    return np.mean((y - yPred)**2)"
   ]
  },
  {
   "cell_type": "code",
   "execution_count": 24,
   "id": "1a14c58c",
   "metadata": {},
   "outputs": [
    {
     "name": "stdout",
     "output_type": "stream",
     "text": [
      "0.948\n"
     ]
    }
   ],
   "source": [
    "numTrials = 1000\n",
    "covered = []\n",
    "\n",
    "beta = np.array([1])\n",
    "n = 100\n",
    "    \n",
    "for _ in range(numTrials):\n",
    "    # Get data\n",
    "    X, y = linearRegression_normal(beta=np.array(beta), cov=np.eye(len(beta)), sigma=1, n=n)\n",
    "\n",
    "    # Fit a model\n",
    "    LR = LinearRegression()\n",
    "    LR.fit(X, y)\n",
    "\n",
    "    nllBound = bootstrapGLRTcis(modelFn=LinearRegression,\n",
    "                                X=X,\n",
    "                                y=y,\n",
    "                                nllFn=MSE, \n",
    "                                alpha=0.05, \n",
    "                                replicates=1000)\n",
    "    \n",
    "    # Get the MSE of betaStar\n",
    "    yPredStar = np.dot(X, beta)\n",
    "    \n",
    "    covered.append(MSE(y, yPredStar) <= nllBound)\n",
    "\n",
    "print(np.mean(covered))"
   ]
  },
  {
   "cell_type": "code",
   "execution_count": 25,
   "id": "58ca2f4a",
   "metadata": {},
   "outputs": [
    {
     "name": "stdout",
     "output_type": "stream",
     "text": [
      "0.82\n",
      "0.79\n"
     ]
    }
   ],
   "source": [
    "numTrials = 100\n",
    "\n",
    "beta = np.array([1])\n",
    "n = 100\n",
    "alpha = 0.2   # Use a much larger alpha so we don't have to run quite so many trials\n",
    "\n",
    "for modelFn in [LinearRegression, TorchLinear]:\n",
    "    covered = []\n",
    "    for _ in range(numTrials):\n",
    "        # Get data\n",
    "        X, y = linearRegression_normal(beta=np.array(beta), cov=np.eye(len(beta)), sigma=1, n=n)\n",
    "\n",
    "        # Fit a model\n",
    "        LR = LinearRegression()\n",
    "        LR.fit(X, y)\n",
    "\n",
    "        nllBound = bootstrapGLRTcis(modelFn=LinearRegression,\n",
    "                                    X=X,\n",
    "                                    y=y,\n",
    "                                    nllFn=MSE, \n",
    "                                    alpha=alpha, \n",
    "                                    replicates=100)\n",
    "\n",
    "        # Get the MSE of betaStar\n",
    "        yPredStar = np.dot(X, beta)\n",
    "\n",
    "        covered.append(MSE(y, yPredStar) <= nllBound)\n",
    "    \n",
    "    print(np.mean(covered))"
   ]
  },
  {
   "cell_type": "code",
   "execution_count": null,
   "id": "9eb47720",
   "metadata": {},
   "outputs": [],
   "source": []
  }
 ],
 "metadata": {
  "kernelspec": {
   "display_name": "Python 3",
   "language": "python",
   "name": "python3"
  },
  "language_info": {
   "codemirror_mode": {
    "name": "ipython",
    "version": 3
   },
   "file_extension": ".py",
   "mimetype": "text/x-python",
   "name": "python",
   "nbconvert_exporter": "python",
   "pygments_lexer": "ipython3",
   "version": "3.9.4"
  }
 },
 "nbformat": 4,
 "nbformat_minor": 5
}
