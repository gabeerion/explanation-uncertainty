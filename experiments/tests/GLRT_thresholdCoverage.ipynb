{
 "cells": [
  {
   "cell_type": "markdown",
   "id": "8b6eb53b",
   "metadata": {},
   "source": [
    "# Test the coverage of the GLRT cutoff value\n",
    "Recall, we come up with an empirical log-likelihood threshold, that we believe covers the log likelihood of the true parameter at least 1-alpha fraction of the time.\n",
    "Test this claim by seeing whether the log-likelihood of the true parameter is in fact above the threshold 95% of the time."
   ]
  },
  {
   "cell_type": "code",
   "execution_count": 1,
   "id": "170b1354",
   "metadata": {},
   "outputs": [],
   "source": [
    "import numpy as np\n",
    "import torch\n",
    "import matplotlib.pyplot as plt\n",
    "from sklearn.linear_model import LinearRegression"
   ]
  },
  {
   "cell_type": "code",
   "execution_count": 8,
   "id": "15bc8db3",
   "metadata": {},
   "outputs": [],
   "source": [
    "from uncertainty.DataGeneration import linearRegression_normal\n",
    "from uncertainty.glrt_stat import bootstrapGLRTcis\n",
    "from uncertainty.torch_linear import TorchLinear"
   ]
  },
  {
   "cell_type": "code",
   "execution_count": 4,
   "id": "a2b2ff13",
   "metadata": {},
   "outputs": [],
   "source": [
    "def MSE(y, yPred):\n",
    "    return np.mean((y - yPred)**2)"
   ]
  },
  {
   "cell_type": "code",
   "execution_count": 24,
   "id": "3b266980",
   "metadata": {},
   "outputs": [
    {
     "name": "stdout",
     "output_type": "stream",
     "text": [
      "0.948\n"
     ]
    }
   ],
   "source": [
    "numTrials = 1000\n",
    "covered = []\n",
    "\n",
    "beta = np.array([1])\n",
    "n = 100\n",
    "    \n",
    "for _ in range(numTrials):\n",
    "    # Get data\n",
    "    X, y = linearRegression_normal(beta=np.array(beta), cov=np.eye(len(beta)), sigma=1, n=n)\n",
    "\n",
    "    # Fit a model\n",
    "    LR = LinearRegression()\n",
    "    LR.fit(X, y)\n",
    "\n",
    "    nllBound = bootstrapGLRTcis(modelFn=LinearRegression,\n",
    "                                X=X,\n",
    "                                y=y,\n",
    "                                nllFn=MSE, \n",
    "                                alpha=0.05, \n",
    "                                replicates=1000)\n",
    "    \n",
    "    # Get the MSE of betaStar\n",
    "    yPredStar = np.dot(X, beta)\n",
    "    \n",
    "    covered.append(MSE(y, yPredStar) <= nllBound)\n",
    "\n",
    "print(np.mean(covered))"
   ]
  },
  {
   "cell_type": "code",
   "execution_count": 36,
   "id": "02e8b83c",
   "metadata": {},
   "outputs": [
    {
     "name": "stdout",
     "output_type": "stream",
     "text": [
      "0.75\n",
      "0.77\n"
     ]
    }
   ],
   "source": [
    "numTrials = 100\n",
    "\n",
    "beta = np.array([1])\n",
    "n = 100\n",
    "alpha = 0.2   # Use a much larger alpha so we don't have to run quite so many trials\n",
    "\n",
    "for modelFn in [LinearRegression, TorchLinear]:\n",
    "    covered = []\n",
    "    for _ in range(numTrials):\n",
    "        # Get data\n",
    "        X, y = linearRegression_normal(beta=np.array(beta), cov=np.eye(len(beta)), sigma=1, n=n)\n",
    "\n",
    "        # Fit a model\n",
    "        LR = modelFn()\n",
    "        LR.fit(X, y)\n",
    "\n",
    "        nllBound = bootstrapGLRTcis(modelFn=modelFn,\n",
    "                                    X=X,\n",
    "                                    y=y,\n",
    "                                    nllFn=MSE, \n",
    "                                    alpha=alpha, \n",
    "                                    replicates=100)\n",
    "\n",
    "        # Get the MSE of betaStar\n",
    "        yPredStar = np.dot(X, beta)\n",
    "\n",
    "        covered.append(MSE(y, yPredStar) <= nllBound)\n",
    "    \n",
    "    print(np.mean(covered))"
   ]
  },
  {
   "cell_type": "markdown",
   "id": "94dcdbb4",
   "metadata": {},
   "source": [
    "## Multi-dimensional beta"
   ]
  },
  {
   "cell_type": "code",
   "execution_count": 35,
   "id": "ef49a71e",
   "metadata": {},
   "outputs": [
    {
     "name": "stdout",
     "output_type": "stream",
     "text": [
      "d: 1\n",
      "n: 100\n",
      "replicates: 100\n",
      "coverage: 0.8\n",
      "===================\n",
      "d: 1\n",
      "n: 100\n",
      "replicates: 1000\n",
      "coverage: 0.775\n",
      "===================\n",
      "d: 1\n",
      "n: 1000\n",
      "replicates: 100\n",
      "coverage: 0.8\n",
      "===================\n",
      "d: 1\n",
      "n: 1000\n",
      "replicates: 1000\n",
      "coverage: 0.797\n",
      "===================\n",
      "d: 5\n",
      "n: 100\n",
      "replicates: 100\n",
      "coverage: 0.744\n",
      "===================\n",
      "d: 5\n",
      "n: 100\n",
      "replicates: 1000\n",
      "coverage: 0.743\n",
      "===================\n",
      "d: 5\n",
      "n: 1000\n",
      "replicates: 100\n",
      "coverage: 0.79\n",
      "===================\n",
      "d: 5\n",
      "n: 1000\n",
      "replicates: 1000\n",
      "coverage: 0.798\n",
      "===================\n",
      "d: 10\n",
      "n: 100\n",
      "replicates: 100\n",
      "coverage: 0.707\n",
      "===================\n",
      "d: 10\n",
      "n: 100\n",
      "replicates: 1000\n",
      "coverage: 0.69\n",
      "===================\n",
      "d: 10\n",
      "n: 1000\n",
      "replicates: 100\n",
      "coverage: 0.806\n",
      "===================\n",
      "d: 10\n",
      "n: 1000\n",
      "replicates: 1000\n",
      "coverage: 0.779\n",
      "===================\n"
     ]
    }
   ],
   "source": [
    "numTrials = 1000\n",
    "\n",
    "alpha = 0.2   # Use a much larger alpha so we don't have to run quite so many trials\n",
    "\n",
    "for d in [1, 5, 10]:\n",
    "    beta = np.zeros(d)\n",
    "    for n in [100, 1000]:\n",
    "        for replicates in [100, 1000]:\n",
    "            for modelFn in [LinearRegression]:#, TorchLinear]:\n",
    "                covered = []\n",
    "                for _ in range(numTrials):\n",
    "                    # Get data\n",
    "                    X, y = linearRegression_normal(beta=np.array(beta), cov=np.eye(len(beta)), sigma=1, n=n)\n",
    "\n",
    "                    # Fit a model\n",
    "                    LR = modelFn()\n",
    "                    LR.fit(X, y)\n",
    "\n",
    "                    nllBound = bootstrapGLRTcis(modelFn=modelFn,\n",
    "                                                X=X,\n",
    "                                                y=y,\n",
    "                                                nllFn=MSE, \n",
    "                                                alpha=alpha, \n",
    "                                                replicates=replicates)\n",
    "\n",
    "                    # Get the MSE of betaStar\n",
    "                    yPredStar = np.dot(X, beta)\n",
    "\n",
    "                    covered.append(MSE(y, yPredStar) <= nllBound)\n",
    "\n",
    "                print(\"d:\", d)\n",
    "                print(\"n:\", n)\n",
    "                print(\"replicates:\", replicates)\n",
    "                print(\"coverage:\", np.mean(covered))\n",
    "                print(\"===================\")"
   ]
  },
  {
   "cell_type": "code",
   "execution_count": null,
   "id": "d3484f86",
   "metadata": {},
   "outputs": [
    {
     "name": "stdout",
     "output_type": "stream",
     "text": [
      "d: 1\n",
      "n: 100\n",
      "replicates: 10000\n",
      "coverage: 0.792\n",
      "===================\n",
      "d: 1\n",
      "n: 1000\n",
      "replicates: 10000\n",
      "coverage: 0.814\n",
      "===================\n",
      "d: 5\n",
      "n: 100\n",
      "replicates: 10000\n",
      "coverage: 0.732\n",
      "===================\n",
      "d: 5\n",
      "n: 1000\n",
      "replicates: 10000\n",
      "coverage: 0.789\n",
      "===================\n",
      "d: 10\n",
      "n: 100\n",
      "replicates: 10000\n",
      "coverage: 0.681\n",
      "===================\n"
     ]
    }
   ],
   "source": [
    "numTrials = 1000\n",
    "\n",
    "alpha = 0.2   # Use a much larger alpha so we don't have to run quite so many trials\n",
    "\n",
    "for d in [1, 5, 10]:\n",
    "    beta = np.zeros(d)\n",
    "    for n in [100, 1000]:\n",
    "        for replicates in [10000]:\n",
    "            for modelFn in [LinearRegression]:#, TorchLinear]:\n",
    "                covered = []\n",
    "                for _ in range(numTrials):\n",
    "                    # Get data\n",
    "                    X, y = linearRegression_normal(beta=np.array(beta), cov=np.eye(len(beta)), sigma=1, n=n)\n",
    "\n",
    "                    # Fit a model\n",
    "                    LR = modelFn()\n",
    "                    LR.fit(X, y)\n",
    "\n",
    "                    nllBound = bootstrapGLRTcis(modelFn=modelFn,\n",
    "                                                X=X,\n",
    "                                                y=y,\n",
    "                                                nllFn=MSE, \n",
    "                                                alpha=alpha, \n",
    "                                                replicates=replicates)\n",
    "\n",
    "                    # Get the MSE of betaStar\n",
    "                    yPredStar = np.dot(X, beta)\n",
    "\n",
    "                    covered.append(MSE(y, yPredStar) <= nllBound)\n",
    "\n",
    "                print(\"d:\", d)\n",
    "                print(\"n:\", n)\n",
    "                print(\"replicates:\", replicates)\n",
    "                print(\"coverage:\", np.mean(covered))\n",
    "                print(\"===================\")"
   ]
  },
  {
   "cell_type": "code",
   "execution_count": null,
   "id": "6b6ba9be",
   "metadata": {},
   "outputs": [],
   "source": []
  }
 ],
 "metadata": {
  "kernelspec": {
   "display_name": "Python 3",
   "language": "python",
   "name": "python3"
  },
  "language_info": {
   "codemirror_mode": {
    "name": "ipython",
    "version": 3
   },
   "file_extension": ".py",
   "mimetype": "text/x-python",
   "name": "python",
   "nbconvert_exporter": "python",
   "pygments_lexer": "ipython3",
   "version": "3.9.4"
  }
 },
 "nbformat": 4,
 "nbformat_minor": 5
}
