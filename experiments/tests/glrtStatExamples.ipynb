{
 "cells": [
  {
   "cell_type": "markdown",
   "metadata": {},
   "source": [
    "# GLRT LLH Examples\n",
    "\n",
    "MSEs and CIs for Sklearn and Torch models should be similar"
   ]
  },
  {
   "cell_type": "code",
   "execution_count": 1,
   "metadata": {},
   "outputs": [],
   "source": [
    "import numpy as np\n",
    "import torch"
   ]
  },
  {
   "cell_type": "code",
   "execution_count": 2,
   "metadata": {},
   "outputs": [],
   "source": [
    "from uncertainty.glrt_stat import bootstrapGLRTcis\n",
    "from uncertainty.DataGeneration import default_data\n",
    "from uncertainty.torch_linear import TorchLinear"
   ]
  },
  {
   "cell_type": "code",
   "execution_count": 3,
   "metadata": {},
   "outputs": [],
   "source": [
    "X, y = default_data()"
   ]
  },
  {
   "cell_type": "code",
   "execution_count": 4,
   "metadata": {},
   "outputs": [],
   "source": [
    "from sklearn.linear_model import LinearRegression"
   ]
  },
  {
   "cell_type": "code",
   "execution_count": 5,
   "metadata": {},
   "outputs": [],
   "source": [
    "def MSE(y, yPred):\n",
    "    return np.mean((y - yPred)**2)"
   ]
  },
  {
   "cell_type": "markdown",
   "metadata": {},
   "source": [
    "### Sklearn"
   ]
  },
  {
   "cell_type": "code",
   "execution_count": 6,
   "metadata": {},
   "outputs": [
    {
     "name": "stdout",
     "output_type": "stream",
     "text": [
      "MSE: 0.934491878483949\n"
     ]
    }
   ],
   "source": [
    "LR = LinearRegression()\n",
    "LR.fit(X, y)\n",
    "yp = LR.predict(X)\n",
    "print(\"MSE:\", MSE(y, yp))"
   ]
  },
  {
   "cell_type": "code",
   "execution_count": 7,
   "metadata": {},
   "outputs": [
    {
     "name": "stdout",
     "output_type": "stream",
     "text": [
      "LCB: 0.7658775966751784\n"
     ]
    }
   ],
   "source": [
    "Xval, yVal = default_data()\n",
    "lcb_LR = bootstrapGLRTcis(LinearRegression, Xval, yVal, logLikFn=MSE, alpha=0.05, replicates=1000)\n",
    "print(\"LCB:\", lcb_LR)"
   ]
  },
  {
   "cell_type": "markdown",
   "metadata": {},
   "source": [
    "### Torch"
   ]
  },
  {
   "cell_type": "code",
   "execution_count": 8,
   "metadata": {},
   "outputs": [
    {
     "name": "stdout",
     "output_type": "stream",
     "text": [
      "MSE: 0.9344918667904898\n"
     ]
    }
   ],
   "source": [
    "TL = TorchLinear(lr=0.3,max_iter=30)\n",
    "TL.fit(X,y)\n",
    "yp = TL.predict(X)\n",
    "print(\"MSE:\", MSE(y, yp))"
   ]
  },
  {
   "cell_type": "code",
   "execution_count": 9,
   "metadata": {},
   "outputs": [
    {
     "name": "stdout",
     "output_type": "stream",
     "text": [
      "LCB: 0.7645102285543376\n"
     ]
    }
   ],
   "source": [
    "# This takes ~4min\n",
    "lcb_TL = bootstrapGLRTcis(lambda:TorchLinear(lr=0.3,max_iter=30), X=Xval, y=yVal, logLikFn=MSE, alpha=0.05, replicates=1000)\n",
    "print(\"LCB:\", lcb_TL)"
   ]
  },
  {
   "cell_type": "code",
   "execution_count": null,
   "metadata": {},
   "outputs": [],
   "source": []
  }
 ],
 "metadata": {
  "kernelspec": {
   "display_name": "Python 3",
   "language": "python",
   "name": "python3"
  },
  "language_info": {
   "codemirror_mode": {
    "name": "ipython",
    "version": 3
   },
   "file_extension": ".py",
   "mimetype": "text/x-python",
   "name": "python",
   "nbconvert_exporter": "python",
   "pygments_lexer": "ipython3",
   "version": "3.8.8"
  }
 },
 "nbformat": 4,
 "nbformat_minor": 4
}
