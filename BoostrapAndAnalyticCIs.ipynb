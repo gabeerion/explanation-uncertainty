{
 "cells": [
  {
   "cell_type": "code",
   "execution_count": 1,
   "id": "restricted-thought",
   "metadata": {},
   "outputs": [],
   "source": [
    "import numpy as np\n",
    "import torch\n",
    "from bootstrapCoefficients import bootstrapCis\n",
    "from analyticLinearRegressionCIs import analyticLinearCis\n",
    "from DataGeneration import default_data\n",
    "from sklearn.linear_model import LinearRegression\n",
    "from torch_linear import TorchLinear"
   ]
  },
  {
   "cell_type": "code",
   "execution_count": 2,
   "id": "multiple-launch",
   "metadata": {},
   "outputs": [],
   "source": [
    "X, y = default_data()"
   ]
  },
  {
   "cell_type": "code",
   "execution_count": 3,
   "id": "combined-malpractice",
   "metadata": {},
   "outputs": [
    {
     "name": "stdout",
     "output_type": "stream",
     "text": [
      "Coefficients: [0.930191   1.03848013]\n",
      "Bootstrapping\n",
      "Lower bounds: [0.79521775 0.87898595] \n",
      "Upper bounds: [1.06371874 1.1950077 ]\n",
      "Analytic solution\n",
      "Lower bounds: [0.7867876  0.88556858] \n",
      "Upper bounds: [1.07359439 1.19139169]\n"
     ]
    }
   ],
   "source": [
    "LR = LinearRegression()\n",
    "LR.fit(X, y)\n",
    "print(\"Coefficients:\", LR.coef_)\n",
    "\n",
    "print(\"Bootstrapping\")\n",
    "lcb_LR, ucb_LR = bootstrapCis(LinearRegression, X, y, alpha=0.05, replicates=1000)\n",
    "print(\"Lower bounds:\", lcb_LR, \"\\nUpper bounds:\", ucb_LR)\n",
    "\n",
    "print(\"Analytic solution\")\n",
    "lcb_LR_a, ucb_LR_a = analyticLinearCis(LR, X, y, alpha=0.05)\n",
    "print(\"Lower bounds:\", lcb_LR_a, \"\\nUpper bounds:\", ucb_LR_a)"
   ]
  },
  {
   "cell_type": "code",
   "execution_count": 4,
   "id": "great-christianity",
   "metadata": {},
   "outputs": [
    {
     "name": "stdout",
     "output_type": "stream",
     "text": [
      "Bootstrapping\n",
      "Lower bounds: [0.80575109 0.88677126] \n",
      "Upper bounds: [1.06291306 1.20051801]\n",
      "Analytic solution\n",
      "Lower bounds: [0.79458542 0.87648867] \n",
      "Upper bounds: [1.08140473 1.18232514]\n"
     ]
    }
   ],
   "source": [
    "TL = TorchLinear(lr=0.003)\n",
    "TL.fit(X,y)\n",
    "# Takes ~4min\n",
    "print(\"Bootstrapping\")\n",
    "lcb_TL, ucb_TL = bootstrapCis(lambda:TorchLinear(lr=0.003), X=X, y=y, alpha=0.05, replicates=1000)\n",
    "print(\"Lower bounds:\", lcb_TL, \"\\nUpper bounds:\", ucb_TL)\n",
    "\n",
    "print(\"Analytic solution\")\n",
    "lcb_TL_a, ucb_TL_a = analyticLinearCis(TL, X, y, alpha=0.05)\n",
    "print(\"Lower bounds:\", lcb_TL_a, \"\\nUpper bounds:\", ucb_TL_a)"
   ]
  },
  {
   "cell_type": "code",
   "execution_count": null,
   "id": "refined-imagination",
   "metadata": {},
   "outputs": [],
   "source": []
  }
 ],
 "metadata": {
  "kernelspec": {
   "display_name": "Python 3",
   "language": "python",
   "name": "python3"
  },
  "language_info": {
   "codemirror_mode": {
    "name": "ipython",
    "version": 3
   },
   "file_extension": ".py",
   "mimetype": "text/x-python",
   "name": "python",
   "nbconvert_exporter": "python",
   "pygments_lexer": "ipython3",
   "version": "3.8.8"
  }
 },
 "nbformat": 4,
 "nbformat_minor": 5
}
